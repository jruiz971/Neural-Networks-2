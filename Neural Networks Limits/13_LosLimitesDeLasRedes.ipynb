{
  "nbformat": 4,
  "nbformat_minor": 0,
  "metadata": {
    "kernelspec": {
      "display_name": "Python 3 (ipykernel)",
      "language": "python",
      "name": "python3"
    },
    "language_info": {
      "codemirror_mode": {
        "name": "ipython",
        "version": 3
      },
      "file_extension": ".py",
      "mimetype": "text/x-python",
      "name": "python",
      "nbconvert_exporter": "python",
      "pygments_lexer": "ipython3",
      "version": "3.9.6"
    },
    "colab": {
      "name": "13_LosLimitesDeLasRedes.ipynb",
      "provenance": []
    },
    "accelerator": "GPU"
  },
  "cells": [
    {
      "cell_type": "markdown",
      "metadata": {
        "id": "ClnACybdbyuX"
      },
      "source": [
        "# Los límites de las redes neuronales"
      ]
    },
    {
      "cell_type": "code",
      "metadata": {
        "id": "2OHHlKAdjwei",
        "colab": {
          "base_uri": "https://localhost:8080/"
        },
        "outputId": "39ebb659-998a-4b0f-dad8-e06b27f7cf00"
      },
      "source": [
        "!pip install -Uqq fastbook\n",
        "import fastbook\n",
        "fastbook.setup_book()"
      ],
      "execution_count": 2,
      "outputs": [
        {
          "output_type": "stream",
          "name": "stdout",
          "text": [
            "\u001b[K     |████████████████████████████████| 720 kB 4.0 MB/s \n",
            "\u001b[K     |████████████████████████████████| 186 kB 41.2 MB/s \n",
            "\u001b[K     |████████████████████████████████| 46 kB 4.3 MB/s \n",
            "\u001b[K     |████████████████████████████████| 1.2 MB 36.6 MB/s \n",
            "\u001b[K     |████████████████████████████████| 56 kB 4.0 MB/s \n",
            "\u001b[K     |████████████████████████████████| 51 kB 313 kB/s \n",
            "\u001b[?25hMounted at /content/gdrive\n"
          ]
        }
      ]
    },
    {
      "cell_type": "code",
      "metadata": {
        "id": "QNB4yai8byuf"
      },
      "source": [
        "import torch\n",
        "import torch.nn as nn\n",
        "import torch.nn.functional as F\n",
        "from torch.utils.data import DataLoader, Dataset\n",
        "import matplotlib.pyplot as plt\n",
        "import numpy as np\n",
        "import fastai.tabular.all as ft\n",
        "import random\n",
        "from math import sin,cos,tan,log,exp"
      ],
      "execution_count": 4,
      "outputs": []
    },
    {
      "cell_type": "code",
      "metadata": {
        "id": "QqlGxNgFbyul"
      },
      "source": [
        "class RealFuncDataset:\n",
        "    def __init__(self, a, b, c, d, f, n=1024*16):\n",
        "        self.a,self.b, self.c,self.d = a,b,c,d\n",
        "        self.f = f\n",
        "        self.n = n\n",
        "        \n",
        "    def __len__(self):\n",
        "        return self.n\n",
        "    \n",
        "    def __getitem__(self,i):\n",
        "        a,b,c,d, f = self.a, self.b, self.c, self.d, self.f\n",
        "        #Aleatoriamente elige uno de los dos intervalos.\n",
        "        if random.random() <= .5:\n",
        "          x = random.uniform(a,b)\n",
        "        else:\n",
        "          x = random.uniform(c,d)\n",
        "        # print(x)\n",
        "        return torch.tensor([x],dtype=torch.float32),torch.tensor([f(x)],dtype=torch.float32)"
      ],
      "execution_count": 48,
      "outputs": []
    },
    {
      "cell_type": "code",
      "metadata": {
        "id": "crTmzt1Cbyun"
      },
      "source": [
        "a,b = -5,-2\n",
        "c,d = 2,5\n",
        "f = np.sin"
      ],
      "execution_count": 49,
      "outputs": []
    },
    {
      "cell_type": "code",
      "metadata": {
        "id": "b24HRybkOARU"
      },
      "source": [
        "tmp =  RealFuncDataset(a,b,c,d,f)"
      ],
      "execution_count": 50,
      "outputs": []
    },
    {
      "cell_type": "code",
      "metadata": {
        "id": "LD46CYV9byuq"
      },
      "source": [
        "dls = ft.DataLoaders.from_dsets(RealFuncDataset(a,b,c,d,f), RealFuncDataset(a,b,c,d,f))\n",
        "#Los junta en un batch\n",
        "#Conoce el tamaño del batch"
      ],
      "execution_count": 52,
      "outputs": []
    },
    {
      "cell_type": "code",
      "metadata": {
        "id": "amhRitOKRPYi"
      },
      "source": [
        "ft.DataLoaders.from_dsets??"
      ],
      "execution_count": 61,
      "outputs": []
    },
    {
      "cell_type": "code",
      "metadata": {
        "id": "vCBbwzl-QXHW"
      },
      "source": [
        "dls.one_batch()"
      ],
      "execution_count": null,
      "outputs": []
    },
    {
      "cell_type": "code",
      "metadata": {
        "id": "K81Sg43Jbyuq"
      },
      "source": [
        "class Shaper(nn.Module):\n",
        "    def __init__(self, c):\n",
        "        super().__init__()\n",
        "        self.c = c\n",
        "    def forward(self, x):\n",
        "        return x.view(-1,self.c).float()"
      ],
      "execution_count": 55,
      "outputs": []
    },
    {
      "cell_type": "code",
      "metadata": {
        "id": "6rOZGYRhbyut"
      },
      "source": [
        "model = nn.Sequential(\n",
        "    Shaper(1),\n",
        "    nn.Linear(1,256),\n",
        "    nn.BatchNorm1d(256),\n",
        "    nn.ReLU(),\n",
        "    nn.Linear(256,256),\n",
        "    nn.BatchNorm1d(256),\n",
        "    nn.ReLU(),\n",
        "    nn.Linear(256,256),\n",
        "    nn.BatchNorm1d(256),\n",
        "    nn.ReLU(),\n",
        "    nn.Linear(256,256),\n",
        "    nn.BatchNorm1d(256),\n",
        "    nn.ReLU(),\n",
        "    nn.Linear(256,1)\n",
        ")"
      ],
      "execution_count": 56,
      "outputs": []
    },
    {
      "cell_type": "code",
      "metadata": {
        "id": "A2d2J3KUbyuz"
      },
      "source": [
        "learn = ft.Learner(dls,model,loss_func=ft.MSELossFlat(),opt_func=ft.ranger)"
      ],
      "execution_count": 57,
      "outputs": []
    },
    {
      "cell_type": "code",
      "metadata": {
        "id": "THwnxsfQbyu2",
        "colab": {
          "base_uri": "https://localhost:8080/",
          "height": 362
        },
        "outputId": "4c7aa312-e063-4ec2-b10d-1773ba92d90c"
      },
      "source": [
        "learn.fit_one_cycle(10,div=1,pct_start=0.5)"
      ],
      "execution_count": 58,
      "outputs": [
        {
          "output_type": "display_data",
          "data": {
            "text/html": [
              "<table border=\"1\" class=\"dataframe\">\n",
              "  <thead>\n",
              "    <tr style=\"text-align: left;\">\n",
              "      <th>epoch</th>\n",
              "      <th>train_loss</th>\n",
              "      <th>valid_loss</th>\n",
              "      <th>time</th>\n",
              "    </tr>\n",
              "  </thead>\n",
              "  <tbody>\n",
              "    <tr>\n",
              "      <td>0</td>\n",
              "      <td>0.022573</td>\n",
              "      <td>0.013832</td>\n",
              "      <td>00:06</td>\n",
              "    </tr>\n",
              "    <tr>\n",
              "      <td>1</td>\n",
              "      <td>0.018670</td>\n",
              "      <td>0.004974</td>\n",
              "      <td>00:05</td>\n",
              "    </tr>\n",
              "    <tr>\n",
              "      <td>2</td>\n",
              "      <td>0.021030</td>\n",
              "      <td>0.001755</td>\n",
              "      <td>00:05</td>\n",
              "    </tr>\n",
              "    <tr>\n",
              "      <td>3</td>\n",
              "      <td>0.017953</td>\n",
              "      <td>0.043077</td>\n",
              "      <td>00:05</td>\n",
              "    </tr>\n",
              "    <tr>\n",
              "      <td>4</td>\n",
              "      <td>0.020099</td>\n",
              "      <td>0.013380</td>\n",
              "      <td>00:05</td>\n",
              "    </tr>\n",
              "    <tr>\n",
              "      <td>5</td>\n",
              "      <td>0.015501</td>\n",
              "      <td>0.003264</td>\n",
              "      <td>00:06</td>\n",
              "    </tr>\n",
              "    <tr>\n",
              "      <td>6</td>\n",
              "      <td>0.016125</td>\n",
              "      <td>0.018594</td>\n",
              "      <td>00:05</td>\n",
              "    </tr>\n",
              "    <tr>\n",
              "      <td>7</td>\n",
              "      <td>0.012098</td>\n",
              "      <td>0.003043</td>\n",
              "      <td>00:05</td>\n",
              "    </tr>\n",
              "    <tr>\n",
              "      <td>8</td>\n",
              "      <td>0.012366</td>\n",
              "      <td>0.001914</td>\n",
              "      <td>00:05</td>\n",
              "    </tr>\n",
              "    <tr>\n",
              "      <td>9</td>\n",
              "      <td>0.010871</td>\n",
              "      <td>0.004711</td>\n",
              "      <td>00:05</td>\n",
              "    </tr>\n",
              "  </tbody>\n",
              "</table>"
            ],
            "text/plain": [
              "<IPython.core.display.HTML object>"
            ]
          },
          "metadata": {}
        }
      ]
    },
    {
      "cell_type": "code",
      "metadata": {
        "colab": {
          "base_uri": "https://localhost:8080/"
        },
        "id": "v72j_53Ebyu9",
        "outputId": "6a19a34d-7e01-4313-fcc4-c3ecf2ad89ed"
      },
      "source": [
        "learn.model.eval().cpu()"
      ],
      "execution_count": 62,
      "outputs": [
        {
          "output_type": "execute_result",
          "data": {
            "text/plain": [
              "Sequential(\n",
              "  (0): Shaper()\n",
              "  (1): Linear(in_features=1, out_features=256, bias=True)\n",
              "  (2): BatchNorm1d(256, eps=1e-05, momentum=0.1, affine=True, track_running_stats=True)\n",
              "  (3): ReLU()\n",
              "  (4): Linear(in_features=256, out_features=256, bias=True)\n",
              "  (5): BatchNorm1d(256, eps=1e-05, momentum=0.1, affine=True, track_running_stats=True)\n",
              "  (6): ReLU()\n",
              "  (7): Linear(in_features=256, out_features=256, bias=True)\n",
              "  (8): BatchNorm1d(256, eps=1e-05, momentum=0.1, affine=True, track_running_stats=True)\n",
              "  (9): ReLU()\n",
              "  (10): Linear(in_features=256, out_features=256, bias=True)\n",
              "  (11): BatchNorm1d(256, eps=1e-05, momentum=0.1, affine=True, track_running_stats=True)\n",
              "  (12): ReLU()\n",
              "  (13): Linear(in_features=256, out_features=1, bias=True)\n",
              ")"
            ]
          },
          "metadata": {},
          "execution_count": 62
        }
      ]
    },
    {
      "cell_type": "code",
      "metadata": {
        "id": "LhxxK5lTbyu_"
      },
      "source": [
        "x = torch.linspace(a,d,100)"
      ],
      "execution_count": 63,
      "outputs": []
    },
    {
      "cell_type": "code",
      "metadata": {
        "id": "l_zvlZdSbyu_"
      },
      "source": [
        "yp = learn.model(x)"
      ],
      "execution_count": 64,
      "outputs": []
    },
    {
      "cell_type": "code",
      "metadata": {
        "colab": {
          "base_uri": "https://localhost:8080/",
          "height": 268
        },
        "id": "4fvH8cp7byvB",
        "outputId": "07b444be-d36b-44cf-d19e-7532851a376e"
      },
      "source": [
        "x,yp = x.detach().numpy(), yp.detach().numpy()\n",
        "y = f(x)\n",
        "plt.plot(x,yp)\n",
        "plt.plot(x,y)\n",
        "plt.show()"
      ],
      "execution_count": 65,
      "outputs": [
        {
          "output_type": "display_data",
          "data": {
            "image/png": "[encoded data removed]",
            "text/plain": [
              "<Figure size 432x288 with 1 Axes>"
            ]
          },
          "metadata": {
            "needs_background": "light"
          }
        }
      ]
    },
    {
      "cell_type": "markdown",
      "metadata": {
        "id": "PlC2Qn9aSX3z"
      },
      "source": [
        "En el intervalo (-2,2) no tenemos datos para entrenar la red, por lo que se trata de ajustar, pero las predicciones no son buenas"
      ]
    }
  ]
}