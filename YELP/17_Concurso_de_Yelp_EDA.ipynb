{
  "nbformat": 4,
  "nbformat_minor": 0,
  "metadata": {
    "colab": {
      "name": "17 Concurso de Yelp EDA.ipynb",
      "provenance": [],
      "collapsed_sections": []
    },
    "kernelspec": {
      "name": "python3",
      "display_name": "Python 3"
    },
    "language_info": {
      "name": "python"
    },
    "accelerator": "TPU"
  },
  "cells": [
    {
      "cell_type": "code",
      "metadata": {
        "id": "mrfVl1z1I7ZG"
      },
      "source": [
        "import os\n",
        "from pathlib import Path\n",
        "import gc\n",
        "\n",
        "import random\n",
        "import numpy as np\n",
        "import pandas as pd\n",
        "\n",
        "import math\n",
        "\n",
        "from collections import defaultdict\n",
        "\n",
        "import warnings\n",
        "warnings.simplefilter(\"ignore\")"
      ],
      "execution_count": null,
      "outputs": []
    },
    {
      "cell_type": "code",
      "metadata": {
        "id": "QYs6SW-sKkbx",
        "colab": {
          "base_uri": "https://localhost:8080/",
          "height": 205
        },
        "outputId": "3419ab7c-9f25-4788-e031-b4fe7a3d291f"
      },
      "source": [
        "#Fillna for the values that hasn't label. Fill with empty string\n",
        "biz_label = pd.read_csv(\"train.csv\").fillna('')\n",
        "biz_label.head()"
      ],
      "execution_count": null,
      "outputs": [
        {
          "output_type": "execute_result",
          "data": {
            "text/html": [
              "<div>\n",
              "<style scoped>\n",
              "    .dataframe tbody tr th:only-of-type {\n",
              "        vertical-align: middle;\n",
              "    }\n",
              "\n",
              "    .dataframe tbody tr th {\n",
              "        vertical-align: top;\n",
              "    }\n",
              "\n",
              "    .dataframe thead th {\n",
              "        text-align: right;\n",
              "    }\n",
              "</style>\n",
              "<table border=\"1\" class=\"dataframe\">\n",
              "  <thead>\n",
              "    <tr style=\"text-align: right;\">\n",
              "      <th></th>\n",
              "      <th>business_id</th>\n",
              "      <th>labels</th>\n",
              "    </tr>\n",
              "  </thead>\n",
              "  <tbody>\n",
              "    <tr>\n",
              "      <th>0</th>\n",
              "      <td>1000</td>\n",
              "      <td>1 2 3 4 5 6 7</td>\n",
              "    </tr>\n",
              "    <tr>\n",
              "      <th>1</th>\n",
              "      <td>1001</td>\n",
              "      <td>0 1 6 8</td>\n",
              "    </tr>\n",
              "    <tr>\n",
              "      <th>2</th>\n",
              "      <td>100</td>\n",
              "      <td>1 2 4 5 6 7</td>\n",
              "    </tr>\n",
              "    <tr>\n",
              "      <th>3</th>\n",
              "      <td>1006</td>\n",
              "      <td>1 2 4 5 6</td>\n",
              "    </tr>\n",
              "    <tr>\n",
              "      <th>4</th>\n",
              "      <td>1010</td>\n",
              "      <td>0 6 8</td>\n",
              "    </tr>\n",
              "  </tbody>\n",
              "</table>\n",
              "</div>"
            ],
            "text/plain": [
              "   business_id         labels\n",
              "0         1000  1 2 3 4 5 6 7\n",
              "1         1001        0 1 6 8\n",
              "2          100    1 2 4 5 6 7\n",
              "3         1006      1 2 4 5 6\n",
              "4         1010          0 6 8"
            ]
          },
          "metadata": {},
          "execution_count": 3
        }
      ]
    },
    {
      "cell_type": "code",
      "metadata": {
        "id": "KYX84AVEL865",
        "colab": {
          "base_uri": "https://localhost:8080/",
          "height": 205
        },
        "outputId": "1c725801-160d-4cd1-dbc0-50a4f6fbf48d"
      },
      "source": [
        "photo_biz = pd.read_csv(\"train_photo_to_biz_ids.csv\")\n",
        "photo_biz.head()"
      ],
      "execution_count": null,
      "outputs": [
        {
          "output_type": "execute_result",
          "data": {
            "text/html": [
              "<div>\n",
              "<style scoped>\n",
              "    .dataframe tbody tr th:only-of-type {\n",
              "        vertical-align: middle;\n",
              "    }\n",
              "\n",
              "    .dataframe tbody tr th {\n",
              "        vertical-align: top;\n",
              "    }\n",
              "\n",
              "    .dataframe thead th {\n",
              "        text-align: right;\n",
              "    }\n",
              "</style>\n",
              "<table border=\"1\" class=\"dataframe\">\n",
              "  <thead>\n",
              "    <tr style=\"text-align: right;\">\n",
              "      <th></th>\n",
              "      <th>photo_id</th>\n",
              "      <th>business_id</th>\n",
              "    </tr>\n",
              "  </thead>\n",
              "  <tbody>\n",
              "    <tr>\n",
              "      <th>0</th>\n",
              "      <td>204149</td>\n",
              "      <td>3034</td>\n",
              "    </tr>\n",
              "    <tr>\n",
              "      <th>1</th>\n",
              "      <td>52779</td>\n",
              "      <td>2805</td>\n",
              "    </tr>\n",
              "    <tr>\n",
              "      <th>2</th>\n",
              "      <td>278973</td>\n",
              "      <td>485</td>\n",
              "    </tr>\n",
              "    <tr>\n",
              "      <th>3</th>\n",
              "      <td>195284</td>\n",
              "      <td>485</td>\n",
              "    </tr>\n",
              "    <tr>\n",
              "      <th>4</th>\n",
              "      <td>19992</td>\n",
              "      <td>485</td>\n",
              "    </tr>\n",
              "  </tbody>\n",
              "</table>\n",
              "</div>"
            ],
            "text/plain": [
              "   photo_id  business_id\n",
              "0    204149         3034\n",
              "1     52779         2805\n",
              "2    278973          485\n",
              "3    195284          485\n",
              "4     19992          485"
            ]
          },
          "metadata": {},
          "execution_count": 4
        }
      ]
    },
    {
      "cell_type": "code",
      "metadata": {
        "id": "WFVFCnZ_MLdI"
      },
      "source": [
        "bizs, labels = biz_label['business_id'], biz_label['labels']\n",
        "biz2label = {biz:label for biz, label in zip (bizs, labels)}"
      ],
      "execution_count": null,
      "outputs": []
    },
    {
      "cell_type": "code",
      "metadata": {
        "id": "cst58kbE6Nou",
        "colab": {
          "base_uri": "https://localhost:8080/"
        },
        "outputId": "f1c00da1-973a-470e-d4c5-e1a81c6a7158"
      },
      "source": [
        "bizzes = list(biz2label.keys())\n",
        "len(bizzes)"
      ],
      "execution_count": null,
      "outputs": [
        {
          "output_type": "execute_result",
          "data": {
            "text/plain": [
              "2000"
            ]
          },
          "metadata": {},
          "execution_count": 6
        }
      ]
    },
    {
      "cell_type": "code",
      "metadata": {
        "id": "hFCywq_J6XCs"
      },
      "source": [
        "photo2biz = {photo:biz for photo,biz in zip (photo_biz['photo_id'], photo_biz['business_id'])}"
      ],
      "execution_count": null,
      "outputs": []
    },
    {
      "cell_type": "markdown",
      "metadata": {
        "id": "BzXPe_MwXHMv"
      },
      "source": [
        "Queremos poder extraer, para cada restaurante, su lista de imágenes"
      ]
    },
    {
      "cell_type": "code",
      "metadata": {
        "id": "ruTYicGcWhkL"
      },
      "source": [
        "#Defaultdic porque hay registros que no tienen id de imagenes\n",
        "biz2photos = defaultdict(lambda: [])\n",
        "for img, biz in photo2biz.items():\n",
        "  biz2photos[biz].append(img)"
      ],
      "execution_count": null,
      "outputs": []
    },
    {
      "cell_type": "code",
      "metadata": {
        "colab": {
          "base_uri": "https://localhost:8080/"
        },
        "id": "0wdBKaVijoNV",
        "outputId": "1bfcae32-174e-4c44-8952-f3e4cd496ca7"
      },
      "source": [
        "biz2photos[3][:4]"
      ],
      "execution_count": null,
      "outputs": [
        {
          "output_type": "execute_result",
          "data": {
            "text/plain": [
              "[231210, 54476, 276530, 414322]"
            ]
          },
          "metadata": {},
          "execution_count": 9
        }
      ]
    },
    {
      "cell_type": "markdown",
      "metadata": {
        "id": "_nYu0h0_5dya"
      },
      "source": [
        "Vamos a crear una nueva pandas dataframe donde tengamos el nombre de la foto y las labels que le corresponden al restaurante respectivo. Usando  apply"
      ]
    },
    {
      "cell_type": "code",
      "metadata": {
        "id": "Np4QFnam5ZnA",
        "colab": {
          "base_uri": "https://localhost:8080/",
          "height": 205
        },
        "outputId": "7d60ce16-3451-4dd4-95de-0687b2767af9"
      },
      "source": [
        "photo_label= photo_biz.copy()\n",
        "photo_label['labels'] = photo_label.business_id.apply(lambda x: biz2label[x])\n",
        "photo_label.head()"
      ],
      "execution_count": null,
      "outputs": [
        {
          "output_type": "execute_result",
          "data": {
            "text/html": [
              "<div>\n",
              "<style scoped>\n",
              "    .dataframe tbody tr th:only-of-type {\n",
              "        vertical-align: middle;\n",
              "    }\n",
              "\n",
              "    .dataframe tbody tr th {\n",
              "        vertical-align: top;\n",
              "    }\n",
              "\n",
              "    .dataframe thead th {\n",
              "        text-align: right;\n",
              "    }\n",
              "</style>\n",
              "<table border=\"1\" class=\"dataframe\">\n",
              "  <thead>\n",
              "    <tr style=\"text-align: right;\">\n",
              "      <th></th>\n",
              "      <th>photo_id</th>\n",
              "      <th>business_id</th>\n",
              "      <th>labels</th>\n",
              "    </tr>\n",
              "  </thead>\n",
              "  <tbody>\n",
              "    <tr>\n",
              "      <th>0</th>\n",
              "      <td>204149</td>\n",
              "      <td>3034</td>\n",
              "      <td>3 8</td>\n",
              "    </tr>\n",
              "    <tr>\n",
              "      <th>1</th>\n",
              "      <td>52779</td>\n",
              "      <td>2805</td>\n",
              "      <td>1 2 3 5 6 7</td>\n",
              "    </tr>\n",
              "    <tr>\n",
              "      <th>2</th>\n",
              "      <td>278973</td>\n",
              "      <td>485</td>\n",
              "      <td>1 2 3 4 5 6 7</td>\n",
              "    </tr>\n",
              "    <tr>\n",
              "      <th>3</th>\n",
              "      <td>195284</td>\n",
              "      <td>485</td>\n",
              "      <td>1 2 3 4 5 6 7</td>\n",
              "    </tr>\n",
              "    <tr>\n",
              "      <th>4</th>\n",
              "      <td>19992</td>\n",
              "      <td>485</td>\n",
              "      <td>1 2 3 4 5 6 7</td>\n",
              "    </tr>\n",
              "  </tbody>\n",
              "</table>\n",
              "</div>"
            ],
            "text/plain": [
              "   photo_id  business_id         labels\n",
              "0    204149         3034            3 8\n",
              "1     52779         2805    1 2 3 5 6 7\n",
              "2    278973          485  1 2 3 4 5 6 7\n",
              "3    195284          485  1 2 3 4 5 6 7\n",
              "4     19992          485  1 2 3 4 5 6 7"
            ]
          },
          "metadata": {},
          "execution_count": 94
        }
      ]
    },
    {
      "cell_type": "code",
      "metadata": {
        "colab": {
          "base_uri": "https://localhost:8080/"
        },
        "id": "9Y1e0lJcmPod",
        "outputId": "0a83e44d-7c31-4577-dd56-b7465102753c"
      },
      "source": [
        "len(photo_label['business_id'].unique())"
      ],
      "execution_count": null,
      "outputs": [
        {
          "output_type": "execute_result",
          "data": {
            "text/plain": [
              "2000"
            ]
          },
          "metadata": {},
          "execution_count": 96
        }
      ]
    },
    {
      "cell_type": "code",
      "metadata": {
        "id": "oJzs4soy6Gvc",
        "colab": {
          "base_uri": "https://localhost:8080/",
          "height": 205
        },
        "outputId": "a7300052-5474-43dc-88d3-75d67f6a0b0c"
      },
      "source": [
        "photo_label.drop('business_id',1, inplace=True)\n",
        "photo_label.head()"
      ],
      "execution_count": null,
      "outputs": [
        {
          "output_type": "execute_result",
          "data": {
            "text/html": [
              "<div>\n",
              "<style scoped>\n",
              "    .dataframe tbody tr th:only-of-type {\n",
              "        vertical-align: middle;\n",
              "    }\n",
              "\n",
              "    .dataframe tbody tr th {\n",
              "        vertical-align: top;\n",
              "    }\n",
              "\n",
              "    .dataframe thead th {\n",
              "        text-align: right;\n",
              "    }\n",
              "</style>\n",
              "<table border=\"1\" class=\"dataframe\">\n",
              "  <thead>\n",
              "    <tr style=\"text-align: right;\">\n",
              "      <th></th>\n",
              "      <th>photo_id</th>\n",
              "      <th>labels</th>\n",
              "    </tr>\n",
              "  </thead>\n",
              "  <tbody>\n",
              "    <tr>\n",
              "      <th>0</th>\n",
              "      <td>204149</td>\n",
              "      <td>3 8</td>\n",
              "    </tr>\n",
              "    <tr>\n",
              "      <th>1</th>\n",
              "      <td>52779</td>\n",
              "      <td>1 2 3 5 6 7</td>\n",
              "    </tr>\n",
              "    <tr>\n",
              "      <th>2</th>\n",
              "      <td>278973</td>\n",
              "      <td>1 2 3 4 5 6 7</td>\n",
              "    </tr>\n",
              "    <tr>\n",
              "      <th>3</th>\n",
              "      <td>195284</td>\n",
              "      <td>1 2 3 4 5 6 7</td>\n",
              "    </tr>\n",
              "    <tr>\n",
              "      <th>4</th>\n",
              "      <td>19992</td>\n",
              "      <td>1 2 3 4 5 6 7</td>\n",
              "    </tr>\n",
              "  </tbody>\n",
              "</table>\n",
              "</div>"
            ],
            "text/plain": [
              "   photo_id         labels\n",
              "0    204149            3 8\n",
              "1     52779    1 2 3 5 6 7\n",
              "2    278973  1 2 3 4 5 6 7\n",
              "3    195284  1 2 3 4 5 6 7\n",
              "4     19992  1 2 3 4 5 6 7"
            ]
          },
          "metadata": {},
          "execution_count": 11
        }
      ]
    },
    {
      "cell_type": "markdown",
      "metadata": {
        "id": "TG7jMHKQkHFO"
      },
      "source": [
        "# Tarea\n",
        "## Para cada posible label, ¿qué porcentaje de los restaurantes tienen labels?"
      ]
    },
    {
      "cell_type": "code",
      "metadata": {
        "id": "8st9yfR8s_Rf"
      },
      "source": [
        "for i in range (9):\n",
        "  photo_label[i] = 0"
      ],
      "execution_count": null,
      "outputs": []
    },
    {
      "cell_type": "code",
      "metadata": {
        "id": "ziC9U5gJyd5Z"
      },
      "source": [
        "for index, row in photo_label.iterrows():\n",
        "  labels_aux = row['labels'].split()\n",
        "  for col_label in labels_aux:\n",
        "    photo_label.loc[index,int(col_label)] = 1"
      ],
      "execution_count": null,
      "outputs": []
    },
    {
      "cell_type": "code",
      "metadata": {
        "id": "eObuj99_0XZ0"
      },
      "source": [
        "photo_label.to_csv('photo_label__encoder.csv')"
      ],
      "execution_count": null,
      "outputs": []
    },
    {
      "cell_type": "code",
      "metadata": {
        "id": "u1WmZNW1VZyW"
      },
      "source": [
        "import pandas as pd"
      ],
      "execution_count": 3,
      "outputs": []
    },
    {
      "cell_type": "code",
      "metadata": {
        "id": "cY4hVa7G0Br_"
      },
      "source": [
        "photo_label_enocoded = pd.read_csv('photo_label__encoder.csv')"
      ],
      "execution_count": 25,
      "outputs": []
    },
    {
      "cell_type": "code",
      "metadata": {
        "id": "CLpb1GIwdxyp"
      },
      "source": [
        "photo_label_enocoded.drop('Unnamed: 0', 1, inplace=True)"
      ],
      "execution_count": 26,
      "outputs": []
    },
    {
      "cell_type": "code",
      "metadata": {
        "colab": {
          "base_uri": "https://localhost:8080/",
          "height": 424
        },
        "id": "jGzlUX9Wd76I",
        "outputId": "7a6e7a04-5165-4232-b76e-e570cff30940"
      },
      "source": [
        "photo_label_enocoded"
      ],
      "execution_count": 27,
      "outputs": [
        {
          "output_type": "execute_result",
          "data": {
            "text/html": [
              "<div>\n",
              "<style scoped>\n",
              "    .dataframe tbody tr th:only-of-type {\n",
              "        vertical-align: middle;\n",
              "    }\n",
              "\n",
              "    .dataframe tbody tr th {\n",
              "        vertical-align: top;\n",
              "    }\n",
              "\n",
              "    .dataframe thead th {\n",
              "        text-align: right;\n",
              "    }\n",
              "</style>\n",
              "<table border=\"1\" class=\"dataframe\">\n",
              "  <thead>\n",
              "    <tr style=\"text-align: right;\">\n",
              "      <th></th>\n",
              "      <th>photo_id</th>\n",
              "      <th>business_id</th>\n",
              "      <th>labels</th>\n",
              "      <th>0</th>\n",
              "      <th>1</th>\n",
              "      <th>2</th>\n",
              "      <th>3</th>\n",
              "      <th>4</th>\n",
              "      <th>5</th>\n",
              "      <th>6</th>\n",
              "      <th>7</th>\n",
              "      <th>8</th>\n",
              "    </tr>\n",
              "  </thead>\n",
              "  <tbody>\n",
              "    <tr>\n",
              "      <th>0</th>\n",
              "      <td>204149</td>\n",
              "      <td>3034</td>\n",
              "      <td>3 8</td>\n",
              "      <td>0</td>\n",
              "      <td>0</td>\n",
              "      <td>0</td>\n",
              "      <td>1</td>\n",
              "      <td>0</td>\n",
              "      <td>0</td>\n",
              "      <td>0</td>\n",
              "      <td>0</td>\n",
              "      <td>1</td>\n",
              "    </tr>\n",
              "    <tr>\n",
              "      <th>1</th>\n",
              "      <td>52779</td>\n",
              "      <td>2805</td>\n",
              "      <td>1 2 3 5 6 7</td>\n",
              "      <td>0</td>\n",
              "      <td>1</td>\n",
              "      <td>1</td>\n",
              "      <td>1</td>\n",
              "      <td>0</td>\n",
              "      <td>1</td>\n",
              "      <td>1</td>\n",
              "      <td>1</td>\n",
              "      <td>0</td>\n",
              "    </tr>\n",
              "    <tr>\n",
              "      <th>2</th>\n",
              "      <td>278973</td>\n",
              "      <td>485</td>\n",
              "      <td>1 2 3 4 5 6 7</td>\n",
              "      <td>0</td>\n",
              "      <td>1</td>\n",
              "      <td>1</td>\n",
              "      <td>1</td>\n",
              "      <td>1</td>\n",
              "      <td>1</td>\n",
              "      <td>1</td>\n",
              "      <td>1</td>\n",
              "      <td>0</td>\n",
              "    </tr>\n",
              "    <tr>\n",
              "      <th>3</th>\n",
              "      <td>195284</td>\n",
              "      <td>485</td>\n",
              "      <td>1 2 3 4 5 6 7</td>\n",
              "      <td>0</td>\n",
              "      <td>1</td>\n",
              "      <td>1</td>\n",
              "      <td>1</td>\n",
              "      <td>1</td>\n",
              "      <td>1</td>\n",
              "      <td>1</td>\n",
              "      <td>1</td>\n",
              "      <td>0</td>\n",
              "    </tr>\n",
              "    <tr>\n",
              "      <th>4</th>\n",
              "      <td>19992</td>\n",
              "      <td>485</td>\n",
              "      <td>1 2 3 4 5 6 7</td>\n",
              "      <td>0</td>\n",
              "      <td>1</td>\n",
              "      <td>1</td>\n",
              "      <td>1</td>\n",
              "      <td>1</td>\n",
              "      <td>1</td>\n",
              "      <td>1</td>\n",
              "      <td>1</td>\n",
              "      <td>0</td>\n",
              "    </tr>\n",
              "    <tr>\n",
              "      <th>...</th>\n",
              "      <td>...</td>\n",
              "      <td>...</td>\n",
              "      <td>...</td>\n",
              "      <td>...</td>\n",
              "      <td>...</td>\n",
              "      <td>...</td>\n",
              "      <td>...</td>\n",
              "      <td>...</td>\n",
              "      <td>...</td>\n",
              "      <td>...</td>\n",
              "      <td>...</td>\n",
              "      <td>...</td>\n",
              "    </tr>\n",
              "    <tr>\n",
              "      <th>234837</th>\n",
              "      <td>325414</td>\n",
              "      <td>496</td>\n",
              "      <td>1 4 5 6 7</td>\n",
              "      <td>0</td>\n",
              "      <td>1</td>\n",
              "      <td>0</td>\n",
              "      <td>0</td>\n",
              "      <td>1</td>\n",
              "      <td>1</td>\n",
              "      <td>1</td>\n",
              "      <td>1</td>\n",
              "      <td>0</td>\n",
              "    </tr>\n",
              "    <tr>\n",
              "      <th>234838</th>\n",
              "      <td>301030</td>\n",
              "      <td>3565</td>\n",
              "      <td>1 2 5 6</td>\n",
              "      <td>0</td>\n",
              "      <td>1</td>\n",
              "      <td>1</td>\n",
              "      <td>0</td>\n",
              "      <td>0</td>\n",
              "      <td>1</td>\n",
              "      <td>1</td>\n",
              "      <td>0</td>\n",
              "      <td>0</td>\n",
              "    </tr>\n",
              "    <tr>\n",
              "      <th>234839</th>\n",
              "      <td>355839</td>\n",
              "      <td>1875</td>\n",
              "      <td>1 2 5 6 7 8</td>\n",
              "      <td>0</td>\n",
              "      <td>1</td>\n",
              "      <td>1</td>\n",
              "      <td>0</td>\n",
              "      <td>0</td>\n",
              "      <td>1</td>\n",
              "      <td>1</td>\n",
              "      <td>1</td>\n",
              "      <td>1</td>\n",
              "    </tr>\n",
              "    <tr>\n",
              "      <th>234840</th>\n",
              "      <td>20474</td>\n",
              "      <td>3888</td>\n",
              "      <td>0 1 2 3 5 6 7 8</td>\n",
              "      <td>1</td>\n",
              "      <td>1</td>\n",
              "      <td>1</td>\n",
              "      <td>1</td>\n",
              "      <td>0</td>\n",
              "      <td>1</td>\n",
              "      <td>1</td>\n",
              "      <td>1</td>\n",
              "      <td>1</td>\n",
              "    </tr>\n",
              "    <tr>\n",
              "      <th>234841</th>\n",
              "      <td>263884</td>\n",
              "      <td>3888</td>\n",
              "      <td>0 1 2 3 5 6 7 8</td>\n",
              "      <td>1</td>\n",
              "      <td>1</td>\n",
              "      <td>1</td>\n",
              "      <td>1</td>\n",
              "      <td>0</td>\n",
              "      <td>1</td>\n",
              "      <td>1</td>\n",
              "      <td>1</td>\n",
              "      <td>1</td>\n",
              "    </tr>\n",
              "  </tbody>\n",
              "</table>\n",
              "<p>234842 rows × 12 columns</p>\n",
              "</div>"
            ],
            "text/plain": [
              "        photo_id  business_id           labels  0  1  2  3  4  5  6  7  8\n",
              "0         204149         3034              3 8  0  0  0  1  0  0  0  0  1\n",
              "1          52779         2805      1 2 3 5 6 7  0  1  1  1  0  1  1  1  0\n",
              "2         278973          485    1 2 3 4 5 6 7  0  1  1  1  1  1  1  1  0\n",
              "3         195284          485    1 2 3 4 5 6 7  0  1  1  1  1  1  1  1  0\n",
              "4          19992          485    1 2 3 4 5 6 7  0  1  1  1  1  1  1  1  0\n",
              "...          ...          ...              ... .. .. .. .. .. .. .. .. ..\n",
              "234837    325414          496        1 4 5 6 7  0  1  0  0  1  1  1  1  0\n",
              "234838    301030         3565          1 2 5 6  0  1  1  0  0  1  1  0  0\n",
              "234839    355839         1875      1 2 5 6 7 8  0  1  1  0  0  1  1  1  1\n",
              "234840     20474         3888  0 1 2 3 5 6 7 8  1  1  1  1  0  1  1  1  1\n",
              "234841    263884         3888  0 1 2 3 5 6 7 8  1  1  1  1  0  1  1  1  1\n",
              "\n",
              "[234842 rows x 12 columns]"
            ]
          },
          "metadata": {},
          "execution_count": 27
        }
      ]
    },
    {
      "cell_type": "code",
      "metadata": {
        "id": "YfLLS4PC0FJX"
      },
      "source": [
        "photo_label_grouped = photo_label_enocoded.groupby('business_id').sum()"
      ],
      "execution_count": 28,
      "outputs": []
    },
    {
      "cell_type": "markdown",
      "metadata": {
        "id": "Mxu1apey7bz6"
      },
      "source": [
        "¿Qué porcentage de los restaurantes tienen label?\n"
      ]
    },
    {
      "cell_type": "code",
      "metadata": {
        "id": "msJDvPbf7bV8"
      },
      "source": [
        "porcentages = []\n",
        "N = len(photo_label_grouped)\n",
        "for i in range(9):\n",
        "  porcentages.append(len(photo_label_grouped[photo_label_grouped[str(i)]!=0])*100/N)"
      ],
      "execution_count": 29,
      "outputs": []
    },
    {
      "cell_type": "code",
      "metadata": {
        "id": "sxDcGla-9yQ7"
      },
      "source": [
        "import matplotlib.pyplot as plt\n",
        "import numpy as np"
      ],
      "execution_count": 30,
      "outputs": []
    },
    {
      "cell_type": "code",
      "metadata": {
        "colab": {
          "base_uri": "https://localhost:8080/",
          "height": 450
        },
        "id": "bhXu3hz3846W",
        "outputId": "ed6cd20a-e13c-46f6-c119-671cfe0bece1"
      },
      "source": [
        "x = np.arange(len(porcentages))\n",
        "for i in range (len(porcentages)):\n",
        "  plt.bar(i, porcentages[i], label=porcentages[i])\n",
        "plt.xticks(x, x)\n",
        "plt.ylabel('Porcentage')\n",
        "plt.xlabel('Label')\n",
        "plt.title('¿Qué porcentage de los restaurantes tienen labels?')\n",
        "#plt.legend()\n",
        "for i in range(len(porcentages)):\n",
        "  print(f'Label: {i} -- Porcentage: {porcentages[i]}%')"
      ],
      "execution_count": 31,
      "outputs": [
        {
          "output_type": "stream",
          "name": "stdout",
          "text": [
            "Label: 0 -- Porcentage: 33.55%\n",
            "Label: 1 -- Porcentage: 49.65%\n",
            "Label: 2 -- Porcentage: 51.3%\n",
            "Label: 3 -- Porcentage: 50.15%\n",
            "Label: 4 -- Porcentage: 27.35%\n",
            "Label: 5 -- Porcentage: 62.45%\n",
            "Label: 6 -- Porcentage: 68.0%\n",
            "Label: 7 -- Porcentage: 28.6%\n",
            "Label: 8 -- Porcentage: 61.9%\n"
          ]
        },
        {
          "output_type": "display_data",
          "data": {
            "image/png": "[encoded data removed]",
            "text/plain": [
              "<Figure size 432x288 with 1 Axes>"
            ]
          },
          "metadata": {
            "needs_background": "light"
          }
        }
      ]
    },
    {
      "cell_type": "markdown",
      "metadata": {
        "id": "VNRWSA6ue7q2"
      },
      "source": [
        "# Baseline"
      ]
    },
    {
      "cell_type": "code",
      "metadata": {
        "id": "SaaOIeYbe_MR"
      },
      "source": [
        "labels_baseline = ['2','3','5','6','8']"
      ],
      "execution_count": 42,
      "outputs": []
    },
    {
      "cell_type": "code",
      "metadata": {
        "id": "iTgkDNytYypz"
      },
      "source": [
        "photo_label_enocoded['labels_baseline']= [labels_baseline]*len(photo_label_enocoded)"
      ],
      "execution_count": 39,
      "outputs": []
    },
    {
      "cell_type": "code",
      "metadata": {
        "colab": {
          "base_uri": "https://localhost:8080/",
          "height": 424
        },
        "id": "IHO6VunMYbp0",
        "outputId": "7e45f9ec-3af2-4aab-8934-e4d74c505d00"
      },
      "source": [
        "photo_label_enocoded['f1'] =0\n",
        "photo_label_enocoded"
      ],
      "execution_count": 54,
      "outputs": [
        {
          "output_type": "execute_result",
          "data": {
            "text/html": [
              "<div>\n",
              "<style scoped>\n",
              "    .dataframe tbody tr th:only-of-type {\n",
              "        vertical-align: middle;\n",
              "    }\n",
              "\n",
              "    .dataframe tbody tr th {\n",
              "        vertical-align: top;\n",
              "    }\n",
              "\n",
              "    .dataframe thead th {\n",
              "        text-align: right;\n",
              "    }\n",
              "</style>\n",
              "<table border=\"1\" class=\"dataframe\">\n",
              "  <thead>\n",
              "    <tr style=\"text-align: right;\">\n",
              "      <th></th>\n",
              "      <th>photo_id</th>\n",
              "      <th>business_id</th>\n",
              "      <th>labels</th>\n",
              "      <th>0</th>\n",
              "      <th>1</th>\n",
              "      <th>2</th>\n",
              "      <th>3</th>\n",
              "      <th>4</th>\n",
              "      <th>5</th>\n",
              "      <th>6</th>\n",
              "      <th>7</th>\n",
              "      <th>8</th>\n",
              "      <th>labels_baseline</th>\n",
              "      <th>f1</th>\n",
              "    </tr>\n",
              "  </thead>\n",
              "  <tbody>\n",
              "    <tr>\n",
              "      <th>0</th>\n",
              "      <td>204149</td>\n",
              "      <td>3034</td>\n",
              "      <td>3 8</td>\n",
              "      <td>0</td>\n",
              "      <td>0</td>\n",
              "      <td>0</td>\n",
              "      <td>1</td>\n",
              "      <td>0</td>\n",
              "      <td>0</td>\n",
              "      <td>0</td>\n",
              "      <td>0</td>\n",
              "      <td>1</td>\n",
              "      <td>[2, 3, 5, 6, 8]</td>\n",
              "      <td>0</td>\n",
              "    </tr>\n",
              "    <tr>\n",
              "      <th>1</th>\n",
              "      <td>52779</td>\n",
              "      <td>2805</td>\n",
              "      <td>1 2 3 5 6 7</td>\n",
              "      <td>0</td>\n",
              "      <td>1</td>\n",
              "      <td>1</td>\n",
              "      <td>1</td>\n",
              "      <td>0</td>\n",
              "      <td>1</td>\n",
              "      <td>1</td>\n",
              "      <td>1</td>\n",
              "      <td>0</td>\n",
              "      <td>[2, 3, 5, 6, 8]</td>\n",
              "      <td>0</td>\n",
              "    </tr>\n",
              "    <tr>\n",
              "      <th>2</th>\n",
              "      <td>278973</td>\n",
              "      <td>485</td>\n",
              "      <td>1 2 3 4 5 6 7</td>\n",
              "      <td>0</td>\n",
              "      <td>1</td>\n",
              "      <td>1</td>\n",
              "      <td>1</td>\n",
              "      <td>1</td>\n",
              "      <td>1</td>\n",
              "      <td>1</td>\n",
              "      <td>1</td>\n",
              "      <td>0</td>\n",
              "      <td>[2, 3, 5, 6, 8]</td>\n",
              "      <td>0</td>\n",
              "    </tr>\n",
              "    <tr>\n",
              "      <th>3</th>\n",
              "      <td>195284</td>\n",
              "      <td>485</td>\n",
              "      <td>1 2 3 4 5 6 7</td>\n",
              "      <td>0</td>\n",
              "      <td>1</td>\n",
              "      <td>1</td>\n",
              "      <td>1</td>\n",
              "      <td>1</td>\n",
              "      <td>1</td>\n",
              "      <td>1</td>\n",
              "      <td>1</td>\n",
              "      <td>0</td>\n",
              "      <td>[2, 3, 5, 6, 8]</td>\n",
              "      <td>0</td>\n",
              "    </tr>\n",
              "    <tr>\n",
              "      <th>4</th>\n",
              "      <td>19992</td>\n",
              "      <td>485</td>\n",
              "      <td>1 2 3 4 5 6 7</td>\n",
              "      <td>0</td>\n",
              "      <td>1</td>\n",
              "      <td>1</td>\n",
              "      <td>1</td>\n",
              "      <td>1</td>\n",
              "      <td>1</td>\n",
              "      <td>1</td>\n",
              "      <td>1</td>\n",
              "      <td>0</td>\n",
              "      <td>[2, 3, 5, 6, 8]</td>\n",
              "      <td>0</td>\n",
              "    </tr>\n",
              "    <tr>\n",
              "      <th>...</th>\n",
              "      <td>...</td>\n",
              "      <td>...</td>\n",
              "      <td>...</td>\n",
              "      <td>...</td>\n",
              "      <td>...</td>\n",
              "      <td>...</td>\n",
              "      <td>...</td>\n",
              "      <td>...</td>\n",
              "      <td>...</td>\n",
              "      <td>...</td>\n",
              "      <td>...</td>\n",
              "      <td>...</td>\n",
              "      <td>...</td>\n",
              "      <td>...</td>\n",
              "    </tr>\n",
              "    <tr>\n",
              "      <th>234837</th>\n",
              "      <td>325414</td>\n",
              "      <td>496</td>\n",
              "      <td>1 4 5 6 7</td>\n",
              "      <td>0</td>\n",
              "      <td>1</td>\n",
              "      <td>0</td>\n",
              "      <td>0</td>\n",
              "      <td>1</td>\n",
              "      <td>1</td>\n",
              "      <td>1</td>\n",
              "      <td>1</td>\n",
              "      <td>0</td>\n",
              "      <td>[2, 3, 5, 6, 8]</td>\n",
              "      <td>0</td>\n",
              "    </tr>\n",
              "    <tr>\n",
              "      <th>234838</th>\n",
              "      <td>301030</td>\n",
              "      <td>3565</td>\n",
              "      <td>1 2 5 6</td>\n",
              "      <td>0</td>\n",
              "      <td>1</td>\n",
              "      <td>1</td>\n",
              "      <td>0</td>\n",
              "      <td>0</td>\n",
              "      <td>1</td>\n",
              "      <td>1</td>\n",
              "      <td>0</td>\n",
              "      <td>0</td>\n",
              "      <td>[2, 3, 5, 6, 8]</td>\n",
              "      <td>0</td>\n",
              "    </tr>\n",
              "    <tr>\n",
              "      <th>234839</th>\n",
              "      <td>355839</td>\n",
              "      <td>1875</td>\n",
              "      <td>1 2 5 6 7 8</td>\n",
              "      <td>0</td>\n",
              "      <td>1</td>\n",
              "      <td>1</td>\n",
              "      <td>0</td>\n",
              "      <td>0</td>\n",
              "      <td>1</td>\n",
              "      <td>1</td>\n",
              "      <td>1</td>\n",
              "      <td>1</td>\n",
              "      <td>[2, 3, 5, 6, 8]</td>\n",
              "      <td>0</td>\n",
              "    </tr>\n",
              "    <tr>\n",
              "      <th>234840</th>\n",
              "      <td>20474</td>\n",
              "      <td>3888</td>\n",
              "      <td>0 1 2 3 5 6 7 8</td>\n",
              "      <td>1</td>\n",
              "      <td>1</td>\n",
              "      <td>1</td>\n",
              "      <td>1</td>\n",
              "      <td>0</td>\n",
              "      <td>1</td>\n",
              "      <td>1</td>\n",
              "      <td>1</td>\n",
              "      <td>1</td>\n",
              "      <td>[2, 3, 5, 6, 8]</td>\n",
              "      <td>0</td>\n",
              "    </tr>\n",
              "    <tr>\n",
              "      <th>234841</th>\n",
              "      <td>263884</td>\n",
              "      <td>3888</td>\n",
              "      <td>0 1 2 3 5 6 7 8</td>\n",
              "      <td>1</td>\n",
              "      <td>1</td>\n",
              "      <td>1</td>\n",
              "      <td>1</td>\n",
              "      <td>0</td>\n",
              "      <td>1</td>\n",
              "      <td>1</td>\n",
              "      <td>1</td>\n",
              "      <td>1</td>\n",
              "      <td>[2, 3, 5, 6, 8]</td>\n",
              "      <td>0</td>\n",
              "    </tr>\n",
              "  </tbody>\n",
              "</table>\n",
              "<p>234842 rows × 14 columns</p>\n",
              "</div>"
            ],
            "text/plain": [
              "        photo_id  business_id           labels  0  ...  7  8  labels_baseline  f1\n",
              "0         204149         3034              3 8  0  ...  0  1  [2, 3, 5, 6, 8]   0\n",
              "1          52779         2805      1 2 3 5 6 7  0  ...  1  0  [2, 3, 5, 6, 8]   0\n",
              "2         278973          485    1 2 3 4 5 6 7  0  ...  1  0  [2, 3, 5, 6, 8]   0\n",
              "3         195284          485    1 2 3 4 5 6 7  0  ...  1  0  [2, 3, 5, 6, 8]   0\n",
              "4          19992          485    1 2 3 4 5 6 7  0  ...  1  0  [2, 3, 5, 6, 8]   0\n",
              "...          ...          ...              ... ..  ... .. ..              ...  ..\n",
              "234837    325414          496        1 4 5 6 7  0  ...  1  0  [2, 3, 5, 6, 8]   0\n",
              "234838    301030         3565          1 2 5 6  0  ...  0  0  [2, 3, 5, 6, 8]   0\n",
              "234839    355839         1875      1 2 5 6 7 8  0  ...  1  1  [2, 3, 5, 6, 8]   0\n",
              "234840     20474         3888  0 1 2 3 5 6 7 8  1  ...  1  1  [2, 3, 5, 6, 8]   0\n",
              "234841    263884         3888  0 1 2 3 5 6 7 8  1  ...  1  1  [2, 3, 5, 6, 8]   0\n",
              "\n",
              "[234842 rows x 14 columns]"
            ]
          },
          "metadata": {},
          "execution_count": 54
        }
      ]
    },
    {
      "cell_type": "code",
      "metadata": {
        "id": "0bizpdrCbNar"
      },
      "source": [
        "from sklearn.metrics import f1_score"
      ],
      "execution_count": 44,
      "outputs": []
    },
    {
      "cell_type": "code",
      "metadata": {
        "id": "-2CD_VjFfyC_"
      },
      "source": [
        "photo_label_enocoded['labels'].dropna(inplace=True)"
      ],
      "execution_count": 71,
      "outputs": []
    },
    {
      "cell_type": "code",
      "metadata": {
        "id": "QsHH_BMKazcE"
      },
      "source": [
        "for index, row in photo_label_enocoded.dropna().iterrows():\n",
        "  labels_aux = row['labels'].split()\n",
        "  y_pred = []\n",
        "  for label in labels_aux:\n",
        "    if label in labels_baseline:\n",
        "      y_pred.append(str(label))\n",
        "    else:\n",
        "      y_pred.append(str(0))\n",
        "    y_true = labels_aux\n",
        "  #print(labels_aux, labels_baseline)\n",
        "  #print(y_true, y_pred)\n",
        "  #print(f1_score(y_true, y_pred, average='macro'))\n",
        "  photo_label_enocoded.loc[index, 'f1']= f1_score(y_true, y_pred, average='macro')\n",
        "\n",
        "  #if index ==3:beak"
      ],
      "execution_count": 75,
      "outputs": []
    },
    {
      "cell_type": "code",
      "metadata": {
        "id": "nQNkK5yufYM4"
      },
      "source": [
        "photo_label_enocoded.to_csv('f1.csv')"
      ],
      "execution_count": 76,
      "outputs": []
    },
    {
      "cell_type": "code",
      "metadata": {
        "colab": {
          "base_uri": "https://localhost:8080/"
        },
        "id": "t79UX4RSeozB",
        "outputId": "da9a5e0f-3097-44ba-ada6-51f20ffb6be3"
      },
      "source": [
        "photo_label_enocoded['f1'].mean()"
      ],
      "execution_count": 78,
      "outputs": [
        {
          "output_type": "execute_result",
          "data": {
            "text/plain": [
              "0.7054082013332128"
            ]
          },
          "metadata": {},
          "execution_count": 78
        }
      ]
    }
  ]
}