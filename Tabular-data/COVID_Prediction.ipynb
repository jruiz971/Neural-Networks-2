{
 "cells": [
  {
   "cell_type": "code",
   "execution_count": 126,
   "metadata": {},
   "outputs": [],
   "source": [
    "import fastai.tabular.all as ft\n",
    "import pandas as pd\n",
    "\n",
    "\n",
    "import torch\n",
    "import torch.nn as nn\n",
    "import torch.nn.functional as F\n",
    "import numpy as np"
   ]
  },
  {
   "cell_type": "code",
   "execution_count": 2,
   "metadata": {},
   "outputs": [],
   "source": [
    "df = pd.read_csv(\"data.csv\", low_memory=False)#, parse_dates=['date_confirmation'])"
   ]
  },
  {
   "cell_type": "markdown",
   "metadata": {},
   "source": [
    "Low Memory para dataset grandes"
   ]
  },
  {
   "cell_type": "code",
   "execution_count": 3,
   "metadata": {},
   "outputs": [
    {
     "data": {
      "text/plain": [
       "(2676311, 33)"
      ]
     },
     "execution_count": 3,
     "metadata": {},
     "output_type": "execute_result"
    }
   ],
   "source": [
    "df.shape"
   ]
  },
  {
   "cell_type": "code",
   "execution_count": 4,
   "metadata": {},
   "outputs": [
    {
     "data": {
      "text/plain": [
       "ID                                0\n",
       "age                         2098293\n",
       "sex                         2096154\n",
       "city                         977681\n",
       "province                     452664\n",
       "country                         115\n",
       "latitude                         61\n",
       "longitude                        61\n",
       "geo_resolution                   61\n",
       "date_onset_symptoms         2414712\n",
       "date_admission_hospital     2560100\n",
       "date_confirmation            108489\n",
       "symptoms                    2674259\n",
       "lives_in_Wuhan              2671973\n",
       "travel_history_dates        2673700\n",
       "travel_history_location     2667089\n",
       "reported_market_exposure    2675242\n",
       "additional_information      2630456\n",
       "chronic_disease_binary            0\n",
       "chronic_disease             2676096\n",
       "source                       566964\n",
       "sequence_available          2676299\n",
       "outcome                     2368929\n",
       "date_death_or_discharge     2673163\n",
       "notes_for_discussion        2675671\n",
       "location                    2662935\n",
       "admin3                      2595877\n",
       "admin2                      1850257\n",
       "admin1                      1418753\n",
       "country_new                   30553\n",
       "admin_id                         61\n",
       "data_moderator_initials      933328\n",
       "travel_history_binary         65579\n",
       "dtype: int64"
      ]
     },
     "execution_count": 4,
     "metadata": {},
     "output_type": "execute_result"
    }
   ],
   "source": [
    "df.isna().sum()"
   ]
  },
  {
   "cell_type": "code",
   "execution_count": 5,
   "metadata": {},
   "outputs": [
    {
     "name": "stdout",
     "output_type": "stream",
     "text": [
      "<class 'pandas.core.frame.DataFrame'>\n",
      "RangeIndex: 2676311 entries, 0 to 2676310\n",
      "Data columns (total 33 columns):\n",
      "ID                          object\n",
      "age                         object\n",
      "sex                         object\n",
      "city                        object\n",
      "province                    object\n",
      "country                     object\n",
      "latitude                    float64\n",
      "longitude                   float64\n",
      "geo_resolution              object\n",
      "date_onset_symptoms         object\n",
      "date_admission_hospital     object\n",
      "date_confirmation           object\n",
      "symptoms                    object\n",
      "lives_in_Wuhan              object\n",
      "travel_history_dates        object\n",
      "travel_history_location     object\n",
      "reported_market_exposure    object\n",
      "additional_information      object\n",
      "chronic_disease_binary      bool\n",
      "chronic_disease             object\n",
      "source                      object\n",
      "sequence_available          object\n",
      "outcome                     object\n",
      "date_death_or_discharge     object\n",
      "notes_for_discussion        object\n",
      "location                    object\n",
      "admin3                      object\n",
      "admin2                      object\n",
      "admin1                      object\n",
      "country_new                 object\n",
      "admin_id                    float64\n",
      "data_moderator_initials     object\n",
      "travel_history_binary       object\n",
      "dtypes: bool(1), float64(3), object(29)\n",
      "memory usage: 655.9+ MB\n"
     ]
    }
   ],
   "source": [
    "df.info()"
   ]
  },
  {
   "cell_type": "code",
   "execution_count": 6,
   "metadata": {},
   "outputs": [
    {
     "data": {
      "text/html": [
       "<div>\n",
       "<style scoped>\n",
       "    .dataframe tbody tr th:only-of-type {\n",
       "        vertical-align: middle;\n",
       "    }\n",
       "\n",
       "    .dataframe tbody tr th {\n",
       "        vertical-align: top;\n",
       "    }\n",
       "\n",
       "    .dataframe thead th {\n",
       "        text-align: right;\n",
       "    }\n",
       "</style>\n",
       "<table border=\"1\" class=\"dataframe\">\n",
       "  <thead>\n",
       "    <tr style=\"text-align: right;\">\n",
       "      <th></th>\n",
       "      <th>ID</th>\n",
       "      <th>age</th>\n",
       "      <th>sex</th>\n",
       "      <th>city</th>\n",
       "      <th>province</th>\n",
       "      <th>country</th>\n",
       "      <th>latitude</th>\n",
       "      <th>longitude</th>\n",
       "      <th>geo_resolution</th>\n",
       "      <th>date_onset_symptoms</th>\n",
       "      <th>...</th>\n",
       "      <th>date_death_or_discharge</th>\n",
       "      <th>notes_for_discussion</th>\n",
       "      <th>location</th>\n",
       "      <th>admin3</th>\n",
       "      <th>admin2</th>\n",
       "      <th>admin1</th>\n",
       "      <th>country_new</th>\n",
       "      <th>admin_id</th>\n",
       "      <th>data_moderator_initials</th>\n",
       "      <th>travel_history_binary</th>\n",
       "    </tr>\n",
       "  </thead>\n",
       "  <tbody>\n",
       "    <tr>\n",
       "      <th>0</th>\n",
       "      <td>000-1-1</td>\n",
       "      <td>NaN</td>\n",
       "      <td>male</td>\n",
       "      <td>Shek Lei</td>\n",
       "      <td>Hong Kong</td>\n",
       "      <td>China</td>\n",
       "      <td>22.365019</td>\n",
       "      <td>114.133808</td>\n",
       "      <td>point</td>\n",
       "      <td>NaN</td>\n",
       "      <td>...</td>\n",
       "      <td>NaN</td>\n",
       "      <td>NaN</td>\n",
       "      <td>Shek Lei</td>\n",
       "      <td>NaN</td>\n",
       "      <td>NaN</td>\n",
       "      <td>Hong Kong</td>\n",
       "      <td>China</td>\n",
       "      <td>8029.0</td>\n",
       "      <td>NaN</td>\n",
       "      <td>NaN</td>\n",
       "    </tr>\n",
       "    <tr>\n",
       "      <th>1</th>\n",
       "      <td>000-1-10</td>\n",
       "      <td>78</td>\n",
       "      <td>male</td>\n",
       "      <td>Vo Euganeo</td>\n",
       "      <td>Veneto</td>\n",
       "      <td>Italy</td>\n",
       "      <td>45.297748</td>\n",
       "      <td>11.658382</td>\n",
       "      <td>point</td>\n",
       "      <td>NaN</td>\n",
       "      <td>...</td>\n",
       "      <td>22.02.2020</td>\n",
       "      <td>NaN</td>\n",
       "      <td>Vo' Euganeo</td>\n",
       "      <td>NaN</td>\n",
       "      <td>NaN</td>\n",
       "      <td>Veneto</td>\n",
       "      <td>Italy</td>\n",
       "      <td>8954.0</td>\n",
       "      <td>NaN</td>\n",
       "      <td>NaN</td>\n",
       "    </tr>\n",
       "    <tr>\n",
       "      <th>2</th>\n",
       "      <td>000-1-100</td>\n",
       "      <td>61</td>\n",
       "      <td>female</td>\n",
       "      <td>NaN</td>\n",
       "      <td>NaN</td>\n",
       "      <td>Singapore</td>\n",
       "      <td>1.353460</td>\n",
       "      <td>103.815100</td>\n",
       "      <td>admin0</td>\n",
       "      <td>NaN</td>\n",
       "      <td>...</td>\n",
       "      <td>17.02.2020</td>\n",
       "      <td>NaN</td>\n",
       "      <td>NaN</td>\n",
       "      <td>NaN</td>\n",
       "      <td>NaN</td>\n",
       "      <td>NaN</td>\n",
       "      <td>Singapore</td>\n",
       "      <td>200.0</td>\n",
       "      <td>NaN</td>\n",
       "      <td>NaN</td>\n",
       "    </tr>\n",
       "    <tr>\n",
       "      <th>3</th>\n",
       "      <td>000-1-1000</td>\n",
       "      <td>NaN</td>\n",
       "      <td>NaN</td>\n",
       "      <td>Zhengzhou City</td>\n",
       "      <td>Henan</td>\n",
       "      <td>China</td>\n",
       "      <td>34.629310</td>\n",
       "      <td>113.468000</td>\n",
       "      <td>admin2</td>\n",
       "      <td>NaN</td>\n",
       "      <td>...</td>\n",
       "      <td>NaN</td>\n",
       "      <td>NaN</td>\n",
       "      <td>NaN</td>\n",
       "      <td>NaN</td>\n",
       "      <td>Zhengzhou City</td>\n",
       "      <td>Henan</td>\n",
       "      <td>China</td>\n",
       "      <td>10091.0</td>\n",
       "      <td>NaN</td>\n",
       "      <td>NaN</td>\n",
       "    </tr>\n",
       "    <tr>\n",
       "      <th>4</th>\n",
       "      <td>000-1-10000</td>\n",
       "      <td>NaN</td>\n",
       "      <td>NaN</td>\n",
       "      <td>Pingxiang City</td>\n",
       "      <td>Jiangxi</td>\n",
       "      <td>China</td>\n",
       "      <td>27.513560</td>\n",
       "      <td>113.902900</td>\n",
       "      <td>admin2</td>\n",
       "      <td>NaN</td>\n",
       "      <td>...</td>\n",
       "      <td>NaN</td>\n",
       "      <td>NaN</td>\n",
       "      <td>NaN</td>\n",
       "      <td>NaN</td>\n",
       "      <td>Pingxiang City</td>\n",
       "      <td>Jiangxi</td>\n",
       "      <td>China</td>\n",
       "      <td>7060.0</td>\n",
       "      <td>NaN</td>\n",
       "      <td>NaN</td>\n",
       "    </tr>\n",
       "  </tbody>\n",
       "</table>\n",
       "<p>5 rows × 33 columns</p>\n",
       "</div>"
      ],
      "text/plain": [
       "            ID  age     sex            city   province    country   latitude  \\\n",
       "0      000-1-1  NaN    male        Shek Lei  Hong Kong      China  22.365019   \n",
       "1     000-1-10   78    male      Vo Euganeo     Veneto      Italy  45.297748   \n",
       "2    000-1-100   61  female             NaN        NaN  Singapore   1.353460   \n",
       "3   000-1-1000  NaN     NaN  Zhengzhou City      Henan      China  34.629310   \n",
       "4  000-1-10000  NaN     NaN  Pingxiang City    Jiangxi      China  27.513560   \n",
       "\n",
       "    longitude geo_resolution date_onset_symptoms  ... date_death_or_discharge  \\\n",
       "0  114.133808          point                 NaN  ...                     NaN   \n",
       "1   11.658382          point                 NaN  ...              22.02.2020   \n",
       "2  103.815100         admin0                 NaN  ...              17.02.2020   \n",
       "3  113.468000         admin2                 NaN  ...                     NaN   \n",
       "4  113.902900         admin2                 NaN  ...                     NaN   \n",
       "\n",
       "  notes_for_discussion     location admin3          admin2     admin1  \\\n",
       "0                  NaN     Shek Lei    NaN             NaN  Hong Kong   \n",
       "1                  NaN  Vo' Euganeo    NaN             NaN     Veneto   \n",
       "2                  NaN          NaN    NaN             NaN        NaN   \n",
       "3                  NaN          NaN    NaN  Zhengzhou City      Henan   \n",
       "4                  NaN          NaN    NaN  Pingxiang City    Jiangxi   \n",
       "\n",
       "  country_new admin_id  data_moderator_initials travel_history_binary  \n",
       "0       China   8029.0                      NaN                   NaN  \n",
       "1       Italy   8954.0                      NaN                   NaN  \n",
       "2   Singapore    200.0                      NaN                   NaN  \n",
       "3       China  10091.0                      NaN                   NaN  \n",
       "4       China   7060.0                      NaN                   NaN  \n",
       "\n",
       "[5 rows x 33 columns]"
      ]
     },
     "execution_count": 6,
     "metadata": {},
     "output_type": "execute_result"
    }
   ],
   "source": [
    "df.head()"
   ]
  },
  {
   "cell_type": "code",
   "execution_count": 7,
   "metadata": {},
   "outputs": [
    {
     "data": {
      "text/plain": [
       "0    critical condition, intubated as of 14.02.2020\n",
       "1                                             death\n",
       "2                                         discharge\n",
       "3                                               NaN\n",
       "4                                               NaN\n",
       "Name: outcome, dtype: object"
      ]
     },
     "execution_count": 7,
     "metadata": {},
     "output_type": "execute_result"
    }
   ],
   "source": [
    "df['outcome'].head()"
   ]
  },
  {
   "cell_type": "markdown",
   "metadata": {},
   "source": [
    "## Clean Data"
   ]
  },
  {
   "cell_type": "markdown",
   "metadata": {},
   "source": [
    "### Select rows where outcome is not NaN"
   ]
  },
  {
   "cell_type": "code",
   "execution_count": 5,
   "metadata": {},
   "outputs": [
    {
     "data": {
      "text/plain": [
       "(307382, 33)"
      ]
     },
     "execution_count": 5,
     "metadata": {},
     "output_type": "execute_result"
    }
   ],
   "source": [
    "df[df['outcome'].notna()].shape"
   ]
  },
  {
   "cell_type": "markdown",
   "metadata": {},
   "source": [
    "I'm only going to work with non-zero data in Outcome "
   ]
  },
  {
   "cell_type": "code",
   "execution_count": 6,
   "metadata": {},
   "outputs": [],
   "source": [
    "df = df[df['outcome'].notna()]"
   ]
  },
  {
   "cell_type": "markdown",
   "metadata": {},
   "source": [
    "#### Clean outcome data (only death and recovered)"
   ]
  },
  {
   "cell_type": "code",
   "execution_count": 7,
   "metadata": {},
   "outputs": [
    {
     "data": {
      "text/plain": [
       "Hospitalized                                                                202475\n",
       "Recovered                                                                    93656\n",
       "Deceased                                                                      5011\n",
       "recovered                                                                     3659\n",
       "died                                                                           916\n",
       "Under treatment                                                                370\n",
       "Receiving Treatment                                                            257\n",
       "Alive                                                                          189\n",
       "discharge                                                                      175\n",
       "stable                                                                         156\n",
       "stable condition                                                               133\n",
       "https://www.mspbs.gov.py/covid-19.php                                          126\n",
       "discharged                                                                     117\n",
       "death                                                                           48\n",
       "Stable                                                                          31\n",
       "Dead                                                                            13\n",
       "Migrated_Other                                                                   8\n",
       "Migrated                                                                         5\n",
       "released from quarantine                                                         4\n",
       "Died                                                                             4\n",
       "Death                                                                            4\n",
       "Discharged from hospital                                                         4\n",
       "dead                                                                             3\n",
       "Discharged                                                                       2\n",
       "Symptoms only improved with cough. Currently hospitalized for follow-up.         2\n",
       "recovering at home 03.03.2020                                                    2\n",
       "treated in an intensive care unit (14.02.2020)                                   2\n",
       "not hospitalized                                                                 2\n",
       "critical condition, intubated as of 14.02.2020                                   2\n",
       "severe                                                                           2\n",
       "severe illness                                                                   1\n",
       "unstable                                                                         1\n",
       "critical condition                                                               1\n",
       "Critical condition                                                               1\n",
       "Name: outcome, dtype: int64"
      ]
     },
     "execution_count": 7,
     "metadata": {},
     "output_type": "execute_result"
    }
   ],
   "source": [
    "df['outcome'].value_counts()"
   ]
  },
  {
   "cell_type": "code",
   "execution_count": 8,
   "metadata": {},
   "outputs": [],
   "source": [
    "df = df.loc[(df['outcome']=='died')| (df['outcome']=='Deceased') |\n",
    "        (df['outcome']=='Recovered')| (df['outcome']=='recovered')|\n",
    "      (df['outcome']=='stable')| (df['outcome']=='stable condition')\n",
    "         ]"
   ]
  },
  {
   "cell_type": "code",
   "execution_count": 9,
   "metadata": {},
   "outputs": [
    {
     "data": {
      "text/plain": [
       "ID                               0\n",
       "age                          98124\n",
       "sex                          96984\n",
       "city                         14042\n",
       "province                       240\n",
       "country                          0\n",
       "latitude                         0\n",
       "longitude                        0\n",
       "geo_resolution                   0\n",
       "date_onset_symptoms         100160\n",
       "date_admission_hospital     103423\n",
       "date_confirmation               38\n",
       "symptoms                    103384\n",
       "lives_in_Wuhan              103478\n",
       "travel_history_dates        103441\n",
       "travel_history_location     103248\n",
       "reported_market_exposure    103529\n",
       "additional_information       97086\n",
       "chronic_disease_binary           0\n",
       "chronic_disease             103420\n",
       "source                        9186\n",
       "sequence_available          103530\n",
       "outcome                          0\n",
       "date_death_or_discharge     102635\n",
       "notes_for_discussion        103449\n",
       "location                    100986\n",
       "admin3                      103526\n",
       "admin2                      103211\n",
       "admin1                       91325\n",
       "country_new                   3464\n",
       "admin_id                         0\n",
       "data_moderator_initials       4886\n",
       "travel_history_binary          144\n",
       "dtype: int64"
      ]
     },
     "execution_count": 9,
     "metadata": {},
     "output_type": "execute_result"
    }
   ],
   "source": [
    "df.isna().sum()"
   ]
  },
  {
   "cell_type": "markdown",
   "metadata": {},
   "source": [
    "### Remove columns with string"
   ]
  },
  {
   "cell_type": "code",
   "execution_count": 10,
   "metadata": {},
   "outputs": [
    {
     "data": {
      "text/html": [
       "<div>\n",
       "<style scoped>\n",
       "    .dataframe tbody tr th:only-of-type {\n",
       "        vertical-align: middle;\n",
       "    }\n",
       "\n",
       "    .dataframe tbody tr th {\n",
       "        vertical-align: top;\n",
       "    }\n",
       "\n",
       "    .dataframe thead th {\n",
       "        text-align: right;\n",
       "    }\n",
       "</style>\n",
       "<table border=\"1\" class=\"dataframe\">\n",
       "  <thead>\n",
       "    <tr style=\"text-align: right;\">\n",
       "      <th></th>\n",
       "      <th>ID</th>\n",
       "      <th>age</th>\n",
       "      <th>sex</th>\n",
       "      <th>city</th>\n",
       "      <th>province</th>\n",
       "      <th>country</th>\n",
       "      <th>latitude</th>\n",
       "      <th>longitude</th>\n",
       "      <th>geo_resolution</th>\n",
       "      <th>date_onset_symptoms</th>\n",
       "      <th>date_admission_hospital</th>\n",
       "      <th>date_confirmation</th>\n",
       "      <th>symptoms</th>\n",
       "      <th>lives_in_Wuhan</th>\n",
       "      <th>travel_history_dates</th>\n",
       "      <th>travel_history_location</th>\n",
       "      <th>reported_market_exposure</th>\n",
       "      <th>additional_information</th>\n",
       "      <th>chronic_disease_binary</th>\n",
       "      <th>chronic_disease</th>\n",
       "      <th>source</th>\n",
       "      <th>sequence_available</th>\n",
       "      <th>outcome</th>\n",
       "      <th>date_death_or_discharge</th>\n",
       "      <th>notes_for_discussion</th>\n",
       "      <th>location</th>\n",
       "      <th>admin3</th>\n",
       "      <th>admin2</th>\n",
       "      <th>admin1</th>\n",
       "      <th>country_new</th>\n",
       "      <th>admin_id</th>\n",
       "      <th>data_moderator_initials</th>\n",
       "      <th>travel_history_binary</th>\n",
       "    </tr>\n",
       "  </thead>\n",
       "  <tbody>\n",
       "    <tr>\n",
       "      <th>8667</th>\n",
       "      <td>000-1-178</td>\n",
       "      <td>20-29</td>\n",
       "      <td>female</td>\n",
       "      <td>London</td>\n",
       "      <td>Ontario</td>\n",
       "      <td>Canada</td>\n",
       "      <td>42.983611</td>\n",
       "      <td>-81.249722</td>\n",
       "      <td>point</td>\n",
       "      <td>24.01.2020</td>\n",
       "      <td>24.01.2020</td>\n",
       "      <td>31.01.2020</td>\n",
       "      <td>NaN</td>\n",
       "      <td>NaN</td>\n",
       "      <td>23.01.2020</td>\n",
       "      <td>Wuhan City, Hubei</td>\n",
       "      <td>NaN</td>\n",
       "      <td>recovered</td>\n",
       "      <td>False</td>\n",
       "      <td>NaN</td>\n",
       "      <td>https://news.ontario.ca/mohltc/en/2020/01/ontario-confirms-third-case-of-2019-novel-coronavirus.html (b) https://news.gov.bc.ca/releases/2020HLTH0039-000294</td>\n",
       "      <td>NaN</td>\n",
       "      <td>recovered</td>\n",
       "      <td>19.02.2020</td>\n",
       "      <td>NaN</td>\n",
       "      <td>London</td>\n",
       "      <td>NaN</td>\n",
       "      <td>NaN</td>\n",
       "      <td>Ontario</td>\n",
       "      <td>Canada</td>\n",
       "      <td>5642.0</td>\n",
       "      <td>NaN</td>\n",
       "      <td>NaN</td>\n",
       "    </tr>\n",
       "    <tr>\n",
       "      <th>8778</th>\n",
       "      <td>000-1-179</td>\n",
       "      <td>27</td>\n",
       "      <td>male</td>\n",
       "      <td>National Centre for Infectious Diseases</td>\n",
       "      <td>NaN</td>\n",
       "      <td>Singapore</td>\n",
       "      <td>1.322098</td>\n",
       "      <td>103.847200</td>\n",
       "      <td>point</td>\n",
       "      <td>21.01.2020</td>\n",
       "      <td>06.02.2020</td>\n",
       "      <td>06.02.2020</td>\n",
       "      <td>NaN</td>\n",
       "      <td>NaN</td>\n",
       "      <td>NaN</td>\n",
       "      <td>NaN</td>\n",
       "      <td>NaN</td>\n",
       "      <td>Case 30; He is one of the four Singapore residents who are being investigated at NCID after attending a private business meeting at Grand Hyatt Singapore from 20 to 22 January. The meeting included participants from China, including Hubei, and the confirmed cases from Malaysia and South Korea.</td>\n",
       "      <td>False</td>\n",
       "      <td>NaN</td>\n",
       "      <td>https://www.moh.gov.sg/news-highlights/details/two-more-confirmed-cases-of-novel-coronavirus-infection-in-singapore; https://www.moh.gov.sg/news-highlights/details/three-more-confirmed-cases-of-novel-coronavirus-infection-in-singapore\\nhttps://www.channelnewsasia.com/news/singapore/coronavirus-covid-19-singapore-cases-grace-assembly-of-god--12434646</td>\n",
       "      <td>NaN</td>\n",
       "      <td>recovered</td>\n",
       "      <td>14.02.2020</td>\n",
       "      <td>NaN</td>\n",
       "      <td>National Centre for Infectious Diseases</td>\n",
       "      <td>NaN</td>\n",
       "      <td>NaN</td>\n",
       "      <td>NaN</td>\n",
       "      <td>Singapore</td>\n",
       "      <td>6480.0</td>\n",
       "      <td>NaN</td>\n",
       "      <td>NaN</td>\n",
       "    </tr>\n",
       "    <tr>\n",
       "      <th>8890</th>\n",
       "      <td>000-1-180</td>\n",
       "      <td>50-59</td>\n",
       "      <td>male</td>\n",
       "      <td>Snohomish County</td>\n",
       "      <td>Washington</td>\n",
       "      <td>United States</td>\n",
       "      <td>48.048180</td>\n",
       "      <td>-121.696000</td>\n",
       "      <td>admin2</td>\n",
       "      <td>NaN</td>\n",
       "      <td>NaN</td>\n",
       "      <td>11.03.2020</td>\n",
       "      <td>NaN</td>\n",
       "      <td>NaN</td>\n",
       "      <td>NaN</td>\n",
       "      <td>NaN</td>\n",
       "      <td>NaN</td>\n",
       "      <td>NaN</td>\n",
       "      <td>False</td>\n",
       "      <td>NaN</td>\n",
       "      <td>https://www.snohd.org/484/Novel-Coronavirus-2019</td>\n",
       "      <td>NaN</td>\n",
       "      <td>recovered</td>\n",
       "      <td>NaN</td>\n",
       "      <td>NaN</td>\n",
       "      <td>NaN</td>\n",
       "      <td>NaN</td>\n",
       "      <td>Snohomish County</td>\n",
       "      <td>Washington</td>\n",
       "      <td>United States</td>\n",
       "      <td>8209.0</td>\n",
       "      <td>NaN</td>\n",
       "      <td>NaN</td>\n",
       "    </tr>\n",
       "    <tr>\n",
       "      <th>9556</th>\n",
       "      <td>000-1-186</td>\n",
       "      <td>52</td>\n",
       "      <td>female</td>\n",
       "      <td>Xi'an City</td>\n",
       "      <td>Shaanxi</td>\n",
       "      <td>China</td>\n",
       "      <td>34.107270</td>\n",
       "      <td>108.787200</td>\n",
       "      <td>admin2</td>\n",
       "      <td>23.01.2020</td>\n",
       "      <td>25.01.2020</td>\n",
       "      <td>03.02.2020</td>\n",
       "      <td>NaN</td>\n",
       "      <td>yes</td>\n",
       "      <td>21.01.2020</td>\n",
       "      <td>Xi'an City, Shaanxi</td>\n",
       "      <td>NaN</td>\n",
       "      <td>NaN</td>\n",
       "      <td>False</td>\n",
       "      <td>NaN</td>\n",
       "      <td>http://sxwjw.shaanxi.gov.cn/art/2020/2/3/art_9_67666.html</td>\n",
       "      <td>NaN</td>\n",
       "      <td>stable</td>\n",
       "      <td>NaN</td>\n",
       "      <td>NaN</td>\n",
       "      <td>NaN</td>\n",
       "      <td>NaN</td>\n",
       "      <td>Xi'an City</td>\n",
       "      <td>Shaanxi</td>\n",
       "      <td>China</td>\n",
       "      <td>9440.0</td>\n",
       "      <td>NaN</td>\n",
       "      <td>NaN</td>\n",
       "    </tr>\n",
       "    <tr>\n",
       "      <th>9667</th>\n",
       "      <td>000-1-187</td>\n",
       "      <td>47</td>\n",
       "      <td>female</td>\n",
       "      <td>Xi'an City</td>\n",
       "      <td>Shaanxi</td>\n",
       "      <td>China</td>\n",
       "      <td>34.107270</td>\n",
       "      <td>108.787200</td>\n",
       "      <td>admin2</td>\n",
       "      <td>25.01.2020</td>\n",
       "      <td>28.01.2020</td>\n",
       "      <td>03.02.2020</td>\n",
       "      <td>NaN</td>\n",
       "      <td>NaN</td>\n",
       "      <td>NaN</td>\n",
       "      <td>NaN</td>\n",
       "      <td>NaN</td>\n",
       "      <td>NaN</td>\n",
       "      <td>False</td>\n",
       "      <td>NaN</td>\n",
       "      <td>http://sxwjw.shaanxi.gov.cn/art/2020/2/3/art_9_67666.html</td>\n",
       "      <td>NaN</td>\n",
       "      <td>stable</td>\n",
       "      <td>NaN</td>\n",
       "      <td>had dinner with 3 patients diagnosed on January 31</td>\n",
       "      <td>NaN</td>\n",
       "      <td>NaN</td>\n",
       "      <td>Xi'an City</td>\n",
       "      <td>Shaanxi</td>\n",
       "      <td>China</td>\n",
       "      <td>9440.0</td>\n",
       "      <td>NaN</td>\n",
       "      <td>NaN</td>\n",
       "    </tr>\n",
       "  </tbody>\n",
       "</table>\n",
       "</div>"
      ],
      "text/plain": [
       "             ID    age     sex                                     city  \\\n",
       "8667  000-1-178  20-29  female                                   London   \n",
       "8778  000-1-179     27    male  National Centre for Infectious Diseases   \n",
       "8890  000-1-180  50-59    male                         Snohomish County   \n",
       "9556  000-1-186     52  female                               Xi'an City   \n",
       "9667  000-1-187     47  female                               Xi'an City   \n",
       "\n",
       "        province        country   latitude   longitude geo_resolution  \\\n",
       "8667     Ontario         Canada  42.983611  -81.249722          point   \n",
       "8778         NaN      Singapore   1.322098  103.847200          point   \n",
       "8890  Washington  United States  48.048180 -121.696000         admin2   \n",
       "9556     Shaanxi          China  34.107270  108.787200         admin2   \n",
       "9667     Shaanxi          China  34.107270  108.787200         admin2   \n",
       "\n",
       "     date_onset_symptoms date_admission_hospital date_confirmation symptoms  \\\n",
       "8667          24.01.2020              24.01.2020        31.01.2020      NaN   \n",
       "8778          21.01.2020              06.02.2020        06.02.2020      NaN   \n",
       "8890                 NaN                     NaN        11.03.2020      NaN   \n",
       "9556          23.01.2020              25.01.2020        03.02.2020      NaN   \n",
       "9667          25.01.2020              28.01.2020        03.02.2020      NaN   \n",
       "\n",
       "     lives_in_Wuhan travel_history_dates travel_history_location  \\\n",
       "8667            NaN           23.01.2020       Wuhan City, Hubei   \n",
       "8778            NaN                  NaN                     NaN   \n",
       "8890            NaN                  NaN                     NaN   \n",
       "9556            yes           21.01.2020     Xi'an City, Shaanxi   \n",
       "9667            NaN                  NaN                     NaN   \n",
       "\n",
       "     reported_market_exposure  \\\n",
       "8667                      NaN   \n",
       "8778                      NaN   \n",
       "8890                      NaN   \n",
       "9556                      NaN   \n",
       "9667                      NaN   \n",
       "\n",
       "                                                                                                                                                                                                                                                                                      additional_information  \\\n",
       "8667                                                                                                                                                                                                                                                                                               recovered   \n",
       "8778  Case 30; He is one of the four Singapore residents who are being investigated at NCID after attending a private business meeting at Grand Hyatt Singapore from 20 to 22 January. The meeting included participants from China, including Hubei, and the confirmed cases from Malaysia and South Korea.   \n",
       "8890                                                                                                                                                                                                                                                                                                     NaN   \n",
       "9556                                                                                                                                                                                                                                                                                                     NaN   \n",
       "9667                                                                                                                                                                                                                                                                                                     NaN   \n",
       "\n",
       "      chronic_disease_binary chronic_disease  \\\n",
       "8667                   False             NaN   \n",
       "8778                   False             NaN   \n",
       "8890                   False             NaN   \n",
       "9556                   False             NaN   \n",
       "9667                   False             NaN   \n",
       "\n",
       "                                                                                                                                                                                                                                                                                                                                                               source  \\\n",
       "8667                                                                                                                                                                                                     https://news.ontario.ca/mohltc/en/2020/01/ontario-confirms-third-case-of-2019-novel-coronavirus.html (b) https://news.gov.bc.ca/releases/2020HLTH0039-000294   \n",
       "8778  https://www.moh.gov.sg/news-highlights/details/two-more-confirmed-cases-of-novel-coronavirus-infection-in-singapore; https://www.moh.gov.sg/news-highlights/details/three-more-confirmed-cases-of-novel-coronavirus-infection-in-singapore\\nhttps://www.channelnewsasia.com/news/singapore/coronavirus-covid-19-singapore-cases-grace-assembly-of-god--12434646   \n",
       "8890                                                                                                                                                                                                                                                                                                                 https://www.snohd.org/484/Novel-Coronavirus-2019   \n",
       "9556                                                                                                                                                                                                                                                                                                        http://sxwjw.shaanxi.gov.cn/art/2020/2/3/art_9_67666.html   \n",
       "9667                                                                                                                                                                                                                                                                                                        http://sxwjw.shaanxi.gov.cn/art/2020/2/3/art_9_67666.html   \n",
       "\n",
       "     sequence_available    outcome date_death_or_discharge  \\\n",
       "8667                NaN  recovered              19.02.2020   \n",
       "8778                NaN  recovered              14.02.2020   \n",
       "8890                NaN  recovered                     NaN   \n",
       "9556                NaN     stable                     NaN   \n",
       "9667                NaN     stable                     NaN   \n",
       "\n",
       "                                    notes_for_discussion  \\\n",
       "8667                                                 NaN   \n",
       "8778                                                 NaN   \n",
       "8890                                                 NaN   \n",
       "9556                                                 NaN   \n",
       "9667  had dinner with 3 patients diagnosed on January 31   \n",
       "\n",
       "                                     location admin3            admin2  \\\n",
       "8667                                   London    NaN               NaN   \n",
       "8778  National Centre for Infectious Diseases    NaN               NaN   \n",
       "8890                                      NaN    NaN  Snohomish County   \n",
       "9556                                      NaN    NaN        Xi'an City   \n",
       "9667                                      NaN    NaN        Xi'an City   \n",
       "\n",
       "          admin1    country_new  admin_id data_moderator_initials  \\\n",
       "8667     Ontario         Canada    5642.0                     NaN   \n",
       "8778         NaN      Singapore    6480.0                     NaN   \n",
       "8890  Washington  United States    8209.0                     NaN   \n",
       "9556     Shaanxi          China    9440.0                     NaN   \n",
       "9667     Shaanxi          China    9440.0                     NaN   \n",
       "\n",
       "     travel_history_binary  \n",
       "8667                   NaN  \n",
       "8778                   NaN  \n",
       "8890                   NaN  \n",
       "9556                   NaN  \n",
       "9667                   NaN  "
      ]
     },
     "execution_count": 10,
     "metadata": {},
     "output_type": "execute_result"
    }
   ],
   "source": [
    "pd.set_option('display.max_columns', None)\n",
    "df.head()"
   ]
  },
  {
   "cell_type": "code",
   "execution_count": 11,
   "metadata": {},
   "outputs": [
    {
     "data": {
      "text/plain": [
       "array(['recovered', 'stable', 'died', 'Recovered', 'Deceased',\n",
       "       'stable condition'], dtype=object)"
      ]
     },
     "execution_count": 11,
     "metadata": {},
     "output_type": "execute_result"
    }
   ],
   "source": [
    "df.outcome.unique()"
   ]
  },
  {
   "cell_type": "code",
   "execution_count": 12,
   "metadata": {},
   "outputs": [],
   "source": [
    "to_delete=['additional_information', #Large text string\n",
    "           'chronic_disease',\n",
    "           'notes_for_discussion', #Large text strin\n",
    "           'source', #Large text string\n",
    "           'symptoms', #Large text string\n",
    "          'ID'] #unique values, do not provide info]"
   ]
  },
  {
   "cell_type": "code",
   "execution_count": 13,
   "metadata": {},
   "outputs": [],
   "source": [
    "df = df.drop(to_delete,axis=1)"
   ]
  },
  {
   "cell_type": "markdown",
   "metadata": {},
   "source": [
    "### Change date format"
   ]
  },
  {
   "cell_type": "code",
   "execution_count": 14,
   "metadata": {},
   "outputs": [
    {
     "data": {
      "text/html": [
       "<div>\n",
       "<style scoped>\n",
       "    .dataframe tbody tr th:only-of-type {\n",
       "        vertical-align: middle;\n",
       "    }\n",
       "\n",
       "    .dataframe tbody tr th {\n",
       "        vertical-align: top;\n",
       "    }\n",
       "\n",
       "    .dataframe thead th {\n",
       "        text-align: right;\n",
       "    }\n",
       "</style>\n",
       "<table border=\"1\" class=\"dataframe\">\n",
       "  <thead>\n",
       "    <tr style=\"text-align: right;\">\n",
       "      <th></th>\n",
       "      <th>age</th>\n",
       "      <th>sex</th>\n",
       "      <th>city</th>\n",
       "      <th>province</th>\n",
       "      <th>country</th>\n",
       "      <th>latitude</th>\n",
       "      <th>longitude</th>\n",
       "      <th>geo_resolution</th>\n",
       "      <th>date_onset_symptoms</th>\n",
       "      <th>date_admission_hospital</th>\n",
       "      <th>date_confirmation</th>\n",
       "      <th>lives_in_Wuhan</th>\n",
       "      <th>travel_history_dates</th>\n",
       "      <th>travel_history_location</th>\n",
       "      <th>reported_market_exposure</th>\n",
       "      <th>chronic_disease_binary</th>\n",
       "      <th>sequence_available</th>\n",
       "      <th>outcome</th>\n",
       "      <th>date_death_or_discharge</th>\n",
       "      <th>location</th>\n",
       "      <th>admin3</th>\n",
       "      <th>admin2</th>\n",
       "      <th>admin1</th>\n",
       "      <th>country_new</th>\n",
       "      <th>admin_id</th>\n",
       "      <th>data_moderator_initials</th>\n",
       "      <th>travel_history_binary</th>\n",
       "    </tr>\n",
       "  </thead>\n",
       "  <tbody>\n",
       "    <tr>\n",
       "      <th>8667</th>\n",
       "      <td>20-29</td>\n",
       "      <td>female</td>\n",
       "      <td>London</td>\n",
       "      <td>Ontario</td>\n",
       "      <td>Canada</td>\n",
       "      <td>42.983611</td>\n",
       "      <td>-81.249722</td>\n",
       "      <td>point</td>\n",
       "      <td>24.01.2020</td>\n",
       "      <td>24.01.2020</td>\n",
       "      <td>31.01.2020</td>\n",
       "      <td>NaN</td>\n",
       "      <td>23.01.2020</td>\n",
       "      <td>Wuhan City, Hubei</td>\n",
       "      <td>NaN</td>\n",
       "      <td>False</td>\n",
       "      <td>NaN</td>\n",
       "      <td>recovered</td>\n",
       "      <td>19.02.2020</td>\n",
       "      <td>London</td>\n",
       "      <td>NaN</td>\n",
       "      <td>NaN</td>\n",
       "      <td>Ontario</td>\n",
       "      <td>Canada</td>\n",
       "      <td>5642.0</td>\n",
       "      <td>NaN</td>\n",
       "      <td>NaN</td>\n",
       "    </tr>\n",
       "    <tr>\n",
       "      <th>8778</th>\n",
       "      <td>27</td>\n",
       "      <td>male</td>\n",
       "      <td>National Centre for Infectious Diseases</td>\n",
       "      <td>NaN</td>\n",
       "      <td>Singapore</td>\n",
       "      <td>1.322098</td>\n",
       "      <td>103.847200</td>\n",
       "      <td>point</td>\n",
       "      <td>21.01.2020</td>\n",
       "      <td>06.02.2020</td>\n",
       "      <td>06.02.2020</td>\n",
       "      <td>NaN</td>\n",
       "      <td>NaN</td>\n",
       "      <td>NaN</td>\n",
       "      <td>NaN</td>\n",
       "      <td>False</td>\n",
       "      <td>NaN</td>\n",
       "      <td>recovered</td>\n",
       "      <td>14.02.2020</td>\n",
       "      <td>National Centre for Infectious Diseases</td>\n",
       "      <td>NaN</td>\n",
       "      <td>NaN</td>\n",
       "      <td>NaN</td>\n",
       "      <td>Singapore</td>\n",
       "      <td>6480.0</td>\n",
       "      <td>NaN</td>\n",
       "      <td>NaN</td>\n",
       "    </tr>\n",
       "    <tr>\n",
       "      <th>8890</th>\n",
       "      <td>50-59</td>\n",
       "      <td>male</td>\n",
       "      <td>Snohomish County</td>\n",
       "      <td>Washington</td>\n",
       "      <td>United States</td>\n",
       "      <td>48.048180</td>\n",
       "      <td>-121.696000</td>\n",
       "      <td>admin2</td>\n",
       "      <td>NaN</td>\n",
       "      <td>NaN</td>\n",
       "      <td>11.03.2020</td>\n",
       "      <td>NaN</td>\n",
       "      <td>NaN</td>\n",
       "      <td>NaN</td>\n",
       "      <td>NaN</td>\n",
       "      <td>False</td>\n",
       "      <td>NaN</td>\n",
       "      <td>recovered</td>\n",
       "      <td>NaN</td>\n",
       "      <td>NaN</td>\n",
       "      <td>NaN</td>\n",
       "      <td>Snohomish County</td>\n",
       "      <td>Washington</td>\n",
       "      <td>United States</td>\n",
       "      <td>8209.0</td>\n",
       "      <td>NaN</td>\n",
       "      <td>NaN</td>\n",
       "    </tr>\n",
       "    <tr>\n",
       "      <th>9556</th>\n",
       "      <td>52</td>\n",
       "      <td>female</td>\n",
       "      <td>Xi'an City</td>\n",
       "      <td>Shaanxi</td>\n",
       "      <td>China</td>\n",
       "      <td>34.107270</td>\n",
       "      <td>108.787200</td>\n",
       "      <td>admin2</td>\n",
       "      <td>23.01.2020</td>\n",
       "      <td>25.01.2020</td>\n",
       "      <td>03.02.2020</td>\n",
       "      <td>yes</td>\n",
       "      <td>21.01.2020</td>\n",
       "      <td>Xi'an City, Shaanxi</td>\n",
       "      <td>NaN</td>\n",
       "      <td>False</td>\n",
       "      <td>NaN</td>\n",
       "      <td>stable</td>\n",
       "      <td>NaN</td>\n",
       "      <td>NaN</td>\n",
       "      <td>NaN</td>\n",
       "      <td>Xi'an City</td>\n",
       "      <td>Shaanxi</td>\n",
       "      <td>China</td>\n",
       "      <td>9440.0</td>\n",
       "      <td>NaN</td>\n",
       "      <td>NaN</td>\n",
       "    </tr>\n",
       "    <tr>\n",
       "      <th>9667</th>\n",
       "      <td>47</td>\n",
       "      <td>female</td>\n",
       "      <td>Xi'an City</td>\n",
       "      <td>Shaanxi</td>\n",
       "      <td>China</td>\n",
       "      <td>34.107270</td>\n",
       "      <td>108.787200</td>\n",
       "      <td>admin2</td>\n",
       "      <td>25.01.2020</td>\n",
       "      <td>28.01.2020</td>\n",
       "      <td>03.02.2020</td>\n",
       "      <td>NaN</td>\n",
       "      <td>NaN</td>\n",
       "      <td>NaN</td>\n",
       "      <td>NaN</td>\n",
       "      <td>False</td>\n",
       "      <td>NaN</td>\n",
       "      <td>stable</td>\n",
       "      <td>NaN</td>\n",
       "      <td>NaN</td>\n",
       "      <td>NaN</td>\n",
       "      <td>Xi'an City</td>\n",
       "      <td>Shaanxi</td>\n",
       "      <td>China</td>\n",
       "      <td>9440.0</td>\n",
       "      <td>NaN</td>\n",
       "      <td>NaN</td>\n",
       "    </tr>\n",
       "  </tbody>\n",
       "</table>\n",
       "</div>"
      ],
      "text/plain": [
       "        age     sex                                     city    province  \\\n",
       "8667  20-29  female                                   London     Ontario   \n",
       "8778     27    male  National Centre for Infectious Diseases         NaN   \n",
       "8890  50-59    male                         Snohomish County  Washington   \n",
       "9556     52  female                               Xi'an City     Shaanxi   \n",
       "9667     47  female                               Xi'an City     Shaanxi   \n",
       "\n",
       "            country   latitude   longitude geo_resolution date_onset_symptoms  \\\n",
       "8667         Canada  42.983611  -81.249722          point          24.01.2020   \n",
       "8778      Singapore   1.322098  103.847200          point          21.01.2020   \n",
       "8890  United States  48.048180 -121.696000         admin2                 NaN   \n",
       "9556          China  34.107270  108.787200         admin2          23.01.2020   \n",
       "9667          China  34.107270  108.787200         admin2          25.01.2020   \n",
       "\n",
       "     date_admission_hospital date_confirmation lives_in_Wuhan  \\\n",
       "8667              24.01.2020        31.01.2020            NaN   \n",
       "8778              06.02.2020        06.02.2020            NaN   \n",
       "8890                     NaN        11.03.2020            NaN   \n",
       "9556              25.01.2020        03.02.2020            yes   \n",
       "9667              28.01.2020        03.02.2020            NaN   \n",
       "\n",
       "     travel_history_dates travel_history_location reported_market_exposure  \\\n",
       "8667           23.01.2020       Wuhan City, Hubei                      NaN   \n",
       "8778                  NaN                     NaN                      NaN   \n",
       "8890                  NaN                     NaN                      NaN   \n",
       "9556           21.01.2020     Xi'an City, Shaanxi                      NaN   \n",
       "9667                  NaN                     NaN                      NaN   \n",
       "\n",
       "      chronic_disease_binary sequence_available    outcome  \\\n",
       "8667                   False                NaN  recovered   \n",
       "8778                   False                NaN  recovered   \n",
       "8890                   False                NaN  recovered   \n",
       "9556                   False                NaN     stable   \n",
       "9667                   False                NaN     stable   \n",
       "\n",
       "     date_death_or_discharge                                 location admin3  \\\n",
       "8667              19.02.2020                                   London    NaN   \n",
       "8778              14.02.2020  National Centre for Infectious Diseases    NaN   \n",
       "8890                     NaN                                      NaN    NaN   \n",
       "9556                     NaN                                      NaN    NaN   \n",
       "9667                     NaN                                      NaN    NaN   \n",
       "\n",
       "                admin2      admin1    country_new  admin_id  \\\n",
       "8667               NaN     Ontario         Canada    5642.0   \n",
       "8778               NaN         NaN      Singapore    6480.0   \n",
       "8890  Snohomish County  Washington  United States    8209.0   \n",
       "9556        Xi'an City     Shaanxi          China    9440.0   \n",
       "9667        Xi'an City     Shaanxi          China    9440.0   \n",
       "\n",
       "     data_moderator_initials travel_history_binary  \n",
       "8667                     NaN                   NaN  \n",
       "8778                     NaN                   NaN  \n",
       "8890                     NaN                   NaN  \n",
       "9556                     NaN                   NaN  \n",
       "9667                     NaN                   NaN  "
      ]
     },
     "execution_count": 14,
     "metadata": {},
     "output_type": "execute_result"
    }
   ],
   "source": [
    "df.head()"
   ]
  },
  {
   "cell_type": "markdown",
   "metadata": {},
   "source": [
    "#### Delete columns "
   ]
  },
  {
   "cell_type": "code",
   "execution_count": 15,
   "metadata": {},
   "outputs": [],
   "source": [
    "to_delete = ['date_death_or_discharge','date_onset_symptoms','travel_history_dates','sequence_available','date_admission_hospital','date_confirmation']\n",
    "\n",
    "\n",
    "#to_delete = ['sequence_available']"
   ]
  },
  {
   "cell_type": "code",
   "execution_count": 16,
   "metadata": {},
   "outputs": [],
   "source": [
    "df = df.drop(to_delete,axis=1)"
   ]
  },
  {
   "cell_type": "markdown",
   "metadata": {},
   "source": [
    "### Set Variables names"
   ]
  },
  {
   "cell_type": "code",
   "execution_count": 17,
   "metadata": {},
   "outputs": [
    {
     "data": {
      "text/plain": [
       "age                          object\n",
       "sex                          object\n",
       "city                         object\n",
       "province                     object\n",
       "country                      object\n",
       "latitude                    float64\n",
       "longitude                   float64\n",
       "geo_resolution               object\n",
       "lives_in_Wuhan               object\n",
       "travel_history_location      object\n",
       "reported_market_exposure     object\n",
       "chronic_disease_binary         bool\n",
       "outcome                      object\n",
       "location                     object\n",
       "admin3                       object\n",
       "admin2                       object\n",
       "admin1                       object\n",
       "country_new                  object\n",
       "admin_id                    float64\n",
       "data_moderator_initials      object\n",
       "travel_history_binary        object\n",
       "dtype: object"
      ]
     },
     "execution_count": 17,
     "metadata": {},
     "output_type": "execute_result"
    }
   ],
   "source": [
    "df.dtypes"
   ]
  },
  {
   "cell_type": "code",
   "execution_count": 18,
   "metadata": {},
   "outputs": [
    {
     "data": {
      "text/plain": [
       "age                          98124\n",
       "sex                          96984\n",
       "city                         14042\n",
       "province                       240\n",
       "country                          0\n",
       "latitude                         0\n",
       "longitude                        0\n",
       "geo_resolution                   0\n",
       "lives_in_Wuhan              103478\n",
       "travel_history_location     103248\n",
       "reported_market_exposure    103529\n",
       "chronic_disease_binary           0\n",
       "outcome                          0\n",
       "location                    100986\n",
       "admin3                      103526\n",
       "admin2                      103211\n",
       "admin1                       91325\n",
       "country_new                   3464\n",
       "admin_id                         0\n",
       "data_moderator_initials       4886\n",
       "travel_history_binary          144\n",
       "dtype: int64"
      ]
     },
     "execution_count": 18,
     "metadata": {},
     "output_type": "execute_result"
    }
   ],
   "source": [
    "df.isna().sum()"
   ]
  },
  {
   "cell_type": "code",
   "execution_count": 19,
   "metadata": {},
   "outputs": [
    {
     "data": {
      "text/plain": [
       "array([nan, 'Tianzhu County', 'Huaxi District', \"Yuan'an County\"],\n",
       "      dtype=object)"
      ]
     },
     "execution_count": 19,
     "metadata": {},
     "output_type": "execute_result"
    }
   ],
   "source": [
    "df.admin3.unique()"
   ]
  },
  {
   "cell_type": "code",
   "execution_count": 20,
   "metadata": {},
   "outputs": [],
   "source": [
    "cat_names = ['age', 'sex', 'city',\n",
    "             'province', 'country',\n",
    "            'chronic_disease_binary',\n",
    "             'country_new', \n",
    "            'travel_history_binary']\n",
    "\n",
    "cont_names = ['latitude', 'longitude'] \n",
    "\n",
    "y_names = ['outcome']"
   ]
  },
  {
   "cell_type": "code",
   "execution_count": 21,
   "metadata": {},
   "outputs": [],
   "source": [
    "#df.columns"
   ]
  },
  {
   "cell_type": "code",
   "execution_count": 36,
   "metadata": {},
   "outputs": [
    {
     "name": "stdout",
     "output_type": "stream",
     "text": [
      "<class 'pandas.core.frame.DataFrame'>\n",
      "Int64Index: 103531 entries, 8667 to 673607\n",
      "Data columns (total 21 columns):\n",
      "age                         5407 non-null object\n",
      "sex                         6547 non-null object\n",
      "city                        89489 non-null object\n",
      "province                    103291 non-null object\n",
      "country                     103531 non-null object\n",
      "latitude                    103531 non-null float64\n",
      "longitude                   103531 non-null float64\n",
      "geo_resolution              103531 non-null object\n",
      "lives_in_Wuhan              53 non-null object\n",
      "travel_history_location     283 non-null object\n",
      "reported_market_exposure    2 non-null object\n",
      "chronic_disease_binary      103531 non-null bool\n",
      "outcome                     103531 non-null object\n",
      "location                    2545 non-null object\n",
      "admin3                      5 non-null object\n",
      "admin2                      320 non-null object\n",
      "admin1                      12206 non-null object\n",
      "country_new                 100067 non-null object\n",
      "admin_id                    103531 non-null float64\n",
      "data_moderator_initials     98645 non-null object\n",
      "travel_history_binary       103387 non-null object\n",
      "dtypes: bool(1), float64(3), object(17)\n",
      "memory usage: 16.7+ MB\n"
     ]
    }
   ],
   "source": [
    "df.info()"
   ]
  },
  {
   "cell_type": "code",
   "execution_count": 38,
   "metadata": {},
   "outputs": [
    {
     "data": {
      "text/plain": [
       "array(['recovered', 'stable', 'died', 'Recovered', 'Deceased',\n",
       "       'stable condition'], dtype=object)"
      ]
     },
     "execution_count": 38,
     "metadata": {},
     "output_type": "execute_result"
    }
   ],
   "source": [
    "df.outcome.unique()"
   ]
  },
  {
   "cell_type": "markdown",
   "metadata": {},
   "source": [
    "### Create Learner"
   ]
  },
  {
   "cell_type": "code",
   "execution_count": 22,
   "metadata": {},
   "outputs": [],
   "source": [
    "X = ft.range_of(df)"
   ]
  },
  {
   "cell_type": "code",
   "execution_count": 23,
   "metadata": {},
   "outputs": [],
   "source": [
    "valid_cut = len(df) - 40000"
   ]
  },
  {
   "cell_type": "code",
   "execution_count": 24,
   "metadata": {},
   "outputs": [],
   "source": [
    "src = ft.TabularPandas(df,\n",
    "                      procs = [ft.Categorify, ft.FillMissing],\n",
    "                      cat_names = cat_names,\n",
    "                      cont_names = cont_names,\n",
    "                      y_names = y_names, \n",
    "                       y_block = ft.CategoryBlock,\n",
    "                      splits = (X[:valid_cut], X[valid_cut:])\n",
    "                      )"
   ]
  },
  {
   "cell_type": "code",
   "execution_count": 25,
   "metadata": {},
   "outputs": [],
   "source": [
    "dls = src.dataloaders(bs=1024)"
   ]
  },
  {
   "cell_type": "markdown",
   "metadata": {},
   "source": [
    "dataloaders"
   ]
  },
  {
   "cell_type": "code",
   "execution_count": 124,
   "metadata": {},
   "outputs": [],
   "source": [
    "learn = ft.tabular_learner(dls,\n",
    "                          loss_func = ft.CrossEntropyLossFlat(weight=torch.tensor([0.9, 0.1, 0.7, 0.1, 0.6, 0.6]).cuda()),\n",
    "                             emb_szs = {'age':8, 'sex':3, 'city':8, 'province':16, 'country':16, \n",
    "                                        'latitude':12,'longitude':12, 'chronic_disease_binary':2,\n",
    "                                         'country_new':10, 'travel_history_binary':2},\n",
    "                          layers = [64,128,256], #Numero de neuronas en cada capa oculta\n",
    "                          config = ft.tabular_config(act_cls=nn.LeakyReLU(inplace=True)),\n",
    "                           #ps(dropout), embedingdropout, sigmoide, batchnorm, activacion\n",
    "                          opt_func = ft.ranger,\n",
    "                           metrics = ft.accuracy)"
   ]
  },
  {
   "cell_type": "markdown",
   "metadata": {},
   "source": [
    "Función de pérdida: CrossEntropyLossFlat con balanceo de peso en las clases"
   ]
  },
  {
   "cell_type": "code",
   "execution_count": 40,
   "metadata": {},
   "outputs": [
    {
     "data": {
      "text/plain": [
       "array(['20-29', '27', '50-59', '52', '47', '54', '50', '35', '37', '24',\n",
       "       '76', '38', '60-69', nan, '65', '21', '64', '63', '53', '39', '71',\n",
       "       '45', '42', '25', '87', '4', '2', '67', '22-80', '44', '19-77',\n",
       "       '70-79', '21-72', '80-89', '70', '90-99', '92', '28', '49', '72',\n",
       "       '79', '55', '66', '58', '78', '82', '85', '69', '36', '73', '81',\n",
       "       '15-88', '48', '89', '61', '75', '80', '86', '84', '20', '40',\n",
       "       '62', '56', '33', '60', '59', '30', '18', '15', '23', '17', '19',\n",
       "       '22', '8', '14', '26', '41', '46', '34', '20-57', '29', '0.75',\n",
       "       '43', '32', '13', '11', '77', '91', '74', '68', '31', '51', '90',\n",
       "       '57', '0', '83', '6', '1', '3', '99', '10', '88', '16', '96', '98',\n",
       "       '7', '9', '5', '94', '101', '97', '95', '12', '93'], dtype=object)"
      ]
     },
     "execution_count": 40,
     "metadata": {},
     "output_type": "execute_result"
    }
   ],
   "source": [
    "df.age.unique()"
   ]
  },
  {
   "cell_type": "code",
   "execution_count": 44,
   "metadata": {},
   "outputs": [],
   "source": [
    "a = dls[0].one_batch()\n",
    "#0 train\n",
    "#1 test\n",
    "#2 opcional"
   ]
  },
  {
   "cell_type": "code",
   "execution_count": 45,
   "metadata": {},
   "outputs": [
    {
     "data": {
      "text/plain": [
       "(tensor([[  0,   0,   0,  ...,   1,  14,   1],\n",
       "         [  0,   0, 416,  ...,   1,  14,   1],\n",
       "         [  0,   0,  55,  ...,   1,  14,   1],\n",
       "         ...,\n",
       "         [  0,   0, 882,  ...,   1,  14,   1],\n",
       "         [  0,   0, 619,  ...,   1,  14,   1],\n",
       "         [  0,   0,  10,  ...,   1,  14,   1]], device='cuda:0'),\n",
       " tensor([[28.6147, 77.2091],\n",
       "         [26.2669, 73.0305],\n",
       "         [19.8701, 75.3460],\n",
       "         ...,\n",
       "         [19.2000, 72.9667],\n",
       "         [25.1259, 85.4537],\n",
       "         [23.0278, 72.6003]], device='cuda:0'),\n",
       " tensor([[1],\n",
       "         [1],\n",
       "         [1],\n",
       "         ...,\n",
       "         [1],\n",
       "         [1],\n",
       "         [1]], device='cuda:0', dtype=torch.int8))"
      ]
     },
     "execution_count": 45,
     "metadata": {},
     "output_type": "execute_result"
    }
   ],
   "source": [
    "a"
   ]
  },
  {
   "cell_type": "code",
   "execution_count": 46,
   "metadata": {},
   "outputs": [
    {
     "data": {
      "text/plain": [
       "torch.Size([1024, 8])"
      ]
     },
     "execution_count": 46,
     "metadata": {},
     "output_type": "execute_result"
    }
   ],
   "source": [
    "a[0].shape"
   ]
  },
  {
   "cell_type": "code",
   "execution_count": 48,
   "metadata": {},
   "outputs": [
    {
     "data": {
      "text/plain": [
       "1024"
      ]
     },
     "execution_count": 48,
     "metadata": {},
     "output_type": "execute_result"
    }
   ],
   "source": [
    "dls.bs"
   ]
  },
  {
   "cell_type": "markdown",
   "metadata": {},
   "source": [
    "Tamaño de lote (filas)"
   ]
  },
  {
   "cell_type": "code",
   "execution_count": 27,
   "metadata": {},
   "outputs": [
    {
     "data": {
      "text/plain": [
       "TabularModel(\n",
       "  (embeds): ModuleList(\n",
       "    (0): Embedding(114, 8)\n",
       "    (1): Embedding(3, 3)\n",
       "    (2): Embedding(977, 8)\n",
       "    (3): Embedding(123, 16)\n",
       "    (4): Embedding(27, 16)\n",
       "    (5): Embedding(3, 2)\n",
       "    (6): Embedding(25, 10)\n",
       "    (7): Embedding(3, 2)\n",
       "  )\n",
       "  (emb_drop): Dropout(p=0.0, inplace=False)\n",
       "  (bn_cont): BatchNorm1d(2, eps=1e-05, momentum=0.1, affine=True, track_running_stats=True)\n",
       "  (layers): Sequential(\n",
       "    (0): LinBnDrop(\n",
       "      (0): BatchNorm1d(67, eps=1e-05, momentum=0.1, affine=True, track_running_stats=True)\n",
       "      (1): Linear(in_features=67, out_features=64, bias=False)\n",
       "      (2): LeakyReLU(negative_slope=0.01, inplace=True)\n",
       "    )\n",
       "    (1): LinBnDrop(\n",
       "      (0): BatchNorm1d(64, eps=1e-05, momentum=0.1, affine=True, track_running_stats=True)\n",
       "      (1): Linear(in_features=64, out_features=128, bias=False)\n",
       "      (2): LeakyReLU(negative_slope=0.01, inplace=True)\n",
       "    )\n",
       "    (2): LinBnDrop(\n",
       "      (0): BatchNorm1d(128, eps=1e-05, momentum=0.1, affine=True, track_running_stats=True)\n",
       "      (1): Linear(in_features=128, out_features=256, bias=False)\n",
       "      (2): LeakyReLU(negative_slope=0.01, inplace=True)\n",
       "    )\n",
       "    (3): LinBnDrop(\n",
       "      (0): Linear(in_features=256, out_features=6, bias=True)\n",
       "    )\n",
       "  )\n",
       ")"
      ]
     },
     "execution_count": 27,
     "metadata": {},
     "output_type": "execute_result"
    }
   ],
   "source": [
    "learn.model"
   ]
  },
  {
   "cell_type": "markdown",
   "metadata": {},
   "source": [
    "Capas lineales -> multiplicaciones de matrices\n",
    "\n",
    "Después de cada multiplicación se hace una activación. Negative slope en LeakyReLU es la pendiente de los números negativos en la activación.\n",
    "\n",
    "La información del modelo se codifica en las matrices. Para que no se pierda la información al hacer la multiplicación de muchas matrices, se usan funciones de activación."
   ]
  },
  {
   "cell_type": "markdown",
   "metadata": {},
   "source": [
    "Activaciones de los modelos:\n",
    "- Adentro:\n",
    "> - ReLU\n",
    "> - Leaky ReLU\n",
    "- Output (función de activación al final del modelo):\n",
    "> - Sigmoide\n",
    "> - TanH\n"
   ]
  },
  {
   "cell_type": "code",
   "execution_count": 51,
   "metadata": {},
   "outputs": [
    {
     "data": {
      "text/plain": [
       "TabularModel(\n",
       "  (embeds): ModuleList(\n",
       "    (0): Embedding(114, 8)\n",
       "    (1): Embedding(3, 3)\n",
       "    (2): Embedding(977, 8)\n",
       "    (3): Embedding(123, 16)\n",
       "    (4): Embedding(27, 16)\n",
       "    (5): Embedding(3, 2)\n",
       "    (6): Embedding(25, 10)\n",
       "    (7): Embedding(3, 2)\n",
       "  )\n",
       "  (emb_drop): Dropout(p=0.0, inplace=False)\n",
       "  (bn_cont): BatchNorm1d(2, eps=1e-05, momentum=0.1, affine=True, track_running_stats=True)\n",
       "  (layers): Sequential(\n",
       "    (0): LinBnDrop(\n",
       "      (0): BatchNorm1d(67, eps=1e-05, momentum=0.1, affine=True, track_running_stats=True)\n",
       "      (1): Linear(in_features=67, out_features=64, bias=False)\n",
       "      (2): LeakyReLU(negative_slope=0.01, inplace=True)\n",
       "    )\n",
       "    (1): LinBnDrop(\n",
       "      (0): BatchNorm1d(64, eps=1e-05, momentum=0.1, affine=True, track_running_stats=True)\n",
       "      (1): Linear(in_features=64, out_features=128, bias=False)\n",
       "      (2): LeakyReLU(negative_slope=0.01, inplace=True)\n",
       "    )\n",
       "    (2): LinBnDrop(\n",
       "      (0): BatchNorm1d(128, eps=1e-05, momentum=0.1, affine=True, track_running_stats=True)\n",
       "      (1): Linear(in_features=128, out_features=256, bias=False)\n",
       "      (2): LeakyReLU(negative_slope=0.01, inplace=True)\n",
       "    )\n",
       "    (3): LinBnDrop(\n",
       "      (0): Linear(in_features=256, out_features=6, bias=True)\n",
       "    )\n",
       "  )\n",
       ")"
      ]
     },
     "execution_count": 51,
     "metadata": {},
     "output_type": "execute_result"
    }
   ],
   "source": [
    "learn.model.cuda()"
   ]
  },
  {
   "cell_type": "markdown",
   "metadata": {},
   "source": [
    "#### * Modelos Lineales:\n",
    "- Normalizar para que los resultdos no se vayan a infinito\n",
    "- Capa Lineal (Multiplicaciones de Tensores)\n",
    "- Activación\n",
    "\n",
    "* **Tensor más grande cada bloque** \n",
    "* **Última capa del tamaño del tensor de categorías**  _Qué tan probable es que sea cada categoría_"
   ]
  },
  {
   "cell_type": "markdown",
   "metadata": {},
   "source": [
    "#### Embedings:\n",
    "* Lista de vectores de tamaño controlable < Fastai tiene sus heurísticas >\n",
    "* Cada vector asociado a las categorías\n",
    "\n",
    "Ejemplo\n",
    "* (embeds): ModuleList(\n",
    "*    (0): Embedding(114, 8)\n",
    "> - 114: lista\n",
    "> - tamaño del embeding que di"
   ]
  },
  {
   "cell_type": "code",
   "execution_count": 52,
   "metadata": {},
   "outputs": [
    {
     "data": {
      "text/plain": [
       "tensor([[-5.0540e-02, -3.7993e-01, -4.3610e-01, -7.0821e-02, -1.4428e-01,\n",
       "         -1.0673e-01],\n",
       "        [-2.2094e-01, -6.8163e-02, -8.3553e-02, -2.4713e-02,  2.1691e-01,\n",
       "         -8.4673e-02],\n",
       "        [-1.3945e-01, -1.0739e-01, -1.8762e-02, -4.1400e-03,  1.8481e-01,\n",
       "         -4.0843e-04],\n",
       "        ...,\n",
       "        [-1.2897e-01, -2.3018e-01, -1.7434e-01,  1.2299e-02, -5.8411e-02,\n",
       "          1.8897e-02],\n",
       "        [-1.1696e-01, -6.4410e-02, -2.9174e-01, -1.4673e-01,  1.1902e-01,\n",
       "         -1.4062e-01],\n",
       "        [-7.9503e-02, -1.3875e-01,  4.6653e-02, -2.9468e-02, -3.7914e-02,\n",
       "         -1.4844e-02]], device='cuda:0', grad_fn=<AddmmBackward>)"
      ]
     },
     "execution_count": 52,
     "metadata": {},
     "output_type": "execute_result"
    }
   ],
   "source": [
    "learn.model(a[0],a[1])"
   ]
  },
  {
   "cell_type": "code",
   "execution_count": 53,
   "metadata": {},
   "outputs": [
    {
     "data": {
      "text/plain": [
       "torch.Size([1024, 6])"
      ]
     },
     "execution_count": 53,
     "metadata": {},
     "output_type": "execute_result"
    }
   ],
   "source": [
    "learn.model(a[0],a[1]).shape"
   ]
  },
  {
   "cell_type": "code",
   "execution_count": 54,
   "metadata": {},
   "outputs": [
    {
     "data": {
      "text/plain": [
       "FlattenedLoss of CrossEntropyLoss()"
      ]
     },
     "execution_count": 54,
     "metadata": {},
     "output_type": "execute_result"
    }
   ],
   "source": [
    "learn.loss_func"
   ]
  },
  {
   "cell_type": "code",
   "execution_count": 33,
   "metadata": {},
   "outputs": [
    {
     "data": {
      "text/plain": [
       "torch.Size([64, 67])"
      ]
     },
     "execution_count": 33,
     "metadata": {},
     "output_type": "execute_result"
    }
   ],
   "source": [
    "learn.model.layers[0][1].weight.shape"
   ]
  },
  {
   "cell_type": "code",
   "execution_count": 55,
   "metadata": {},
   "outputs": [
    {
     "data": {
      "text/html": [],
      "text/plain": [
       "<IPython.core.display.HTML object>"
      ]
     },
     "metadata": {},
     "output_type": "display_data"
    },
    {
     "data": {
      "text/plain": [
       "SuggestedLRs(lr_min=0.05248074531555176, lr_steep=0.009120108559727669)"
      ]
     },
     "execution_count": 55,
     "metadata": {},
     "output_type": "execute_result"
    },
    {
     "data": {
      "image/png": "[encoded data removed]",
      "text/plain": [
       "<Figure size 432x288 with 1 Axes>"
      ]
     },
     "metadata": {
      "needs_background": "light"
     },
     "output_type": "display_data"
    }
   ],
   "source": [
    "learn.lr_find()"
   ]
  },
  {
   "cell_type": "code",
   "execution_count": 125,
   "metadata": {},
   "outputs": [
    {
     "data": {
      "text/html": [
       "<table border=\"1\" class=\"dataframe\">\n",
       "  <thead>\n",
       "    <tr style=\"text-align: left;\">\n",
       "      <th>epoch</th>\n",
       "      <th>train_loss</th>\n",
       "      <th>valid_loss</th>\n",
       "      <th>accuracy</th>\n",
       "      <th>time</th>\n",
       "    </tr>\n",
       "  </thead>\n",
       "  <tbody>\n",
       "    <tr>\n",
       "      <td>0</td>\n",
       "      <td>1.386739</td>\n",
       "      <td>1.467391</td>\n",
       "      <td>0.842850</td>\n",
       "      <td>00:01</td>\n",
       "    </tr>\n",
       "    <tr>\n",
       "      <td>1</td>\n",
       "      <td>0.849622</td>\n",
       "      <td>0.821952</td>\n",
       "      <td>0.843525</td>\n",
       "      <td>00:01</td>\n",
       "    </tr>\n",
       "    <tr>\n",
       "      <td>2</td>\n",
       "      <td>0.586492</td>\n",
       "      <td>0.748176</td>\n",
       "      <td>0.851700</td>\n",
       "      <td>00:01</td>\n",
       "    </tr>\n",
       "    <tr>\n",
       "      <td>3</td>\n",
       "      <td>0.487231</td>\n",
       "      <td>0.766176</td>\n",
       "      <td>0.641000</td>\n",
       "      <td>00:01</td>\n",
       "    </tr>\n",
       "    <tr>\n",
       "      <td>4</td>\n",
       "      <td>0.454717</td>\n",
       "      <td>0.788149</td>\n",
       "      <td>0.852800</td>\n",
       "      <td>00:01</td>\n",
       "    </tr>\n",
       "    <tr>\n",
       "      <td>5</td>\n",
       "      <td>0.440821</td>\n",
       "      <td>0.754326</td>\n",
       "      <td>0.658925</td>\n",
       "      <td>00:01</td>\n",
       "    </tr>\n",
       "    <tr>\n",
       "      <td>6</td>\n",
       "      <td>0.434909</td>\n",
       "      <td>0.773753</td>\n",
       "      <td>0.666075</td>\n",
       "      <td>00:01</td>\n",
       "    </tr>\n",
       "    <tr>\n",
       "      <td>7</td>\n",
       "      <td>0.433287</td>\n",
       "      <td>0.795884</td>\n",
       "      <td>0.663525</td>\n",
       "      <td>00:01</td>\n",
       "    </tr>\n",
       "    <tr>\n",
       "      <td>8</td>\n",
       "      <td>0.429817</td>\n",
       "      <td>0.800501</td>\n",
       "      <td>0.666950</td>\n",
       "      <td>00:01</td>\n",
       "    </tr>\n",
       "    <tr>\n",
       "      <td>9</td>\n",
       "      <td>0.428116</td>\n",
       "      <td>0.804195</td>\n",
       "      <td>0.653825</td>\n",
       "      <td>00:01</td>\n",
       "    </tr>\n",
       "    <tr>\n",
       "      <td>10</td>\n",
       "      <td>0.430232</td>\n",
       "      <td>0.815515</td>\n",
       "      <td>0.669425</td>\n",
       "      <td>00:01</td>\n",
       "    </tr>\n",
       "    <tr>\n",
       "      <td>11</td>\n",
       "      <td>0.428167</td>\n",
       "      <td>0.786220</td>\n",
       "      <td>0.885875</td>\n",
       "      <td>00:01</td>\n",
       "    </tr>\n",
       "    <tr>\n",
       "      <td>12</td>\n",
       "      <td>0.423453</td>\n",
       "      <td>0.787432</td>\n",
       "      <td>0.888675</td>\n",
       "      <td>00:01</td>\n",
       "    </tr>\n",
       "    <tr>\n",
       "      <td>13</td>\n",
       "      <td>0.422265</td>\n",
       "      <td>0.839377</td>\n",
       "      <td>0.882975</td>\n",
       "      <td>00:01</td>\n",
       "    </tr>\n",
       "    <tr>\n",
       "      <td>14</td>\n",
       "      <td>0.420885</td>\n",
       "      <td>0.830534</td>\n",
       "      <td>0.887725</td>\n",
       "      <td>00:01</td>\n",
       "    </tr>\n",
       "    <tr>\n",
       "      <td>15</td>\n",
       "      <td>0.419512</td>\n",
       "      <td>0.865151</td>\n",
       "      <td>0.880850</td>\n",
       "      <td>00:01</td>\n",
       "    </tr>\n",
       "    <tr>\n",
       "      <td>16</td>\n",
       "      <td>0.418157</td>\n",
       "      <td>0.876176</td>\n",
       "      <td>0.887200</td>\n",
       "      <td>00:01</td>\n",
       "    </tr>\n",
       "    <tr>\n",
       "      <td>17</td>\n",
       "      <td>0.417304</td>\n",
       "      <td>0.876528</td>\n",
       "      <td>0.663550</td>\n",
       "      <td>00:01</td>\n",
       "    </tr>\n",
       "    <tr>\n",
       "      <td>18</td>\n",
       "      <td>0.416622</td>\n",
       "      <td>0.873418</td>\n",
       "      <td>0.664450</td>\n",
       "      <td>00:01</td>\n",
       "    </tr>\n",
       "    <tr>\n",
       "      <td>19</td>\n",
       "      <td>0.416774</td>\n",
       "      <td>0.871262</td>\n",
       "      <td>0.663800</td>\n",
       "      <td>00:01</td>\n",
       "    </tr>\n",
       "  </tbody>\n",
       "</table>"
      ],
      "text/plain": [
       "<IPython.core.display.HTML object>"
      ]
     },
     "metadata": {},
     "output_type": "display_data"
    }
   ],
   "source": [
    "learn.fit_one_cycle(20, 1e-3, div=2, pct_start=0.5)"
   ]
  },
  {
   "cell_type": "markdown",
   "metadata": {},
   "source": [
    "# Predictions"
   ]
  },
  {
   "cell_type": "markdown",
   "metadata": {},
   "source": [
    "Las predicciones llevan tres pasos:\n",
    "* Codificar los datos a números usando los números de las clases que determona el modelo\n",
    "* Pasar el input al modelo \n",
    "* Obtener el mayor índice correspondinte a las categorías y asociarlo a la clase."
   ]
  },
  {
   "cell_type": "markdown",
   "metadata": {},
   "source": [
    "## Método manual"
   ]
  },
  {
   "cell_type": "code",
   "execution_count": 57,
   "metadata": {},
   "outputs": [
    {
     "data": {
      "text/plain": [
       "{'age': ['#na#', '0', '0.75', '1', '10', '101', '11', '12', '13', '14', '15', '15-88', '16', '17', '18', '19', '19-77', '2', '20', '20-29', '20-57', '21', '21-72', '22', '22-80', '23', '24', '25', '26', '27', '28', '29', '3', '30', '31', '32', '33', '34', '35', '36', '37', '38', '39', '4', '40', '41', '42', '43', '44', '45', '46', '47', '48', '49', '5', '50', '50-59', '51', '52', '53', '54', '55', '56', '57', '58', '59', '6', '60', '60-69', '61', '62', '63', '64', '65', '66', '67', '68', '69', '7', '70', '70-79', '71', '72', '73', '74', '75', '76', '77', '78', '79', '8', '80', '80-89', '81', '82', '83', '84', '85', '86', '87', '88', '89', '9', '90', '90-99', '91', '92', '93', '94', '95', '96', '97', '98', '99'],\n",
       " 'sex': ['#na#', 'female', 'male'],\n",
       " 'city': ['#na#', '71', 'Abucay', 'Addis Ababa', 'Addis Kidame', 'Adilabad', 'Afar', 'Agar Malwa', 'Agoo', 'Agra', 'Ahmedabad', 'Ahmednagar', 'Airport Quarantine', 'Aizawl', 'Ajmer', 'Akanda', 'Akola', 'Alaminos', 'Aland', 'Alappuzha', 'Aligarh', 'Alirajpur', 'Alitagtag', 'Almora', 'Altavas', 'Alwar', 'Ambala', 'Ambedkar Nagar', 'Amethi', 'Amravati', 'Amreli', 'Amritsar', 'Amroha', 'Anand', 'Anantapur', 'Anantnag', 'Angat', 'Angeles', 'Angono', 'Angul', 'Ankang City', 'Anqing City', 'Antipolo', 'Anuppur', 'Apalit', 'Araria', 'Aravalli', 'Aritao', 'Ariyalur', 'Arusha', 'Arwal', 'Ashoknagar', 'Asingan', 'Atimonan', 'Auraiya', 'Aurangabad', 'Ayodhya', 'Azamgarh', 'BIDAR', 'BSF Camp', 'Bacolod', 'Bacolor', 'Bacoor', 'Bagalkote', 'Bageshwar', 'Baggao', 'Baghpat', 'Baguio', 'Bahir Dar', 'Bahirdar', 'Bahraich', 'Bais', 'Balanga', 'Balangir', 'Balasore', 'Baliuag', 'Ballari', 'Ballia', 'Balod', 'Baloda Bazar', 'Balrampur', 'Bametara', 'Banaskantha', 'Banate', 'Banda', 'Bandipora', 'Banga', 'Banjul', 'Banka', 'Bankura', 'Banswara', 'Bantwal', 'Bantwala', 'Baoji City', 'Bapu Dham Colony, Sector 26', 'Bapudham Colony, Sector 26', 'Barabanki', 'Baramati', 'Baramulla', 'Baran', 'Baras', 'Bareilly', 'Barmer', 'Barnala', 'Barotac Nuevo', 'Barpeta', 'Barwani', 'Basti', 'Batac', 'Batangas', 'Bathinda', 'Batu', 'Bauan', 'Bauang', 'Bay', 'Beed', 'Begusarai', 'Belagavi', 'Belchi', 'Bengaluru', 'Bengaluru Rural', 'Bengaluru Urban', 'Betul', 'Bhadohi', 'Bhadrak', 'Bhagalpur', 'Bhandara', 'Bharat Nagar', 'Bharatpur', 'Bharuch', 'Bhatkal', 'Bhavnagar', 'Bhawani Peth Pune', 'Bhilai', 'Bhilwara', 'Bhind', 'Bhiwani', 'Bhojpur', 'Bhopal', 'Bhubaneswar', 'Bidar', 'Bijnor', 'Bikaner', 'Bilaspur', 'Binalonan', 'Binan', 'Binangonan', 'Birbhum', 'Boa Vista', 'Bocaue', 'Bokaro', 'Bokod', 'Bongabong', 'Bongaigaon', 'Botad', 'Boudh', 'Budaun', 'Budgam', 'Bulacan', 'Bulandshahr', 'Buldhana', 'Burauen', 'Burhanpur', 'Bustos', 'Butuan', 'Buxar', 'C Scheme', 'Caba', 'Cabagan', 'Cabanatuan', 'Cabuyao', 'Cachar', 'Cagayan De Oro', 'Cainta', 'Calaca', 'Calamba', 'Calapan', 'Calauag', 'Calauan', 'Calbayog', 'Caloocan', 'Calumpit', 'Caluya', 'Camiling', 'Candaba', 'Candelaria', 'Candoni', 'Cangzhou City', 'Capas', 'Carcar', 'Carmona', 'Castillejos', 'Catbalogan', 'Catmon', 'Cauayan', 'Cavinti', 'Cavite', 'Cebu', 'Chamba', 'Champawat', 'Chandauli', 'Chandigarh', 'Chandrapur', 'Changzhou City', 'Chatra', 'Chengalam', 'Chengalpattu', 'Chennai', 'Cheruvancheri', 'Chhatarpur', 'Chhindwara', 'Chhota Udaipur', 'Chikkaballapura', 'Chikkamagaluru', 'Chitaguppa', 'Chitradurga', 'Chitrakoot', 'Chittoor', 'Chittorgarh', 'Churachandpur', 'Churu', 'City', 'Coimbatore', 'Concepcion', 'Consolacion', 'Cordova', 'Cotabato', 'Cuddalore', 'Cuenca', 'Cuttack', 'Daanbantayan', 'Dadra and Nagar Haveli', 'Dagupan', 'Dahod', 'Dakshin Dinajpur', 'Dakshina Kannada', 'Damoh', 'Dang', 'Daraga Locsin', 'Darbhanga', 'Darjeeling', 'Dasmarinas', 'Datia', 'Datu Odin Sinsuat Dinaig', 'Dausa', 'Davanagere', 'Davangere', 'Davao', 'Dehradun', 'Delhi', 'Deogarh', 'Deoghar', 'Deoria', 'Devbhumi Dwarka', 'Dewas', 'Dhalai', 'Dhanbad', 'Dhar', 'Dharmadam', 'Dharmapuri', 'Dharwad', 'Dhenkanal', 'Dholpur', 'Dhubri', 'Dhule', 'Digos', 'Dindigul', 'Dindori', 'Dingle', 'Dire Dawa', 'Doda', 'Dum Dum', 'Dumaguete', 'Dumalinao', 'Dumka', 'Dungarpur', 'Durg', 'East Champaran', 'East Delhi (Mayur Vihar)', 'East Godavari', 'East Khasi Hills', 'East Singhbhum', 'Ermita', 'Ernakulam', 'Erode', 'Etah', 'Etawah', 'Evacuees', 'Fajara', 'Faridabad', 'Faridkot', 'Farrukhabad', 'Fatehabad', 'Fatehgarh Sahib', 'Fatehpur', 'Fazilka', 'Ferozepur', 'Firozabad', 'Foreign Evacuees', 'Gadag', 'Gadchiroli', 'Gajapati', 'Ganderbal', 'Gandhinagar', 'Ganjam', 'Gapan', 'Garhwa', 'Gariaband', 'Gasan', 'Gauribidanur', 'Gautam Buddha Nagar', 'Gaya', 'General Dadiangas', 'General Mamerto Natividad', 'General Mariano Alvarez', 'General Trias', 'Gewane', 'Ghaziabad', 'Ghazipur', 'Gir Somnath', 'Giridih', 'Gloria', 'Goalpara', 'Godda', 'Gogri', 'Golaghat', 'Gomati', 'Gonda', 'Gondia', 'Gopalganj', 'Gorakhpur', 'Gowribidanur', 'Guagua', 'Guiguinto', 'Guimbal', 'Guinobatan', 'Guiyang City', 'Guna', 'Guntur', 'Gurdaspur', 'Gurugram', 'Gwalior', 'Habra', 'Hadapsar - Pune', 'Hadapsar-Pune', 'Hamirpur', 'Hanumangarh', 'Hanzhong City', 'Hapur', 'Harare', 'Harda', 'Hardoi', 'Haridwar', 'Hassan', 'Hathras', 'Haveri', 'Hazaribagh', 'Hazi colony', 'Heeda Ki Mori', 'Hermosa', 'Hingoli', 'Hisar', 'Hong Kong', 'Hooghly', 'Hosayellapur', 'Hoshangabad', 'Hoshiarpur', 'Howrah', \"Huai'an City\", 'Huaxi District, Guiyang City', 'Hyderabad', 'Idukki', 'Iligan', 'Iloilo', 'Imphal', 'Imus', 'Indanan', 'Indang', 'Indore', 'Infanta', 'Island', 'Island Garden of Samal', 'Jabalpur', 'Jaen', 'Jagatsinghpur', 'Jaipur', 'Jaisalmer', 'Jajpur', 'Jalandhar', 'Jalaun', 'Jalgaon', 'Jalna', 'Jalore', 'Jalpaiguri', 'Jammu', 'Jamnagar', 'Jamtara', 'Jamui', 'Janakpuri', 'Janjgir Champa', 'Jaunpur', 'Jehanabad', 'Jhabua', 'Jhajjar', 'Jhalawar', 'Jhansi', 'Jhargram', 'Jharpada', 'Jharsuguda', 'Jhunjhunu', 'JigJiga', 'Jimalalud', 'Jimenez', 'Jimma', 'Jind', 'Jiyaguda', 'Jodhpur', 'Jogulamba Gadwal', 'Johari Bazar', 'Jorhat', 'Junagadh', 'Kabeerdham', 'Kaimur', 'Kaithal', 'Kalaburagi', 'Kalahandi', 'Kalibo', 'Kalimpong', 'Kallakurichi', 'Kamjong', 'Kamrup Metropolitan', 'Kancheepuram', 'Kandhamal', 'Kangra', 'Kannauj', 'Kannur', 'Kanpur Dehat', 'Kanpur Nagar', 'Kanyakumari', 'Kapatagan', 'Kapurthala', 'Karaikal', 'Karauli', 'Kargil', 'Karimganj', 'Karimnagar', 'Karnal', 'Karur', 'Kasaragod', 'Kasganj', 'Katghora', 'Kathua', 'Katihar', 'Kaushambi', 'Kawit', 'Kendrapara', 'Kendujhar', 'Khagaria', 'Khammam', 'Khandwa', 'Khargone', 'Khartoum', 'Kheda', 'Khordha', 'Khowai', 'Kidapawan', 'King County', 'Kishanganj', 'Kochi', 'Kodagu', 'Koderma', 'Kolar', 'Kolhapur', 'Kolkata', 'Kollam', 'Komaram Bheem', 'Koppal', 'Koraput', 'Korba', 'Koriya', 'Koronadal', 'Kota', 'Kottayam', 'Kozhencherry', 'Kozhikode', 'Krishna', 'Krishnagiri', 'Kukurbeda', 'Kulgam', 'Kullu', 'Kupwara', 'Kurla', 'Kurnool', 'Kurukshetra', 'Kushinagar', 'Kutch', 'La', 'La Castellana', 'La Trinidad', 'Labangan', 'Labo', 'Ladpura', 'Lakhimpur Kheri', 'Lakhisarai', 'Lalitpur', 'Lambayong', 'Lambunao', 'Lamut', 'Lapu-Lapu Opon', 'Las Pinas', 'Latehar', 'Latur', 'Laua-An', 'Legazpi', 'Leh', 'Lemery', 'Lianyungang City', 'Libmanan', 'Liliw', 'Limay', 'Limboni Nagar Pune', 'Lingayen', 'Lipa', 'Lobo', 'Lohardaga', 'Lome', 'London', 'Los Banos', 'Lucban', 'Lucena', 'Lucknow', 'Ludhiana', 'Lumban', 'Lutayan', 'Madhepura', 'Madhubani', 'Madhusudan Nagar', 'Madurai', 'Magsaysay', 'Maharajganj', 'Mahe', 'Mahendragarh', 'Mahinog', 'Mahisagar', 'Mahoba', 'Mainpuri', 'Maitum', 'Majayjay', 'Makati', 'Malabon', 'Malappuram', 'Malda', 'Malegaon', 'Malita', 'Malkangiri', 'Malolos', 'Mambusao', 'Manabo', 'Mandaluyong', 'Mandaue', 'Mandi', 'Mandla', 'Mandsaur', 'Mandya', 'Mangaldan', 'Mangaluru', 'Manila', 'Mansa', 'Mansalay', 'Maradu', 'Marantao', 'Marawi', 'Marikina', 'Marilao', 'Mariveles', 'Mascara', 'Mathura', 'Mati', 'Mau', 'Mavoor', 'Mawab', 'Mayurbhanj', 'Medak', 'Medchal Malkajgiri', 'Meerut', 'Mehsana', 'Meycauayan', 'Miagao', 'Midsayap', 'Minglanilla', 'Mirzapur', 'Moga', 'Mogpog', 'Moosa Bowli', 'Moradabad', 'Morbi', 'Morbihan', 'Morena', 'Morigaon', 'Morong', 'Mumbai', 'Mungeli', 'Munger', 'Munnar', 'Muntinlupa', 'Murshidabad', 'Muzaffarnagar', 'Muzaffarpur', 'Mysuru', 'Nadia', 'Naga', 'Nagapattinam', 'Nagaur', 'Nagcarlan', 'Nagpur', 'Naguilian', 'Naic', 'Nainital', 'Nala Bazar', 'Nalanda', 'Nalgonda', 'Namakkal', 'Nanded', 'Nandurbar', 'Nanjangud', 'Nanjing City', 'Nantong City', 'Narmada', 'Nashik', 'Nasugbu', 'National Centre for Infectious Diseases', 'Naugaon Saadat', 'Naujan', 'Navotas', 'Navsari', 'Nawada', 'Nawanagar', 'Nayagarh', 'Nedumangad', 'Neemuch', 'Nellore', 'Nilgiris', 'Nirmal', 'Nizamabad', 'North 24 Parganas', 'North Tripura', 'North and Middle Andaman', 'Norzagaray', 'Nuh', 'Numuyel', 'Obando', 'Olongapo', 'Orani', 'Orion', 'Osmanabad', 'Other State', 'Ouagadougou', 'Ozamiz', 'Padre Garcia', 'Pagadian', 'Pagsanjan', 'Palakkad', 'Palamu', 'Palghar', 'Pali', 'Palwal', 'Panchkula', 'Panchmahal', 'Pandan', 'Panipat', 'Panna', 'Pantukan', 'Paoay', 'Paombong', 'Paranaque', 'Parbhani', 'Parvati - Pune', 'Pasacao', 'Pasay', 'Paschim Bardhaman', 'Paschim Medinipur', 'Pasig', 'Patan', 'Pateros', 'Pathanamthitta', 'Pathankot', 'Patiala', 'Patna', 'Pauri Garhwal', 'Pavia', 'Pennington County', 'Perambalur', 'Piat', 'Pila', 'Pilar', 'Pilibhit', 'Pinamalayan', 'Polomolok', 'Porac', 'Porbandar', 'Prakasam', 'Pratapgarh', 'Prayagraj', 'Puducherry', 'Pudukkottai', 'Puerto', 'Puerto Galera', 'Pulilan', 'Pulwama', 'Pune', 'Pune Rural', 'Purba Bardhaman', 'Purba Medinipur', 'Puri', 'Purnia', 'Quarry Bay', 'Quezon', 'Rae Bareli', 'Raichur', 'Raigad', 'Railway Quarantine', 'Raipur', 'Raisen', 'Rajanna Sircilla', 'Rajgarh', 'Rajkot', 'Rajnandgaon', 'Rajouri', 'Rajpura', 'Rajsamand', 'Ramanathapuram', 'Ramanthapur', 'Ramban', 'Ramganj', 'Rampur', 'Ranchi', 'Ranga Reddy', 'Ranipet', 'Ranni', 'Ratlam', 'Ratnagiri', 'Reasi', 'Rewa', 'Rewari', 'Rizal', 'Rodriguez Montalban', 'Rohtak', 'Rohtas', 'Rosario', 'Roukela', 'Rourkela', 'Roxas', 'Rupnagar', 'S.A.S. Nagar', 'S.P.S. Nellore', 'Sabarkantha', 'Sablayan', 'Sagar', 'Saharanpur', 'Saharsa', 'Salem', 'Sallapadan', 'Samal', 'Samastipur', 'Samba', 'Sambalpur', 'Sambhal', 'San', 'San Agustin', 'San Fernando', 'San Ildefonso', 'San Isidro', 'San Jose', 'San Jose Del Monte', 'San Juan', 'San Mateo', 'San Miguel', 'San Pablo', 'San Pascual', 'San Pedro', 'San Rafael', 'San Simon', 'Sangareddy', 'Sangli', 'Sangrur', 'Sant Kabir Nagar', 'Santa', 'Santa Cruz', 'Santa Maria', 'Santa Rita', 'Santa Rosa', 'Santiago', 'Santo Tomas', 'Saran', 'Sasaram', 'Sasmuan Sexmoan', 'Satara', 'Satna', 'Sawai Madhopur', 'Seattle', 'Sebeta', 'Sector 18', 'Sector 21', 'Sector 26', 'Sector 30', 'Sector 49', 'Sehore', 'Seoni', 'Shahdol', 'Shahid Bhagat Singh Nagar', 'Shahjahanpur', 'Shajapur', 'Shamli', 'Shangluo City', 'Sheikhpura', 'Sheohar', 'Sheopur', 'Shimla', 'Shivamogga', 'Shivpuri', 'Shopiyan', 'Shrawasti', 'Siddharthnagar', 'Sidhi', 'Sikar', 'Silang', 'Silay', 'Silti', 'Simdega', 'Sindhudurg', 'Sipahijala', 'Sirmaur', 'Sirohi', 'Sirsa', 'Sitamarhi', 'Sitapur', 'Sivaganga', 'Siwan', 'Snohomish County', 'Solan', 'Solano', 'Solapur', 'Sonbhadra', 'Sonipat', 'South 24 Parganas', 'South Andaman', 'Sri Muktsar Sahib', 'Srikakulam', 'Srinagar', 'Subash Chowk', 'Suihua City', 'Sujjanpur', 'Sultanpur', 'Sundargarh', 'Supaul', 'Surajpol', 'Surajpur', 'Surat', 'Surendranagar', 'Suryapet', 'Suzhou City', \"T'Boli\", 'Taal', 'Tabaco', 'Tagudin', 'Taguig', 'Tagum', 'Talisay', 'Tanauan', 'Tanay', 'Tanza', 'Tapi', 'Tarangnan', 'Tarlac', 'Tarn Taran', 'Tayabas', 'Tayasan', 'Taytay', 'Temple Gate', 'Tenkasi', 'Teresa', 'Ternate', 'Thane', 'Thanjavur', 'Theni', 'Thiruvallur', 'Thiruvananthapuram', 'Thiruvarur', 'Thoothukkudi', 'Thoubal', 'Thrissur', 'Tianzhu County, Qiandongnan Prefecture', 'Tiaong', 'Tigbauan', 'Tikamgarh', 'Tiruchirappalli', 'Tirunelveli', 'Tirupathur', 'Tiruppur', 'Tiruvannamalai', 'Tobias Fornier', 'Tongchuan City', 'Tongren City', 'Tonk', 'Torrijos', 'Trece', 'Trece Martires', 'Tuao', 'Tubod', 'Tudela', 'Tuguegarao', 'Tumakuru', 'Tumkur', 'Udaipur', 'Udham Singh Nagar', 'Udhampur', 'Udupi', 'Ujjain', 'Umaria', 'Una', 'Unnao', 'Unokoti', 'Urbiztondo', 'Urdaneta', 'Uttam Nagar', 'Uttar Bastar Kanker', 'Uttar Dinajpur', 'Uttara Kannada', 'Uttarkashi', 'Vadodara', 'Vaishali', 'Valencia', 'Valenzuela', 'Valladolid', 'Valsad', 'Vanasthalipuram', 'Varanasi', 'Varkala', 'Vasai Virar', 'Vellore', 'Victoria', 'Vidisha', 'Vijayapura', 'Vikarabad', 'Viluppuram', 'Virudhunagar', 'Visakapatnam', 'Visakhapatnam', 'Vizianagaram', 'Wan Chai', 'Warangal', 'Wardha', 'Washim', 'Wayanad', 'Weinan City', 'West Champaran', 'West Godavari', 'West Hararge', 'West Singhbhum', 'Wuhan City', 'Wuxi City', \"Xi'an City\", 'Xuzhou City', 'Y.S.R. Kadapa', 'Yadgir', 'Yamunanagar', 'Yancheng City', 'Yangzhou City', 'Yaounde', 'Yavatmal', \"Yuan'an County, Yichang City\", 'Zamboanga', 'Zaragoza', 'Zarraga', 'Ziaguda', 'gaya', 'mathura'],\n",
       " 'province': ['#na#', 'Abra', 'Addis Ababa', 'Afar', 'Agusan Del Norte', 'Aklan', 'Albay', 'Amhara', 'Andaman and Nicobar Islands', 'Andhra Pradesh', 'Anhui', 'Antique', 'Assam', 'Bataan', 'Batangas', 'Benguet', 'Bihar', 'Bimini', 'Brittany', 'Bukidnon', 'Bulacan', 'Cagayan', 'Camarines Norte', 'Camarines Sur', 'Camiguin', 'Capiz', 'Cavite', 'Cebu Province', 'Chandigarh', 'Chhattisgarh', 'Compostela Valley', 'Cotabato', 'Dadra and Nagar Haveli and Daman and Diu', 'Davao Del Norte', 'Davao Del Sur', 'Davao Occidental', 'Davao Oriental', 'Davao de Oro', 'Davao del Sur', 'Delhi', 'Delta', 'Dire Dawa', 'Geneva', 'Goa', 'Guizhou', 'Gujarat', 'Harare', 'Haryana', 'Hebei', 'Heilongjiang', 'Himachal Pradesh', 'Hong Kong', 'Hubei', 'Ifugao', 'Ilocos Norte', 'Ilocos Sur', 'Iloilo', 'Iloilo Province', 'Isabela', 'Jammu and Kashmir', 'Jharkhand', 'Jiangsu', 'Karnataka', 'Kerala', 'La Union', 'Ladakh', 'Laguna', 'Lanao Del Norte', 'Lanao Del Sur', 'Lanao del Sur', 'Leyte', 'Madhya Pradesh', 'Maguindanao', 'Maharashtra', 'Manipur', 'Marinduque', 'Mascara', 'Meghalaya', 'Metro Manila', 'Misamis Occidental', 'Misamis Oriental', 'Mizoram', 'National Capital Region (NCR)', 'Negros Occidental', 'Negros Oriental', 'Nueva Ecija', 'Nueva Vizcaya', 'Occidental Mindoro', 'Odisha', 'Ontario', 'Oriental Mindoro', 'Oromia', 'Palawan', 'Pampanga', 'Pangasinan', 'Puducherry', 'Punjab', 'Quezon', 'Rajasthan', 'Rizal', 'Romblon', 'SNNPR', 'Samar', 'Sarangani', 'Shaanxi', 'Somali', 'South Cotabato', 'South Dakota', 'Sultan Kudarat', 'Sulu', 'Tamil Nadu', 'Tarlac', 'Tarlac Province', 'Telangana', 'Tokyo', 'Tripura', 'Uttar Pradesh', 'Uttarakhand', 'Vaud', 'Washington', 'West Bengal', 'Zambales', 'Zamboanga Del Sur'],\n",
       " 'country': ['#na#', 'Algeria', 'Bahamas', 'Burkina Faso', 'Cabo Verde', 'Cameroon', 'Canada', 'China', 'Egypt', 'Eswatini', 'Ethiopia', 'France', 'Gabon', 'Gambia', 'Ghana', 'India', 'Japan', 'Kenya', 'Nigeria', 'Philippines', 'Singapore', 'Sudan', 'Switzerland', 'Tanzania', 'Togo', 'United States', 'Zimbabwe'],\n",
       " 'chronic_disease_binary': ['#na#', False, True],\n",
       " 'country_new': ['#na#', 'Bahamas', 'Burkina Faso', 'Cabo Verde', 'Cameroon', 'Canada', 'China', 'Egypt', 'Eswatini', 'Ethiopia', 'France', 'Gabon', 'Gambia', 'Ghana', 'India', 'Japan', 'Kenya', 'Nigeria', 'Philippines', 'Singapore', 'Sudan', 'Switzerland', 'Tanzania', 'Togo', 'United States'],\n",
       " 'travel_history_binary': ['#na#', False, True]}"
      ]
     },
     "execution_count": 57,
     "metadata": {},
     "output_type": "execute_result"
    }
   ],
   "source": [
    "dls.classes"
   ]
  },
  {
   "cell_type": "code",
   "execution_count": 60,
   "metadata": {},
   "outputs": [],
   "source": [
    "data_pred_cat = ['23', 'male', '#na#', '#na#', '#na#', False, '#na#', '#na#']"
   ]
  },
  {
   "cell_type": "code",
   "execution_count": 61,
   "metadata": {},
   "outputs": [],
   "source": [
    "data_pred_cont = [19.7060 , 101.1950]"
   ]
  },
  {
   "cell_type": "code",
   "execution_count": 68,
   "metadata": {},
   "outputs": [],
   "source": [
    "data_pred_cat_2_num = []\n",
    "for name, value in zip (dls.classes.keys(), data_pred_cat):\n",
    "    data_pred_cat_2_num.append(dls.classes[name].map_objs([value])[0])\n",
    "    "
   ]
  },
  {
   "cell_type": "code",
   "execution_count": 69,
   "metadata": {},
   "outputs": [
    {
     "data": {
      "text/plain": [
       "[25, 2, 0, 0, 0, 1, 0, 0]"
      ]
     },
     "execution_count": 69,
     "metadata": {},
     "output_type": "execute_result"
    }
   ],
   "source": [
    "data_pred_cat_2_num"
   ]
  },
  {
   "cell_type": "code",
   "execution_count": 70,
   "metadata": {},
   "outputs": [],
   "source": [
    "data_pred_cat = torch.tensor(data_pred_cat_2_num).cuda()"
   ]
  },
  {
   "cell_type": "code",
   "execution_count": 71,
   "metadata": {},
   "outputs": [],
   "source": [
    "data_pred_cont = torch.tensor(data_pred_cont).cuda()"
   ]
  },
  {
   "cell_type": "code",
   "execution_count": 72,
   "metadata": {},
   "outputs": [
    {
     "data": {
      "text/plain": [
       "torch.Size([2])"
      ]
     },
     "execution_count": 72,
     "metadata": {},
     "output_type": "execute_result"
    }
   ],
   "source": [
    "data_pred_cont.shape"
   ]
  },
  {
   "cell_type": "code",
   "execution_count": 73,
   "metadata": {},
   "outputs": [
    {
     "data": {
      "text/plain": [
       "torch.Size([8])"
      ]
     },
     "execution_count": 73,
     "metadata": {},
     "output_type": "execute_result"
    }
   ],
   "source": [
    "data_pred_cat.shape"
   ]
  },
  {
   "cell_type": "code",
   "execution_count": 74,
   "metadata": {},
   "outputs": [
    {
     "data": {
      "text/plain": [
       "tensor([[-2.1043,  1.1938, -7.0701, -0.5574, -5.4403, -6.0009]],\n",
       "       device='cuda:0', grad_fn=<AddmmBackward>)"
      ]
     },
     "execution_count": 74,
     "metadata": {},
     "output_type": "execute_result"
    }
   ],
   "source": [
    "learn.model(data_pred_cat[None],data_pred_cont[None])"
   ]
  },
  {
   "cell_type": "code",
   "execution_count": 83,
   "metadata": {},
   "outputs": [],
   "source": [
    "prediction = learn.model(data_pred_cat[None],data_pred_cont[None]).argmax().item()"
   ]
  },
  {
   "cell_type": "code",
   "execution_count": 84,
   "metadata": {},
   "outputs": [
    {
     "data": {
      "text/plain": [
       "'Recovered'"
      ]
     },
     "execution_count": 84,
     "metadata": {},
     "output_type": "execute_result"
    }
   ],
   "source": [
    "dls.vocab[prediction]"
   ]
  },
  {
   "cell_type": "code",
   "execution_count": null,
   "metadata": {},
   "outputs": [],
   "source": []
  },
  {
   "cell_type": "markdown",
   "metadata": {},
   "source": [
    "## Fastai"
   ]
  },
  {
   "cell_type": "markdown",
   "metadata": {},
   "source": [
    "### Para hacer la predicción debemos pasar el input como un dataframe"
   ]
  },
  {
   "cell_type": "code",
   "execution_count": 87,
   "metadata": {},
   "outputs": [
    {
     "data": {
      "text/plain": [
       "age                                     20-29\n",
       "sex                                    female\n",
       "city                                   London\n",
       "province                              Ontario\n",
       "country                                Canada\n",
       "latitude                              42.9836\n",
       "longitude                            -81.2497\n",
       "geo_resolution                          point\n",
       "lives_in_Wuhan                            NaN\n",
       "travel_history_location     Wuhan City, Hubei\n",
       "reported_market_exposure                  NaN\n",
       "chronic_disease_binary                  False\n",
       "outcome                             recovered\n",
       "location                               London\n",
       "admin3                                    NaN\n",
       "admin2                                    NaN\n",
       "admin1                                Ontario\n",
       "country_new                            Canada\n",
       "admin_id                                 5642\n",
       "data_moderator_initials                   NaN\n",
       "travel_history_binary                     NaN\n",
       "Name: 8667, dtype: object"
      ]
     },
     "execution_count": 87,
     "metadata": {},
     "output_type": "execute_result"
    }
   ],
   "source": [
    "df.iloc[0]"
   ]
  },
  {
   "cell_type": "code",
   "execution_count": 88,
   "metadata": {},
   "outputs": [
    {
     "data": {
      "text/html": [],
      "text/plain": [
       "<IPython.core.display.HTML object>"
      ]
     },
     "metadata": {},
     "output_type": "display_data"
    },
    {
     "data": {
      "text/plain": [
       "(    age  sex   city  province  country  chronic_disease_binary  country_new  \\\n",
       " 0  19.0  1.0  526.0      89.0      6.0                     1.0          5.0   \n",
       " \n",
       "    travel_history_binary   latitude  longitude  outcome  \n",
       " 0                    0.0  42.983612 -81.249725      3.0  ,\n",
       " tensor(3),\n",
       " tensor([3.5748e-04, 1.4516e-04, 6.9663e-04, 9.9877e-01, 1.4571e-05, 1.2473e-05]))"
      ]
     },
     "execution_count": 88,
     "metadata": {},
     "output_type": "execute_result"
    }
   ],
   "source": [
    "learn.predict(df.iloc[0])"
   ]
  },
  {
   "cell_type": "code",
   "execution_count": 91,
   "metadata": {},
   "outputs": [
    {
     "data": {
      "text/plain": [
       "'recovered'"
      ]
     },
     "execution_count": 91,
     "metadata": {},
     "output_type": "execute_result"
    }
   ],
   "source": [
    "dls.vocab[3]"
   ]
  },
  {
   "cell_type": "code",
   "execution_count": 102,
   "metadata": {},
   "outputs": [],
   "source": [
    "dic_key_val = { name: [value] for name, value in zip (dls.classes.keys(), ['23', 'male', '#na#', '#na#', '#na#', False, '#na#', '#na#'])}\n",
    "dic_key_val['latitude'] = [19.7060]\n",
    "dic_key_val['longitude'] = [101.1950] "
   ]
  },
  {
   "cell_type": "code",
   "execution_count": 107,
   "metadata": {},
   "outputs": [
    {
     "data": {
      "text/plain": [
       "age                            23\n",
       "sex                          male\n",
       "city                         #na#\n",
       "province                     #na#\n",
       "country                      #na#\n",
       "chronic_disease_binary      False\n",
       "country_new                  #na#\n",
       "travel_history_binary        #na#\n",
       "latitude                   19.706\n",
       "longitude                 101.195\n",
       "Name: 0, dtype: object"
      ]
     },
     "execution_count": 107,
     "metadata": {},
     "output_type": "execute_result"
    }
   ],
   "source": [
    "pred = pd.DataFrame(dic_key_val).iloc[0]\n",
    "pred"
   ]
  },
  {
   "cell_type": "code",
   "execution_count": 108,
   "metadata": {},
   "outputs": [
    {
     "data": {
      "text/html": [],
      "text/plain": [
       "<IPython.core.display.HTML object>"
      ]
     },
     "metadata": {},
     "output_type": "display_data"
    },
    {
     "data": {
      "text/plain": [
       "(    age  sex  city  province  country  chronic_disease_binary  country_new  \\\n",
       " 0  25.0  2.0   0.0       0.0      0.0                     1.0          0.0   \n",
       " \n",
       "    travel_history_binary   latitude  longitude  outcome  \n",
       " 0                    0.0  19.705999    101.195      1.0  ,\n",
       " tensor(1),\n",
       " tensor([3.0468e-02, 8.2451e-01, 2.1244e-04, 1.4311e-01, 1.0840e-03, 6.1883e-04]))"
      ]
     },
     "execution_count": 108,
     "metadata": {},
     "output_type": "execute_result"
    }
   ],
   "source": [
    "learn.predict(pred)"
   ]
  },
  {
   "cell_type": "code",
   "execution_count": 112,
   "metadata": {},
   "outputs": [
    {
     "data": {
      "text/plain": [
       "'Recovered'"
      ]
     },
     "execution_count": 112,
     "metadata": {},
     "output_type": "execute_result"
    }
   ],
   "source": [
    "dls.vocab[1]"
   ]
  },
  {
   "cell_type": "code",
   "execution_count": 119,
   "metadata": {},
   "outputs": [
    {
     "data": {
      "text/plain": [
       "outcome\n",
       "Deceased             5011\n",
       "Recovered           93656\n",
       "died                  916\n",
       "recovered            3659\n",
       "stable                156\n",
       "stable condition      133\n",
       "Name: latitude, dtype: int64"
      ]
     },
     "execution_count": 119,
     "metadata": {},
     "output_type": "execute_result"
    }
   ],
   "source": [
    "df.groupby('outcome').latitude.count()"
   ]
  }
 ],
 "metadata": {
  "kernelspec": {
   "display_name": "Python 3",
   "language": "python",
   "name": "python3"
  },
  "language_info": {
   "codemirror_mode": {
    "name": "ipython",
    "version": 3
   },
   "file_extension": ".py",
   "mimetype": "text/x-python",
   "name": "python",
   "nbconvert_exporter": "python",
   "pygments_lexer": "ipython3",
   "version": "3.6.8"
  }
 },
 "nbformat": 4,
 "nbformat_minor": 4
}
