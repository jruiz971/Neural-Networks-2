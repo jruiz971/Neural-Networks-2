{
  "nbformat": 4,
  "nbformat_minor": 0,
  "metadata": {
    "colab": {
      "name": "TimeSeries.CNNvsRNN.ipynb",
      "provenance": [],
      "collapsed_sections": []
    },
    "kernelspec": {
      "name": "python3",
      "display_name": "Python 3"
    },
    "language_info": {
      "name": "python"
    },
    "accelerator": "GPU"
  },
  "cells": [
    {
      "cell_type": "code",
      "metadata": {
        "id": "3XP4jzZzfJ2Q"
      },
      "source": [
        "!pip install -Uqq fastbook\n",
        "import fastbook\n",
        "fastbook.setup_book()"
      ],
      "execution_count": 3,
      "outputs": []
    },
    {
      "cell_type": "code",
      "metadata": {
        "id": "jIWcOrA4fkvv"
      },
      "source": [
        "from fastbook import *"
      ],
      "execution_count": 4,
      "outputs": []
    },
    {
      "cell_type": "code",
      "metadata": {
        "id": "gJngV6Rsfnci"
      },
      "source": [
        "import seaborn as sns\n",
        "import pandas as pd\n",
        "import torch \n",
        "import torch.nn as nn\n",
        "import torch.nn.functional as F\n",
        "import fastai.tabular.all as ft\n",
        "from torch.utils.data import Dataset, DataLoader"
      ],
      "execution_count": 5,
      "outputs": []
    },
    {
      "cell_type": "markdown",
      "metadata": {
        "id": "AAkbwhla6MmF"
      },
      "source": [
        "Data: https://www.kaggle.com/manjeetsingh/retaildataset "
      ]
    },
    {
      "cell_type": "code",
      "metadata": {
        "id": "wmsnGBJ60DRZ"
      },
      "source": [
        "stores = pd.read_csv('/content/stores data-set.csv')"
      ],
      "execution_count": 6,
      "outputs": []
    },
    {
      "cell_type": "code",
      "metadata": {
        "colab": {
          "base_uri": "https://localhost:8080/",
          "height": 181
        },
        "id": "BdsVGRu70L_S",
        "outputId": "181198af-5a74-4083-a0ba-9d23de542c20"
      },
      "source": [
        "display(stores.head(3) )\n",
        "stores.Store.unique()"
      ],
      "execution_count": 7,
      "outputs": [
        {
          "output_type": "display_data",
          "data": {
            "text/html": [
              "<div>\n",
              "<style scoped>\n",
              "    .dataframe tbody tr th:only-of-type {\n",
              "        vertical-align: middle;\n",
              "    }\n",
              "\n",
              "    .dataframe tbody tr th {\n",
              "        vertical-align: top;\n",
              "    }\n",
              "\n",
              "    .dataframe thead th {\n",
              "        text-align: right;\n",
              "    }\n",
              "</style>\n",
              "<table border=\"1\" class=\"dataframe\">\n",
              "  <thead>\n",
              "    <tr style=\"text-align: right;\">\n",
              "      <th></th>\n",
              "      <th>Store</th>\n",
              "      <th>Type</th>\n",
              "      <th>Size</th>\n",
              "    </tr>\n",
              "  </thead>\n",
              "  <tbody>\n",
              "    <tr>\n",
              "      <th>0</th>\n",
              "      <td>1</td>\n",
              "      <td>A</td>\n",
              "      <td>151315</td>\n",
              "    </tr>\n",
              "    <tr>\n",
              "      <th>1</th>\n",
              "      <td>2</td>\n",
              "      <td>A</td>\n",
              "      <td>202307</td>\n",
              "    </tr>\n",
              "    <tr>\n",
              "      <th>2</th>\n",
              "      <td>3</td>\n",
              "      <td>B</td>\n",
              "      <td>37392</td>\n",
              "    </tr>\n",
              "  </tbody>\n",
              "</table>\n",
              "</div>"
            ],
            "text/plain": [
              "   Store Type    Size\n",
              "0      1    A  151315\n",
              "1      2    A  202307\n",
              "2      3    B   37392"
            ]
          },
          "metadata": {}
        },
        {
          "output_type": "execute_result",
          "data": {
            "text/plain": [
              "array([ 1,  2,  3,  4,  5,  6,  7,  8,  9, 10, 11, 12, 13, 14, 15, 16, 17, 18, 19, 20, 21, 22, 23, 24, 25, 26, 27, 28, 29, 30, 31, 32, 33, 34, 35, 36, 37, 38, 39, 40, 41, 42, 43, 44, 45])"
            ]
          },
          "metadata": {},
          "execution_count": 7
        }
      ]
    },
    {
      "cell_type": "code",
      "metadata": {
        "colab": {
          "base_uri": "https://localhost:8080/",
          "height": 175
        },
        "id": "Uo0kMrjk00os",
        "outputId": "dc974d4b-ea9e-4ba1-a8cc-47b66c836b2f"
      },
      "source": [
        "stores.set_index('Store', inplace=True)\n",
        "stores.head(3)"
      ],
      "execution_count": 8,
      "outputs": [
        {
          "output_type": "execute_result",
          "data": {
            "text/html": [
              "<div>\n",
              "<style scoped>\n",
              "    .dataframe tbody tr th:only-of-type {\n",
              "        vertical-align: middle;\n",
              "    }\n",
              "\n",
              "    .dataframe tbody tr th {\n",
              "        vertical-align: top;\n",
              "    }\n",
              "\n",
              "    .dataframe thead th {\n",
              "        text-align: right;\n",
              "    }\n",
              "</style>\n",
              "<table border=\"1\" class=\"dataframe\">\n",
              "  <thead>\n",
              "    <tr style=\"text-align: right;\">\n",
              "      <th></th>\n",
              "      <th>Type</th>\n",
              "      <th>Size</th>\n",
              "    </tr>\n",
              "    <tr>\n",
              "      <th>Store</th>\n",
              "      <th></th>\n",
              "      <th></th>\n",
              "    </tr>\n",
              "  </thead>\n",
              "  <tbody>\n",
              "    <tr>\n",
              "      <th>1</th>\n",
              "      <td>A</td>\n",
              "      <td>151315</td>\n",
              "    </tr>\n",
              "    <tr>\n",
              "      <th>2</th>\n",
              "      <td>A</td>\n",
              "      <td>202307</td>\n",
              "    </tr>\n",
              "    <tr>\n",
              "      <th>3</th>\n",
              "      <td>B</td>\n",
              "      <td>37392</td>\n",
              "    </tr>\n",
              "  </tbody>\n",
              "</table>\n",
              "</div>"
            ],
            "text/plain": [
              "      Type    Size\n",
              "Store             \n",
              "1        A  151315\n",
              "2        A  202307\n",
              "3        B   37392"
            ]
          },
          "metadata": {},
          "execution_count": 8
        }
      ]
    },
    {
      "cell_type": "code",
      "metadata": {
        "id": "Gwv12jbe4AAf"
      },
      "source": [
        ""
      ],
      "execution_count": 8,
      "outputs": []
    },
    {
      "cell_type": "code",
      "metadata": {
        "id": "bapjs5Je0UjB"
      },
      "source": [
        "sales = pd.read_csv('/content/sales data-set.csv',)"
      ],
      "execution_count": 9,
      "outputs": []
    },
    {
      "cell_type": "code",
      "metadata": {
        "colab": {
          "base_uri": "https://localhost:8080/",
          "height": 181
        },
        "id": "0WbNkwpP0fr2",
        "outputId": "5dece2a0-2a40-47d2-e8dd-4e577818b4db"
      },
      "source": [
        "display(sales.head(3))\n",
        "sales.Store.unique()"
      ],
      "execution_count": 10,
      "outputs": [
        {
          "output_type": "display_data",
          "data": {
            "text/html": [
              "<div>\n",
              "<style scoped>\n",
              "    .dataframe tbody tr th:only-of-type {\n",
              "        vertical-align: middle;\n",
              "    }\n",
              "\n",
              "    .dataframe tbody tr th {\n",
              "        vertical-align: top;\n",
              "    }\n",
              "\n",
              "    .dataframe thead th {\n",
              "        text-align: right;\n",
              "    }\n",
              "</style>\n",
              "<table border=\"1\" class=\"dataframe\">\n",
              "  <thead>\n",
              "    <tr style=\"text-align: right;\">\n",
              "      <th></th>\n",
              "      <th>Store</th>\n",
              "      <th>Dept</th>\n",
              "      <th>Date</th>\n",
              "      <th>Weekly_Sales</th>\n",
              "      <th>IsHoliday</th>\n",
              "    </tr>\n",
              "  </thead>\n",
              "  <tbody>\n",
              "    <tr>\n",
              "      <th>0</th>\n",
              "      <td>1</td>\n",
              "      <td>1</td>\n",
              "      <td>05/02/2010</td>\n",
              "      <td>24924.50</td>\n",
              "      <td>False</td>\n",
              "    </tr>\n",
              "    <tr>\n",
              "      <th>1</th>\n",
              "      <td>1</td>\n",
              "      <td>1</td>\n",
              "      <td>12/02/2010</td>\n",
              "      <td>46039.49</td>\n",
              "      <td>True</td>\n",
              "    </tr>\n",
              "    <tr>\n",
              "      <th>2</th>\n",
              "      <td>1</td>\n",
              "      <td>1</td>\n",
              "      <td>19/02/2010</td>\n",
              "      <td>41595.55</td>\n",
              "      <td>False</td>\n",
              "    </tr>\n",
              "  </tbody>\n",
              "</table>\n",
              "</div>"
            ],
            "text/plain": [
              "   Store  Dept        Date  Weekly_Sales  IsHoliday\n",
              "0      1     1  05/02/2010      24924.50      False\n",
              "1      1     1  12/02/2010      46039.49       True\n",
              "2      1     1  19/02/2010      41595.55      False"
            ]
          },
          "metadata": {}
        },
        {
          "output_type": "execute_result",
          "data": {
            "text/plain": [
              "array([ 1,  2,  3,  4,  5,  6,  7,  8,  9, 10, 11, 12, 13, 14, 15, 16, 17, 18, 19, 20, 21, 22, 23, 24, 25, 26, 27, 28, 29, 30, 31, 32, 33, 34, 35, 36, 37, 38, 39, 40, 41, 42, 43, 44, 45])"
            ]
          },
          "metadata": {},
          "execution_count": 10
        }
      ]
    },
    {
      "cell_type": "code",
      "metadata": {
        "id": "Nvfu5fLu1WX8"
      },
      "source": [
        "sales.set_index('Store',inplace=True)"
      ],
      "execution_count": 11,
      "outputs": []
    },
    {
      "cell_type": "code",
      "metadata": {
        "id": "kVfLkDHl1c44"
      },
      "source": [
        "sales.Date = pd.to_datetime(sales.Date, errors='coerce')"
      ],
      "execution_count": 12,
      "outputs": []
    },
    {
      "cell_type": "code",
      "metadata": {
        "colab": {
          "base_uri": "https://localhost:8080/",
          "height": 175
        },
        "id": "0JTYageQ1o1j",
        "outputId": "c7abfc3e-d48d-42c3-f991-712dab201f85"
      },
      "source": [
        "sales.head(3)"
      ],
      "execution_count": 13,
      "outputs": [
        {
          "output_type": "execute_result",
          "data": {
            "text/html": [
              "<div>\n",
              "<style scoped>\n",
              "    .dataframe tbody tr th:only-of-type {\n",
              "        vertical-align: middle;\n",
              "    }\n",
              "\n",
              "    .dataframe tbody tr th {\n",
              "        vertical-align: top;\n",
              "    }\n",
              "\n",
              "    .dataframe thead th {\n",
              "        text-align: right;\n",
              "    }\n",
              "</style>\n",
              "<table border=\"1\" class=\"dataframe\">\n",
              "  <thead>\n",
              "    <tr style=\"text-align: right;\">\n",
              "      <th></th>\n",
              "      <th>Dept</th>\n",
              "      <th>Date</th>\n",
              "      <th>Weekly_Sales</th>\n",
              "      <th>IsHoliday</th>\n",
              "    </tr>\n",
              "    <tr>\n",
              "      <th>Store</th>\n",
              "      <th></th>\n",
              "      <th></th>\n",
              "      <th></th>\n",
              "      <th></th>\n",
              "    </tr>\n",
              "  </thead>\n",
              "  <tbody>\n",
              "    <tr>\n",
              "      <th>1</th>\n",
              "      <td>1</td>\n",
              "      <td>2010-05-02</td>\n",
              "      <td>24924.50</td>\n",
              "      <td>False</td>\n",
              "    </tr>\n",
              "    <tr>\n",
              "      <th>1</th>\n",
              "      <td>1</td>\n",
              "      <td>2010-12-02</td>\n",
              "      <td>46039.49</td>\n",
              "      <td>True</td>\n",
              "    </tr>\n",
              "    <tr>\n",
              "      <th>1</th>\n",
              "      <td>1</td>\n",
              "      <td>2010-02-19</td>\n",
              "      <td>41595.55</td>\n",
              "      <td>False</td>\n",
              "    </tr>\n",
              "  </tbody>\n",
              "</table>\n",
              "</div>"
            ],
            "text/plain": [
              "       Dept       Date  Weekly_Sales  IsHoliday\n",
              "Store                                          \n",
              "1         1 2010-05-02      24924.50      False\n",
              "1         1 2010-12-02      46039.49       True\n",
              "1         1 2010-02-19      41595.55      False"
            ]
          },
          "metadata": {},
          "execution_count": 13
        }
      ]
    },
    {
      "cell_type": "code",
      "metadata": {
        "id": "JG5zrBGtfog3",
        "colab": {
          "base_uri": "https://localhost:8080/",
          "height": 163
        },
        "outputId": "4a1c38c0-386a-4829-c142-93f1aedc9ca0"
      },
      "source": [
        "features = pd.read_csv('/content/Features data set.csv')\n",
        "features.head(3)"
      ],
      "execution_count": 14,
      "outputs": [
        {
          "output_type": "execute_result",
          "data": {
            "text/html": [
              "<div>\n",
              "<style scoped>\n",
              "    .dataframe tbody tr th:only-of-type {\n",
              "        vertical-align: middle;\n",
              "    }\n",
              "\n",
              "    .dataframe tbody tr th {\n",
              "        vertical-align: top;\n",
              "    }\n",
              "\n",
              "    .dataframe thead th {\n",
              "        text-align: right;\n",
              "    }\n",
              "</style>\n",
              "<table border=\"1\" class=\"dataframe\">\n",
              "  <thead>\n",
              "    <tr style=\"text-align: right;\">\n",
              "      <th></th>\n",
              "      <th>Store</th>\n",
              "      <th>Date</th>\n",
              "      <th>Temperature</th>\n",
              "      <th>Fuel_Price</th>\n",
              "      <th>MarkDown1</th>\n",
              "      <th>MarkDown2</th>\n",
              "      <th>MarkDown3</th>\n",
              "      <th>MarkDown4</th>\n",
              "      <th>MarkDown5</th>\n",
              "      <th>CPI</th>\n",
              "      <th>Unemployment</th>\n",
              "      <th>IsHoliday</th>\n",
              "    </tr>\n",
              "  </thead>\n",
              "  <tbody>\n",
              "    <tr>\n",
              "      <th>0</th>\n",
              "      <td>1</td>\n",
              "      <td>05/02/2010</td>\n",
              "      <td>42.31</td>\n",
              "      <td>2.572</td>\n",
              "      <td>NaN</td>\n",
              "      <td>NaN</td>\n",
              "      <td>NaN</td>\n",
              "      <td>NaN</td>\n",
              "      <td>NaN</td>\n",
              "      <td>211.096358</td>\n",
              "      <td>8.106</td>\n",
              "      <td>False</td>\n",
              "    </tr>\n",
              "    <tr>\n",
              "      <th>1</th>\n",
              "      <td>1</td>\n",
              "      <td>12/02/2010</td>\n",
              "      <td>38.51</td>\n",
              "      <td>2.548</td>\n",
              "      <td>NaN</td>\n",
              "      <td>NaN</td>\n",
              "      <td>NaN</td>\n",
              "      <td>NaN</td>\n",
              "      <td>NaN</td>\n",
              "      <td>211.242170</td>\n",
              "      <td>8.106</td>\n",
              "      <td>True</td>\n",
              "    </tr>\n",
              "    <tr>\n",
              "      <th>2</th>\n",
              "      <td>1</td>\n",
              "      <td>19/02/2010</td>\n",
              "      <td>39.93</td>\n",
              "      <td>2.514</td>\n",
              "      <td>NaN</td>\n",
              "      <td>NaN</td>\n",
              "      <td>NaN</td>\n",
              "      <td>NaN</td>\n",
              "      <td>NaN</td>\n",
              "      <td>211.289143</td>\n",
              "      <td>8.106</td>\n",
              "      <td>False</td>\n",
              "    </tr>\n",
              "  </tbody>\n",
              "</table>\n",
              "</div>"
            ],
            "text/plain": [
              "   Store        Date  Temperature  Fuel_Price  MarkDown1  MarkDown2  \\\n",
              "0      1  05/02/2010        42.31       2.572        NaN        NaN   \n",
              "1      1  12/02/2010        38.51       2.548        NaN        NaN   \n",
              "2      1  19/02/2010        39.93       2.514        NaN        NaN   \n",
              "\n",
              "   MarkDown3  MarkDown4  MarkDown5         CPI  Unemployment  IsHoliday  \n",
              "0        NaN        NaN        NaN  211.096358         8.106      False  \n",
              "1        NaN        NaN        NaN  211.242170         8.106       True  \n",
              "2        NaN        NaN        NaN  211.289143         8.106      False  "
            ]
          },
          "metadata": {},
          "execution_count": 14
        }
      ]
    },
    {
      "cell_type": "code",
      "metadata": {
        "id": "ytFl65gG1SOa"
      },
      "source": [
        "features.Date = pd.to_datetime(features.Date, errors='coerce')"
      ],
      "execution_count": 15,
      "outputs": []
    },
    {
      "cell_type": "code",
      "metadata": {
        "colab": {
          "base_uri": "https://localhost:8080/",
          "height": 343
        },
        "id": "RsYYnzqf2fym",
        "outputId": "5b36682f-5cae-46b0-d84b-5abe36cbfd9d"
      },
      "source": [
        "features.set_index('Store',inplace=True)\n",
        "features.head(5)"
      ],
      "execution_count": 16,
      "outputs": [
        {
          "output_type": "execute_result",
          "data": {
            "text/html": [
              "<div>\n",
              "<style scoped>\n",
              "    .dataframe tbody tr th:only-of-type {\n",
              "        vertical-align: middle;\n",
              "    }\n",
              "\n",
              "    .dataframe tbody tr th {\n",
              "        vertical-align: top;\n",
              "    }\n",
              "\n",
              "    .dataframe thead th {\n",
              "        text-align: right;\n",
              "    }\n",
              "</style>\n",
              "<table border=\"1\" class=\"dataframe\">\n",
              "  <thead>\n",
              "    <tr style=\"text-align: right;\">\n",
              "      <th></th>\n",
              "      <th>Date</th>\n",
              "      <th>Temperature</th>\n",
              "      <th>Fuel_Price</th>\n",
              "      <th>MarkDown1</th>\n",
              "      <th>MarkDown2</th>\n",
              "      <th>MarkDown3</th>\n",
              "      <th>MarkDown4</th>\n",
              "      <th>MarkDown5</th>\n",
              "      <th>CPI</th>\n",
              "      <th>Unemployment</th>\n",
              "      <th>IsHoliday</th>\n",
              "    </tr>\n",
              "    <tr>\n",
              "      <th>Store</th>\n",
              "      <th></th>\n",
              "      <th></th>\n",
              "      <th></th>\n",
              "      <th></th>\n",
              "      <th></th>\n",
              "      <th></th>\n",
              "      <th></th>\n",
              "      <th></th>\n",
              "      <th></th>\n",
              "      <th></th>\n",
              "      <th></th>\n",
              "    </tr>\n",
              "  </thead>\n",
              "  <tbody>\n",
              "    <tr>\n",
              "      <th>1</th>\n",
              "      <td>2010-05-02</td>\n",
              "      <td>42.31</td>\n",
              "      <td>2.572</td>\n",
              "      <td>NaN</td>\n",
              "      <td>NaN</td>\n",
              "      <td>NaN</td>\n",
              "      <td>NaN</td>\n",
              "      <td>NaN</td>\n",
              "      <td>211.096358</td>\n",
              "      <td>8.106</td>\n",
              "      <td>False</td>\n",
              "    </tr>\n",
              "    <tr>\n",
              "      <th>1</th>\n",
              "      <td>2010-12-02</td>\n",
              "      <td>38.51</td>\n",
              "      <td>2.548</td>\n",
              "      <td>NaN</td>\n",
              "      <td>NaN</td>\n",
              "      <td>NaN</td>\n",
              "      <td>NaN</td>\n",
              "      <td>NaN</td>\n",
              "      <td>211.242170</td>\n",
              "      <td>8.106</td>\n",
              "      <td>True</td>\n",
              "    </tr>\n",
              "    <tr>\n",
              "      <th>1</th>\n",
              "      <td>2010-02-19</td>\n",
              "      <td>39.93</td>\n",
              "      <td>2.514</td>\n",
              "      <td>NaN</td>\n",
              "      <td>NaN</td>\n",
              "      <td>NaN</td>\n",
              "      <td>NaN</td>\n",
              "      <td>NaN</td>\n",
              "      <td>211.289143</td>\n",
              "      <td>8.106</td>\n",
              "      <td>False</td>\n",
              "    </tr>\n",
              "    <tr>\n",
              "      <th>1</th>\n",
              "      <td>2010-02-26</td>\n",
              "      <td>46.63</td>\n",
              "      <td>2.561</td>\n",
              "      <td>NaN</td>\n",
              "      <td>NaN</td>\n",
              "      <td>NaN</td>\n",
              "      <td>NaN</td>\n",
              "      <td>NaN</td>\n",
              "      <td>211.319643</td>\n",
              "      <td>8.106</td>\n",
              "      <td>False</td>\n",
              "    </tr>\n",
              "    <tr>\n",
              "      <th>1</th>\n",
              "      <td>2010-05-03</td>\n",
              "      <td>46.50</td>\n",
              "      <td>2.625</td>\n",
              "      <td>NaN</td>\n",
              "      <td>NaN</td>\n",
              "      <td>NaN</td>\n",
              "      <td>NaN</td>\n",
              "      <td>NaN</td>\n",
              "      <td>211.350143</td>\n",
              "      <td>8.106</td>\n",
              "      <td>False</td>\n",
              "    </tr>\n",
              "  </tbody>\n",
              "</table>\n",
              "</div>"
            ],
            "text/plain": [
              "            Date  Temperature  Fuel_Price  MarkDown1  MarkDown2  MarkDown3  \\\n",
              "Store                                                                        \n",
              "1     2010-05-02        42.31       2.572        NaN        NaN        NaN   \n",
              "1     2010-12-02        38.51       2.548        NaN        NaN        NaN   \n",
              "1     2010-02-19        39.93       2.514        NaN        NaN        NaN   \n",
              "1     2010-02-26        46.63       2.561        NaN        NaN        NaN   \n",
              "1     2010-05-03        46.50       2.625        NaN        NaN        NaN   \n",
              "\n",
              "       MarkDown4  MarkDown5         CPI  Unemployment  IsHoliday  \n",
              "Store                                                             \n",
              "1            NaN        NaN  211.096358         8.106      False  \n",
              "1            NaN        NaN  211.242170         8.106       True  \n",
              "1            NaN        NaN  211.289143         8.106      False  \n",
              "1            NaN        NaN  211.319643         8.106      False  \n",
              "1            NaN        NaN  211.350143         8.106      False  "
            ]
          },
          "metadata": {},
          "execution_count": 16
        }
      ]
    },
    {
      "cell_type": "code",
      "metadata": {
        "colab": {
          "base_uri": "https://localhost:8080/"
        },
        "id": "y0UwhYR13dEL",
        "outputId": "c05d2eac-e2f7-4018-cb7d-3acdcf135d50"
      },
      "source": [
        "features.columns"
      ],
      "execution_count": 17,
      "outputs": [
        {
          "output_type": "execute_result",
          "data": {
            "text/plain": [
              "Index(['Date', 'Temperature', 'Fuel_Price', 'MarkDown1', 'MarkDown2',\n",
              "       'MarkDown3', 'MarkDown4', 'MarkDown5', 'CPI', 'Unemployment',\n",
              "       'IsHoliday'],\n",
              "      dtype='object')"
            ]
          },
          "metadata": {},
          "execution_count": 17
        }
      ]
    },
    {
      "cell_type": "code",
      "metadata": {
        "id": "xAuqBcj93Oap"
      },
      "source": [
        "features.drop(['MarkDown1', 'MarkDown2','MarkDown3', 'MarkDown4', 'MarkDown5'],axis=1,inplace=True)"
      ],
      "execution_count": 18,
      "outputs": []
    },
    {
      "cell_type": "code",
      "metadata": {
        "colab": {
          "base_uri": "https://localhost:8080/",
          "height": 175
        },
        "id": "UbLE_Hfa3nFy",
        "outputId": "2e287a93-f875-41a9-8b59-445230e25ddf"
      },
      "source": [
        "features.head(3)"
      ],
      "execution_count": 19,
      "outputs": [
        {
          "output_type": "execute_result",
          "data": {
            "text/html": [
              "<div>\n",
              "<style scoped>\n",
              "    .dataframe tbody tr th:only-of-type {\n",
              "        vertical-align: middle;\n",
              "    }\n",
              "\n",
              "    .dataframe tbody tr th {\n",
              "        vertical-align: top;\n",
              "    }\n",
              "\n",
              "    .dataframe thead th {\n",
              "        text-align: right;\n",
              "    }\n",
              "</style>\n",
              "<table border=\"1\" class=\"dataframe\">\n",
              "  <thead>\n",
              "    <tr style=\"text-align: right;\">\n",
              "      <th></th>\n",
              "      <th>Date</th>\n",
              "      <th>Temperature</th>\n",
              "      <th>Fuel_Price</th>\n",
              "      <th>CPI</th>\n",
              "      <th>Unemployment</th>\n",
              "      <th>IsHoliday</th>\n",
              "    </tr>\n",
              "    <tr>\n",
              "      <th>Store</th>\n",
              "      <th></th>\n",
              "      <th></th>\n",
              "      <th></th>\n",
              "      <th></th>\n",
              "      <th></th>\n",
              "      <th></th>\n",
              "    </tr>\n",
              "  </thead>\n",
              "  <tbody>\n",
              "    <tr>\n",
              "      <th>1</th>\n",
              "      <td>2010-05-02</td>\n",
              "      <td>42.31</td>\n",
              "      <td>2.572</td>\n",
              "      <td>211.096358</td>\n",
              "      <td>8.106</td>\n",
              "      <td>False</td>\n",
              "    </tr>\n",
              "    <tr>\n",
              "      <th>1</th>\n",
              "      <td>2010-12-02</td>\n",
              "      <td>38.51</td>\n",
              "      <td>2.548</td>\n",
              "      <td>211.242170</td>\n",
              "      <td>8.106</td>\n",
              "      <td>True</td>\n",
              "    </tr>\n",
              "    <tr>\n",
              "      <th>1</th>\n",
              "      <td>2010-02-19</td>\n",
              "      <td>39.93</td>\n",
              "      <td>2.514</td>\n",
              "      <td>211.289143</td>\n",
              "      <td>8.106</td>\n",
              "      <td>False</td>\n",
              "    </tr>\n",
              "  </tbody>\n",
              "</table>\n",
              "</div>"
            ],
            "text/plain": [
              "            Date  Temperature  Fuel_Price         CPI  Unemployment  IsHoliday\n",
              "Store                                                                         \n",
              "1     2010-05-02        42.31       2.572  211.096358         8.106      False\n",
              "1     2010-12-02        38.51       2.548  211.242170         8.106       True\n",
              "1     2010-02-19        39.93       2.514  211.289143         8.106      False"
            ]
          },
          "metadata": {},
          "execution_count": 19
        }
      ]
    },
    {
      "cell_type": "markdown",
      "metadata": {
        "id": "BuYshX_pbDsS"
      },
      "source": [
        "## Join DataFrames\n"
      ]
    },
    {
      "cell_type": "code",
      "metadata": {
        "colab": {
          "base_uri": "https://localhost:8080/"
        },
        "id": "kjC9BtC94Nqh",
        "outputId": "6824a273-fabf-4c32-8389-49c140b799d4"
      },
      "source": [
        "print(sales.index.unique())\n",
        "print(stores.index.unique())\n",
        "print(features.index.unique())"
      ],
      "execution_count": 20,
      "outputs": [
        {
          "output_type": "stream",
          "name": "stdout",
          "text": [
            "Int64Index([ 1,  2,  3,  4,  5,  6,  7,  8,  9, 10, 11, 12, 13, 14, 15, 16, 17,\n",
            "            18, 19, 20, 21, 22, 23, 24, 25, 26, 27, 28, 29, 30, 31, 32, 33, 34,\n",
            "            35, 36, 37, 38, 39, 40, 41, 42, 43, 44, 45],\n",
            "           dtype='int64', name='Store')\n",
            "Int64Index([ 1,  2,  3,  4,  5,  6,  7,  8,  9, 10, 11, 12, 13, 14, 15, 16, 17,\n",
            "            18, 19, 20, 21, 22, 23, 24, 25, 26, 27, 28, 29, 30, 31, 32, 33, 34,\n",
            "            35, 36, 37, 38, 39, 40, 41, 42, 43, 44, 45],\n",
            "           dtype='int64', name='Store')\n",
            "Int64Index([ 1,  2,  3,  4,  5,  6,  7,  8,  9, 10, 11, 12, 13, 14, 15, 16, 17,\n",
            "            18, 19, 20, 21, 22, 23, 24, 25, 26, 27, 28, 29, 30, 31, 32, 33, 34,\n",
            "            35, 36, 37, 38, 39, 40, 41, 42, 43, 44, 45],\n",
            "           dtype='int64', name='Store')\n"
          ]
        }
      ]
    },
    {
      "cell_type": "code",
      "metadata": {
        "colab": {
          "base_uri": "https://localhost:8080/",
          "height": 544
        },
        "id": "Cu-XlHwn59vw",
        "outputId": "db28ccff-10a2-4594-a4bd-6e5c8c1df160"
      },
      "source": [
        "display(stores.head(3))\n",
        "print(stores.shape)\n",
        "\n",
        "display(sales.head(3))\n",
        "print(sales.shape)\n",
        "\n",
        "display(features.head(3))\n",
        "print(features.shape)"
      ],
      "execution_count": 21,
      "outputs": [
        {
          "output_type": "display_data",
          "data": {
            "text/html": [
              "<div>\n",
              "<style scoped>\n",
              "    .dataframe tbody tr th:only-of-type {\n",
              "        vertical-align: middle;\n",
              "    }\n",
              "\n",
              "    .dataframe tbody tr th {\n",
              "        vertical-align: top;\n",
              "    }\n",
              "\n",
              "    .dataframe thead th {\n",
              "        text-align: right;\n",
              "    }\n",
              "</style>\n",
              "<table border=\"1\" class=\"dataframe\">\n",
              "  <thead>\n",
              "    <tr style=\"text-align: right;\">\n",
              "      <th></th>\n",
              "      <th>Type</th>\n",
              "      <th>Size</th>\n",
              "    </tr>\n",
              "    <tr>\n",
              "      <th>Store</th>\n",
              "      <th></th>\n",
              "      <th></th>\n",
              "    </tr>\n",
              "  </thead>\n",
              "  <tbody>\n",
              "    <tr>\n",
              "      <th>1</th>\n",
              "      <td>A</td>\n",
              "      <td>151315</td>\n",
              "    </tr>\n",
              "    <tr>\n",
              "      <th>2</th>\n",
              "      <td>A</td>\n",
              "      <td>202307</td>\n",
              "    </tr>\n",
              "    <tr>\n",
              "      <th>3</th>\n",
              "      <td>B</td>\n",
              "      <td>37392</td>\n",
              "    </tr>\n",
              "  </tbody>\n",
              "</table>\n",
              "</div>"
            ],
            "text/plain": [
              "      Type    Size\n",
              "Store             \n",
              "1        A  151315\n",
              "2        A  202307\n",
              "3        B   37392"
            ]
          },
          "metadata": {}
        },
        {
          "output_type": "stream",
          "name": "stdout",
          "text": [
            "(45, 2)\n"
          ]
        },
        {
          "output_type": "display_data",
          "data": {
            "text/html": [
              "<div>\n",
              "<style scoped>\n",
              "    .dataframe tbody tr th:only-of-type {\n",
              "        vertical-align: middle;\n",
              "    }\n",
              "\n",
              "    .dataframe tbody tr th {\n",
              "        vertical-align: top;\n",
              "    }\n",
              "\n",
              "    .dataframe thead th {\n",
              "        text-align: right;\n",
              "    }\n",
              "</style>\n",
              "<table border=\"1\" class=\"dataframe\">\n",
              "  <thead>\n",
              "    <tr style=\"text-align: right;\">\n",
              "      <th></th>\n",
              "      <th>Dept</th>\n",
              "      <th>Date</th>\n",
              "      <th>Weekly_Sales</th>\n",
              "      <th>IsHoliday</th>\n",
              "    </tr>\n",
              "    <tr>\n",
              "      <th>Store</th>\n",
              "      <th></th>\n",
              "      <th></th>\n",
              "      <th></th>\n",
              "      <th></th>\n",
              "    </tr>\n",
              "  </thead>\n",
              "  <tbody>\n",
              "    <tr>\n",
              "      <th>1</th>\n",
              "      <td>1</td>\n",
              "      <td>2010-05-02</td>\n",
              "      <td>24924.50</td>\n",
              "      <td>False</td>\n",
              "    </tr>\n",
              "    <tr>\n",
              "      <th>1</th>\n",
              "      <td>1</td>\n",
              "      <td>2010-12-02</td>\n",
              "      <td>46039.49</td>\n",
              "      <td>True</td>\n",
              "    </tr>\n",
              "    <tr>\n",
              "      <th>1</th>\n",
              "      <td>1</td>\n",
              "      <td>2010-02-19</td>\n",
              "      <td>41595.55</td>\n",
              "      <td>False</td>\n",
              "    </tr>\n",
              "  </tbody>\n",
              "</table>\n",
              "</div>"
            ],
            "text/plain": [
              "       Dept       Date  Weekly_Sales  IsHoliday\n",
              "Store                                          \n",
              "1         1 2010-05-02      24924.50      False\n",
              "1         1 2010-12-02      46039.49       True\n",
              "1         1 2010-02-19      41595.55      False"
            ]
          },
          "metadata": {}
        },
        {
          "output_type": "stream",
          "name": "stdout",
          "text": [
            "(421570, 4)\n"
          ]
        },
        {
          "output_type": "display_data",
          "data": {
            "text/html": [
              "<div>\n",
              "<style scoped>\n",
              "    .dataframe tbody tr th:only-of-type {\n",
              "        vertical-align: middle;\n",
              "    }\n",
              "\n",
              "    .dataframe tbody tr th {\n",
              "        vertical-align: top;\n",
              "    }\n",
              "\n",
              "    .dataframe thead th {\n",
              "        text-align: right;\n",
              "    }\n",
              "</style>\n",
              "<table border=\"1\" class=\"dataframe\">\n",
              "  <thead>\n",
              "    <tr style=\"text-align: right;\">\n",
              "      <th></th>\n",
              "      <th>Date</th>\n",
              "      <th>Temperature</th>\n",
              "      <th>Fuel_Price</th>\n",
              "      <th>CPI</th>\n",
              "      <th>Unemployment</th>\n",
              "      <th>IsHoliday</th>\n",
              "    </tr>\n",
              "    <tr>\n",
              "      <th>Store</th>\n",
              "      <th></th>\n",
              "      <th></th>\n",
              "      <th></th>\n",
              "      <th></th>\n",
              "      <th></th>\n",
              "      <th></th>\n",
              "    </tr>\n",
              "  </thead>\n",
              "  <tbody>\n",
              "    <tr>\n",
              "      <th>1</th>\n",
              "      <td>2010-05-02</td>\n",
              "      <td>42.31</td>\n",
              "      <td>2.572</td>\n",
              "      <td>211.096358</td>\n",
              "      <td>8.106</td>\n",
              "      <td>False</td>\n",
              "    </tr>\n",
              "    <tr>\n",
              "      <th>1</th>\n",
              "      <td>2010-12-02</td>\n",
              "      <td>38.51</td>\n",
              "      <td>2.548</td>\n",
              "      <td>211.242170</td>\n",
              "      <td>8.106</td>\n",
              "      <td>True</td>\n",
              "    </tr>\n",
              "    <tr>\n",
              "      <th>1</th>\n",
              "      <td>2010-02-19</td>\n",
              "      <td>39.93</td>\n",
              "      <td>2.514</td>\n",
              "      <td>211.289143</td>\n",
              "      <td>8.106</td>\n",
              "      <td>False</td>\n",
              "    </tr>\n",
              "  </tbody>\n",
              "</table>\n",
              "</div>"
            ],
            "text/plain": [
              "            Date  Temperature  Fuel_Price         CPI  Unemployment  IsHoliday\n",
              "Store                                                                         \n",
              "1     2010-05-02        42.31       2.572  211.096358         8.106      False\n",
              "1     2010-12-02        38.51       2.548  211.242170         8.106       True\n",
              "1     2010-02-19        39.93       2.514  211.289143         8.106      False"
            ]
          },
          "metadata": {}
        },
        {
          "output_type": "stream",
          "name": "stdout",
          "text": [
            "(8190, 6)\n"
          ]
        }
      ]
    },
    {
      "cell_type": "code",
      "metadata": {
        "id": "2xa_HryF7Zw_"
      },
      "source": [
        "tmp = pd.concat([stores, sales], axis=1)"
      ],
      "execution_count": 22,
      "outputs": []
    },
    {
      "cell_type": "code",
      "metadata": {
        "id": "XFgE3CrKJbh2"
      },
      "source": [
        "tmp = tmp.reset_index().set_index(['Store','Date'])"
      ],
      "execution_count": 31,
      "outputs": []
    },
    {
      "cell_type": "code",
      "metadata": {
        "colab": {
          "base_uri": "https://localhost:8080/",
          "height": 454
        },
        "id": "1w3glmzBKD5Q",
        "outputId": "1070c94c-ceef-430e-89ca-550fec88296b"
      },
      "source": [
        "tmp"
      ],
      "execution_count": 34,
      "outputs": [
        {
          "output_type": "execute_result",
          "data": {
            "text/html": [
              "<div>\n",
              "<style scoped>\n",
              "    .dataframe tbody tr th:only-of-type {\n",
              "        vertical-align: middle;\n",
              "    }\n",
              "\n",
              "    .dataframe tbody tr th {\n",
              "        vertical-align: top;\n",
              "    }\n",
              "\n",
              "    .dataframe thead th {\n",
              "        text-align: right;\n",
              "    }\n",
              "</style>\n",
              "<table border=\"1\" class=\"dataframe\">\n",
              "  <thead>\n",
              "    <tr style=\"text-align: right;\">\n",
              "      <th></th>\n",
              "      <th></th>\n",
              "      <th>Type</th>\n",
              "      <th>Size</th>\n",
              "      <th>Dept</th>\n",
              "      <th>Weekly_Sales</th>\n",
              "      <th>IsHoliday</th>\n",
              "    </tr>\n",
              "    <tr>\n",
              "      <th>Store</th>\n",
              "      <th>Date</th>\n",
              "      <th></th>\n",
              "      <th></th>\n",
              "      <th></th>\n",
              "      <th></th>\n",
              "      <th></th>\n",
              "    </tr>\n",
              "  </thead>\n",
              "  <tbody>\n",
              "    <tr>\n",
              "      <th rowspan=\"5\" valign=\"top\">1</th>\n",
              "      <th>2010-05-02</th>\n",
              "      <td>A</td>\n",
              "      <td>151315</td>\n",
              "      <td>1</td>\n",
              "      <td>24924.50</td>\n",
              "      <td>False</td>\n",
              "    </tr>\n",
              "    <tr>\n",
              "      <th>2010-12-02</th>\n",
              "      <td>A</td>\n",
              "      <td>151315</td>\n",
              "      <td>1</td>\n",
              "      <td>46039.49</td>\n",
              "      <td>True</td>\n",
              "    </tr>\n",
              "    <tr>\n",
              "      <th>2010-02-19</th>\n",
              "      <td>A</td>\n",
              "      <td>151315</td>\n",
              "      <td>1</td>\n",
              "      <td>41595.55</td>\n",
              "      <td>False</td>\n",
              "    </tr>\n",
              "    <tr>\n",
              "      <th>2010-02-26</th>\n",
              "      <td>A</td>\n",
              "      <td>151315</td>\n",
              "      <td>1</td>\n",
              "      <td>19403.54</td>\n",
              "      <td>False</td>\n",
              "    </tr>\n",
              "    <tr>\n",
              "      <th>2010-05-03</th>\n",
              "      <td>A</td>\n",
              "      <td>151315</td>\n",
              "      <td>1</td>\n",
              "      <td>21827.90</td>\n",
              "      <td>False</td>\n",
              "    </tr>\n",
              "    <tr>\n",
              "      <th>...</th>\n",
              "      <th>...</th>\n",
              "      <td>...</td>\n",
              "      <td>...</td>\n",
              "      <td>...</td>\n",
              "      <td>...</td>\n",
              "      <td>...</td>\n",
              "    </tr>\n",
              "    <tr>\n",
              "      <th rowspan=\"5\" valign=\"top\">45</th>\n",
              "      <th>2012-09-28</th>\n",
              "      <td>B</td>\n",
              "      <td>118221</td>\n",
              "      <td>98</td>\n",
              "      <td>508.37</td>\n",
              "      <td>False</td>\n",
              "    </tr>\n",
              "    <tr>\n",
              "      <th>2012-05-10</th>\n",
              "      <td>B</td>\n",
              "      <td>118221</td>\n",
              "      <td>98</td>\n",
              "      <td>628.10</td>\n",
              "      <td>False</td>\n",
              "    </tr>\n",
              "    <tr>\n",
              "      <th>2012-12-10</th>\n",
              "      <td>B</td>\n",
              "      <td>118221</td>\n",
              "      <td>98</td>\n",
              "      <td>1061.02</td>\n",
              "      <td>False</td>\n",
              "    </tr>\n",
              "    <tr>\n",
              "      <th>2012-10-19</th>\n",
              "      <td>B</td>\n",
              "      <td>118221</td>\n",
              "      <td>98</td>\n",
              "      <td>760.01</td>\n",
              "      <td>False</td>\n",
              "    </tr>\n",
              "    <tr>\n",
              "      <th>2012-10-26</th>\n",
              "      <td>B</td>\n",
              "      <td>118221</td>\n",
              "      <td>98</td>\n",
              "      <td>1076.80</td>\n",
              "      <td>False</td>\n",
              "    </tr>\n",
              "  </tbody>\n",
              "</table>\n",
              "<p>421570 rows × 5 columns</p>\n",
              "</div>"
            ],
            "text/plain": [
              "                 Type    Size  Dept  Weekly_Sales  IsHoliday\n",
              "Store Date                                                  \n",
              "1     2010-05-02    A  151315     1      24924.50      False\n",
              "      2010-12-02    A  151315     1      46039.49       True\n",
              "      2010-02-19    A  151315     1      41595.55      False\n",
              "      2010-02-26    A  151315     1      19403.54      False\n",
              "      2010-05-03    A  151315     1      21827.90      False\n",
              "...               ...     ...   ...           ...        ...\n",
              "45    2012-09-28    B  118221    98        508.37      False\n",
              "      2012-05-10    B  118221    98        628.10      False\n",
              "      2012-12-10    B  118221    98       1061.02      False\n",
              "      2012-10-19    B  118221    98        760.01      False\n",
              "      2012-10-26    B  118221    98       1076.80      False\n",
              "\n",
              "[421570 rows x 5 columns]"
            ]
          },
          "metadata": {},
          "execution_count": 34
        }
      ]
    },
    {
      "cell_type": "code",
      "metadata": {
        "id": "g238fwFJITbM"
      },
      "source": [
        "tmp2 = features.reset_index().set_index(['Store','Date'])"
      ],
      "execution_count": 32,
      "outputs": []
    },
    {
      "cell_type": "code",
      "metadata": {
        "colab": {
          "base_uri": "https://localhost:8080/",
          "height": 454
        },
        "id": "CVNv5vbcKlN4",
        "outputId": "0eb3e89f-1eee-4734-88ae-3e4f675f52f7"
      },
      "source": [
        "tmp2"
      ],
      "execution_count": 35,
      "outputs": [
        {
          "output_type": "execute_result",
          "data": {
            "text/html": [
              "<div>\n",
              "<style scoped>\n",
              "    .dataframe tbody tr th:only-of-type {\n",
              "        vertical-align: middle;\n",
              "    }\n",
              "\n",
              "    .dataframe tbody tr th {\n",
              "        vertical-align: top;\n",
              "    }\n",
              "\n",
              "    .dataframe thead th {\n",
              "        text-align: right;\n",
              "    }\n",
              "</style>\n",
              "<table border=\"1\" class=\"dataframe\">\n",
              "  <thead>\n",
              "    <tr style=\"text-align: right;\">\n",
              "      <th></th>\n",
              "      <th></th>\n",
              "      <th>Temperature</th>\n",
              "      <th>Fuel_Price</th>\n",
              "      <th>CPI</th>\n",
              "      <th>Unemployment</th>\n",
              "      <th>IsHoliday</th>\n",
              "    </tr>\n",
              "    <tr>\n",
              "      <th>Store</th>\n",
              "      <th>Date</th>\n",
              "      <th></th>\n",
              "      <th></th>\n",
              "      <th></th>\n",
              "      <th></th>\n",
              "      <th></th>\n",
              "    </tr>\n",
              "  </thead>\n",
              "  <tbody>\n",
              "    <tr>\n",
              "      <th rowspan=\"5\" valign=\"top\">1</th>\n",
              "      <th>2010-05-02</th>\n",
              "      <td>42.31</td>\n",
              "      <td>2.572</td>\n",
              "      <td>211.096358</td>\n",
              "      <td>8.106</td>\n",
              "      <td>False</td>\n",
              "    </tr>\n",
              "    <tr>\n",
              "      <th>2010-12-02</th>\n",
              "      <td>38.51</td>\n",
              "      <td>2.548</td>\n",
              "      <td>211.242170</td>\n",
              "      <td>8.106</td>\n",
              "      <td>True</td>\n",
              "    </tr>\n",
              "    <tr>\n",
              "      <th>2010-02-19</th>\n",
              "      <td>39.93</td>\n",
              "      <td>2.514</td>\n",
              "      <td>211.289143</td>\n",
              "      <td>8.106</td>\n",
              "      <td>False</td>\n",
              "    </tr>\n",
              "    <tr>\n",
              "      <th>2010-02-26</th>\n",
              "      <td>46.63</td>\n",
              "      <td>2.561</td>\n",
              "      <td>211.319643</td>\n",
              "      <td>8.106</td>\n",
              "      <td>False</td>\n",
              "    </tr>\n",
              "    <tr>\n",
              "      <th>2010-05-03</th>\n",
              "      <td>46.50</td>\n",
              "      <td>2.625</td>\n",
              "      <td>211.350143</td>\n",
              "      <td>8.106</td>\n",
              "      <td>False</td>\n",
              "    </tr>\n",
              "    <tr>\n",
              "      <th>...</th>\n",
              "      <th>...</th>\n",
              "      <td>...</td>\n",
              "      <td>...</td>\n",
              "      <td>...</td>\n",
              "      <td>...</td>\n",
              "      <td>...</td>\n",
              "    </tr>\n",
              "    <tr>\n",
              "      <th rowspan=\"5\" valign=\"top\">45</th>\n",
              "      <th>2013-06-28</th>\n",
              "      <td>76.05</td>\n",
              "      <td>3.639</td>\n",
              "      <td>NaN</td>\n",
              "      <td>NaN</td>\n",
              "      <td>False</td>\n",
              "    </tr>\n",
              "    <tr>\n",
              "      <th>2013-05-07</th>\n",
              "      <td>77.50</td>\n",
              "      <td>3.614</td>\n",
              "      <td>NaN</td>\n",
              "      <td>NaN</td>\n",
              "      <td>False</td>\n",
              "    </tr>\n",
              "    <tr>\n",
              "      <th>2013-12-07</th>\n",
              "      <td>79.37</td>\n",
              "      <td>3.614</td>\n",
              "      <td>NaN</td>\n",
              "      <td>NaN</td>\n",
              "      <td>False</td>\n",
              "    </tr>\n",
              "    <tr>\n",
              "      <th>2013-07-19</th>\n",
              "      <td>82.84</td>\n",
              "      <td>3.737</td>\n",
              "      <td>NaN</td>\n",
              "      <td>NaN</td>\n",
              "      <td>False</td>\n",
              "    </tr>\n",
              "    <tr>\n",
              "      <th>2013-07-26</th>\n",
              "      <td>76.06</td>\n",
              "      <td>3.804</td>\n",
              "      <td>NaN</td>\n",
              "      <td>NaN</td>\n",
              "      <td>False</td>\n",
              "    </tr>\n",
              "  </tbody>\n",
              "</table>\n",
              "<p>8190 rows × 5 columns</p>\n",
              "</div>"
            ],
            "text/plain": [
              "                  Temperature  Fuel_Price         CPI  Unemployment  IsHoliday\n",
              "Store Date                                                                    \n",
              "1     2010-05-02        42.31       2.572  211.096358         8.106      False\n",
              "      2010-12-02        38.51       2.548  211.242170         8.106       True\n",
              "      2010-02-19        39.93       2.514  211.289143         8.106      False\n",
              "      2010-02-26        46.63       2.561  211.319643         8.106      False\n",
              "      2010-05-03        46.50       2.625  211.350143         8.106      False\n",
              "...                       ...         ...         ...           ...        ...\n",
              "45    2013-06-28        76.05       3.639         NaN           NaN      False\n",
              "      2013-05-07        77.50       3.614         NaN           NaN      False\n",
              "      2013-12-07        79.37       3.614         NaN           NaN      False\n",
              "      2013-07-19        82.84       3.737         NaN           NaN      False\n",
              "      2013-07-26        76.06       3.804         NaN           NaN      False\n",
              "\n",
              "[8190 rows x 5 columns]"
            ]
          },
          "metadata": {},
          "execution_count": 35
        }
      ]
    },
    {
      "cell_type": "code",
      "metadata": {
        "id": "ehVTn63_JrRq"
      },
      "source": [
        "df = tmp.merge(tmp2, on=['Store','Date'])"
      ],
      "execution_count": 36,
      "outputs": []
    },
    {
      "cell_type": "code",
      "metadata": {
        "colab": {
          "base_uri": "https://localhost:8080/",
          "height": 454
        },
        "id": "it7bX07OK98C",
        "outputId": "1b9da451-8e69-43fc-acb7-b29bbf0d82e9"
      },
      "source": [
        "df"
      ],
      "execution_count": 37,
      "outputs": [
        {
          "output_type": "execute_result",
          "data": {
            "text/html": [
              "<div>\n",
              "<style scoped>\n",
              "    .dataframe tbody tr th:only-of-type {\n",
              "        vertical-align: middle;\n",
              "    }\n",
              "\n",
              "    .dataframe tbody tr th {\n",
              "        vertical-align: top;\n",
              "    }\n",
              "\n",
              "    .dataframe thead th {\n",
              "        text-align: right;\n",
              "    }\n",
              "</style>\n",
              "<table border=\"1\" class=\"dataframe\">\n",
              "  <thead>\n",
              "    <tr style=\"text-align: right;\">\n",
              "      <th></th>\n",
              "      <th></th>\n",
              "      <th>Type</th>\n",
              "      <th>Size</th>\n",
              "      <th>Dept</th>\n",
              "      <th>Weekly_Sales</th>\n",
              "      <th>IsHoliday_x</th>\n",
              "      <th>Temperature</th>\n",
              "      <th>Fuel_Price</th>\n",
              "      <th>CPI</th>\n",
              "      <th>Unemployment</th>\n",
              "      <th>IsHoliday_y</th>\n",
              "    </tr>\n",
              "    <tr>\n",
              "      <th>Store</th>\n",
              "      <th>Date</th>\n",
              "      <th></th>\n",
              "      <th></th>\n",
              "      <th></th>\n",
              "      <th></th>\n",
              "      <th></th>\n",
              "      <th></th>\n",
              "      <th></th>\n",
              "      <th></th>\n",
              "      <th></th>\n",
              "      <th></th>\n",
              "    </tr>\n",
              "  </thead>\n",
              "  <tbody>\n",
              "    <tr>\n",
              "      <th rowspan=\"5\" valign=\"top\">1</th>\n",
              "      <th>2010-05-02</th>\n",
              "      <td>A</td>\n",
              "      <td>151315</td>\n",
              "      <td>1</td>\n",
              "      <td>24924.50</td>\n",
              "      <td>False</td>\n",
              "      <td>42.31</td>\n",
              "      <td>2.572</td>\n",
              "      <td>211.096358</td>\n",
              "      <td>8.106</td>\n",
              "      <td>False</td>\n",
              "    </tr>\n",
              "    <tr>\n",
              "      <th>2010-05-02</th>\n",
              "      <td>A</td>\n",
              "      <td>151315</td>\n",
              "      <td>2</td>\n",
              "      <td>50605.27</td>\n",
              "      <td>False</td>\n",
              "      <td>42.31</td>\n",
              "      <td>2.572</td>\n",
              "      <td>211.096358</td>\n",
              "      <td>8.106</td>\n",
              "      <td>False</td>\n",
              "    </tr>\n",
              "    <tr>\n",
              "      <th>2010-05-02</th>\n",
              "      <td>A</td>\n",
              "      <td>151315</td>\n",
              "      <td>3</td>\n",
              "      <td>13740.12</td>\n",
              "      <td>False</td>\n",
              "      <td>42.31</td>\n",
              "      <td>2.572</td>\n",
              "      <td>211.096358</td>\n",
              "      <td>8.106</td>\n",
              "      <td>False</td>\n",
              "    </tr>\n",
              "    <tr>\n",
              "      <th>2010-05-02</th>\n",
              "      <td>A</td>\n",
              "      <td>151315</td>\n",
              "      <td>4</td>\n",
              "      <td>39954.04</td>\n",
              "      <td>False</td>\n",
              "      <td>42.31</td>\n",
              "      <td>2.572</td>\n",
              "      <td>211.096358</td>\n",
              "      <td>8.106</td>\n",
              "      <td>False</td>\n",
              "    </tr>\n",
              "    <tr>\n",
              "      <th>2010-05-02</th>\n",
              "      <td>A</td>\n",
              "      <td>151315</td>\n",
              "      <td>5</td>\n",
              "      <td>32229.38</td>\n",
              "      <td>False</td>\n",
              "      <td>42.31</td>\n",
              "      <td>2.572</td>\n",
              "      <td>211.096358</td>\n",
              "      <td>8.106</td>\n",
              "      <td>False</td>\n",
              "    </tr>\n",
              "    <tr>\n",
              "      <th>...</th>\n",
              "      <th>...</th>\n",
              "      <td>...</td>\n",
              "      <td>...</td>\n",
              "      <td>...</td>\n",
              "      <td>...</td>\n",
              "      <td>...</td>\n",
              "      <td>...</td>\n",
              "      <td>...</td>\n",
              "      <td>...</td>\n",
              "      <td>...</td>\n",
              "      <td>...</td>\n",
              "    </tr>\n",
              "    <tr>\n",
              "      <th rowspan=\"5\" valign=\"top\">45</th>\n",
              "      <th>2012-10-26</th>\n",
              "      <td>B</td>\n",
              "      <td>118221</td>\n",
              "      <td>93</td>\n",
              "      <td>2487.80</td>\n",
              "      <td>False</td>\n",
              "      <td>58.85</td>\n",
              "      <td>3.882</td>\n",
              "      <td>192.308899</td>\n",
              "      <td>8.667</td>\n",
              "      <td>False</td>\n",
              "    </tr>\n",
              "    <tr>\n",
              "      <th>2012-10-26</th>\n",
              "      <td>B</td>\n",
              "      <td>118221</td>\n",
              "      <td>94</td>\n",
              "      <td>5203.31</td>\n",
              "      <td>False</td>\n",
              "      <td>58.85</td>\n",
              "      <td>3.882</td>\n",
              "      <td>192.308899</td>\n",
              "      <td>8.667</td>\n",
              "      <td>False</td>\n",
              "    </tr>\n",
              "    <tr>\n",
              "      <th>2012-10-26</th>\n",
              "      <td>B</td>\n",
              "      <td>118221</td>\n",
              "      <td>95</td>\n",
              "      <td>56017.47</td>\n",
              "      <td>False</td>\n",
              "      <td>58.85</td>\n",
              "      <td>3.882</td>\n",
              "      <td>192.308899</td>\n",
              "      <td>8.667</td>\n",
              "      <td>False</td>\n",
              "    </tr>\n",
              "    <tr>\n",
              "      <th>2012-10-26</th>\n",
              "      <td>B</td>\n",
              "      <td>118221</td>\n",
              "      <td>97</td>\n",
              "      <td>6817.48</td>\n",
              "      <td>False</td>\n",
              "      <td>58.85</td>\n",
              "      <td>3.882</td>\n",
              "      <td>192.308899</td>\n",
              "      <td>8.667</td>\n",
              "      <td>False</td>\n",
              "    </tr>\n",
              "    <tr>\n",
              "      <th>2012-10-26</th>\n",
              "      <td>B</td>\n",
              "      <td>118221</td>\n",
              "      <td>98</td>\n",
              "      <td>1076.80</td>\n",
              "      <td>False</td>\n",
              "      <td>58.85</td>\n",
              "      <td>3.882</td>\n",
              "      <td>192.308899</td>\n",
              "      <td>8.667</td>\n",
              "      <td>False</td>\n",
              "    </tr>\n",
              "  </tbody>\n",
              "</table>\n",
              "<p>421570 rows × 10 columns</p>\n",
              "</div>"
            ],
            "text/plain": [
              "                 Type    Size  Dept  Weekly_Sales  IsHoliday_x  Temperature  \\\n",
              "Store Date                                                                    \n",
              "1     2010-05-02    A  151315     1      24924.50        False        42.31   \n",
              "      2010-05-02    A  151315     2      50605.27        False        42.31   \n",
              "      2010-05-02    A  151315     3      13740.12        False        42.31   \n",
              "      2010-05-02    A  151315     4      39954.04        False        42.31   \n",
              "      2010-05-02    A  151315     5      32229.38        False        42.31   \n",
              "...               ...     ...   ...           ...          ...          ...   \n",
              "45    2012-10-26    B  118221    93       2487.80        False        58.85   \n",
              "      2012-10-26    B  118221    94       5203.31        False        58.85   \n",
              "      2012-10-26    B  118221    95      56017.47        False        58.85   \n",
              "      2012-10-26    B  118221    97       6817.48        False        58.85   \n",
              "      2012-10-26    B  118221    98       1076.80        False        58.85   \n",
              "\n",
              "                  Fuel_Price         CPI  Unemployment  IsHoliday_y  \n",
              "Store Date                                                           \n",
              "1     2010-05-02       2.572  211.096358         8.106        False  \n",
              "      2010-05-02       2.572  211.096358         8.106        False  \n",
              "      2010-05-02       2.572  211.096358         8.106        False  \n",
              "      2010-05-02       2.572  211.096358         8.106        False  \n",
              "      2010-05-02       2.572  211.096358         8.106        False  \n",
              "...                      ...         ...           ...          ...  \n",
              "45    2012-10-26       3.882  192.308899         8.667        False  \n",
              "      2012-10-26       3.882  192.308899         8.667        False  \n",
              "      2012-10-26       3.882  192.308899         8.667        False  \n",
              "      2012-10-26       3.882  192.308899         8.667        False  \n",
              "      2012-10-26       3.882  192.308899         8.667        False  \n",
              "\n",
              "[421570 rows x 10 columns]"
            ]
          },
          "metadata": {},
          "execution_count": 37
        }
      ]
    },
    {
      "cell_type": "markdown",
      "metadata": {
        "id": "Y9p_n_ymoWGq"
      },
      "source": [
        "# Implementación CNN"
      ]
    },
    {
      "cell_type": "code",
      "metadata": {
        "id": "9V4GfTYKr_cS"
      },
      "source": [
        "# def error_l1(df, colA, colB): \n",
        "#   df = df.iloc[-(int(len(df)*0.1)):] # Es lo equivalente a lo que se hizo con daily-min-temperatures.csv\n",
        "#   return np.mean(np.abs(df[colA]-df[colB]))\n",
        "\n",
        "# def error_rmse(df, colA, colB):\n",
        "#   df = df.iloc[-(int(len(df)*0.1)):] \n",
        "#   return np.sqrt(np.mean(np.square(df[colA]-df[colB])))"
      ],
      "execution_count": 39,
      "outputs": []
    },
    {
      "cell_type": "code",
      "metadata": {
        "id": "ndVa_3iZNZjb"
      },
      "source": [
        "def L1_error(df_weekly_sales,df_prev_weekly_sales): \n",
        "  \n",
        "  return np.mean(np.abs(df_weekly_sales-df_prev_weekly_sales))\n",
        "\n",
        "def RMSE_error(df_weekly_sales,df_prev_weekly_sales):\n",
        "  return np.sqrt(np.mean(np.square(df_weekly_sales-df_prev_weekly_sales)))"
      ],
      "execution_count": 40,
      "outputs": []
    },
    {
      "cell_type": "code",
      "metadata": {
        "colab": {
          "base_uri": "https://localhost:8080/"
        },
        "id": "6SyAlUMph-lZ",
        "outputId": "c38576fe-61db-4cf3-a571-cd98a8491520"
      },
      "source": [
        "df.columns"
      ],
      "execution_count": 41,
      "outputs": [
        {
          "output_type": "execute_result",
          "data": {
            "text/plain": [
              "Index(['Type', 'Size', 'Dept', 'Weekly_Sales', 'IsHoliday_x', 'Temperature',\n",
              "       'Fuel_Price', 'CPI', 'Unemployment', 'IsHoliday_y'],\n",
              "      dtype='object')"
            ]
          },
          "metadata": {},
          "execution_count": 41
        }
      ]
    },
    {
      "cell_type": "code",
      "metadata": {
        "colab": {
          "base_uri": "https://localhost:8080/",
          "height": 193
        },
        "id": "q378kb8rhS_i",
        "outputId": "3a337e2b-bb1a-4e0a-cbd2-736ea856bbe7"
      },
      "source": [
        "df['prev_weekly_sales'] = df['Weekly_Sales'].shift(1)\n",
        "print(df.shape)\n",
        "df.head(3)"
      ],
      "execution_count": 43,
      "outputs": [
        {
          "output_type": "stream",
          "name": "stdout",
          "text": [
            "(421570, 11)\n"
          ]
        },
        {
          "output_type": "execute_result",
          "data": {
            "text/html": [
              "<div>\n",
              "<style scoped>\n",
              "    .dataframe tbody tr th:only-of-type {\n",
              "        vertical-align: middle;\n",
              "    }\n",
              "\n",
              "    .dataframe tbody tr th {\n",
              "        vertical-align: top;\n",
              "    }\n",
              "\n",
              "    .dataframe thead th {\n",
              "        text-align: right;\n",
              "    }\n",
              "</style>\n",
              "<table border=\"1\" class=\"dataframe\">\n",
              "  <thead>\n",
              "    <tr style=\"text-align: right;\">\n",
              "      <th></th>\n",
              "      <th></th>\n",
              "      <th>Type</th>\n",
              "      <th>Size</th>\n",
              "      <th>Dept</th>\n",
              "      <th>Weekly_Sales</th>\n",
              "      <th>IsHoliday_x</th>\n",
              "      <th>Temperature</th>\n",
              "      <th>Fuel_Price</th>\n",
              "      <th>CPI</th>\n",
              "      <th>Unemployment</th>\n",
              "      <th>IsHoliday_y</th>\n",
              "      <th>prev_weekly_sales</th>\n",
              "    </tr>\n",
              "    <tr>\n",
              "      <th>Store</th>\n",
              "      <th>Date</th>\n",
              "      <th></th>\n",
              "      <th></th>\n",
              "      <th></th>\n",
              "      <th></th>\n",
              "      <th></th>\n",
              "      <th></th>\n",
              "      <th></th>\n",
              "      <th></th>\n",
              "      <th></th>\n",
              "      <th></th>\n",
              "      <th></th>\n",
              "    </tr>\n",
              "  </thead>\n",
              "  <tbody>\n",
              "    <tr>\n",
              "      <th rowspan=\"3\" valign=\"top\">1</th>\n",
              "      <th>2010-05-02</th>\n",
              "      <td>A</td>\n",
              "      <td>151315</td>\n",
              "      <td>1</td>\n",
              "      <td>24924.50</td>\n",
              "      <td>False</td>\n",
              "      <td>42.31</td>\n",
              "      <td>2.572</td>\n",
              "      <td>211.096358</td>\n",
              "      <td>8.106</td>\n",
              "      <td>False</td>\n",
              "      <td>NaN</td>\n",
              "    </tr>\n",
              "    <tr>\n",
              "      <th>2010-05-02</th>\n",
              "      <td>A</td>\n",
              "      <td>151315</td>\n",
              "      <td>2</td>\n",
              "      <td>50605.27</td>\n",
              "      <td>False</td>\n",
              "      <td>42.31</td>\n",
              "      <td>2.572</td>\n",
              "      <td>211.096358</td>\n",
              "      <td>8.106</td>\n",
              "      <td>False</td>\n",
              "      <td>24924.50</td>\n",
              "    </tr>\n",
              "    <tr>\n",
              "      <th>2010-05-02</th>\n",
              "      <td>A</td>\n",
              "      <td>151315</td>\n",
              "      <td>3</td>\n",
              "      <td>13740.12</td>\n",
              "      <td>False</td>\n",
              "      <td>42.31</td>\n",
              "      <td>2.572</td>\n",
              "      <td>211.096358</td>\n",
              "      <td>8.106</td>\n",
              "      <td>False</td>\n",
              "      <td>50605.27</td>\n",
              "    </tr>\n",
              "  </tbody>\n",
              "</table>\n",
              "</div>"
            ],
            "text/plain": [
              "                 Type    Size  Dept  Weekly_Sales  IsHoliday_x  Temperature  \\\n",
              "Store Date                                                                    \n",
              "1     2010-05-02    A  151315     1      24924.50        False        42.31   \n",
              "      2010-05-02    A  151315     2      50605.27        False        42.31   \n",
              "      2010-05-02    A  151315     3      13740.12        False        42.31   \n",
              "\n",
              "                  Fuel_Price         CPI  Unemployment  IsHoliday_y  \\\n",
              "Store Date                                                            \n",
              "1     2010-05-02       2.572  211.096358         8.106        False   \n",
              "      2010-05-02       2.572  211.096358         8.106        False   \n",
              "      2010-05-02       2.572  211.096358         8.106        False   \n",
              "\n",
              "                  prev_weekly_sales  \n",
              "Store Date                           \n",
              "1     2010-05-02                NaN  \n",
              "      2010-05-02           24924.50  \n",
              "      2010-05-02           50605.27  "
            ]
          },
          "metadata": {},
          "execution_count": 43
        }
      ]
    },
    {
      "cell_type": "code",
      "metadata": {
        "colab": {
          "base_uri": "https://localhost:8080/"
        },
        "id": "EGdSXruZOY6h",
        "outputId": "22123fcd-957b-4fbf-daf9-e2b719688a22"
      },
      "source": [
        "(df.iloc[-(int(len(df)*0.1)):]['Weekly_Sales'])"
      ],
      "execution_count": 45,
      "outputs": [
        {
          "output_type": "execute_result",
          "data": {
            "text/plain": [
              "Store  Date      \n",
              "40     2012-05-25     1589.49\n",
              "       2012-05-25    21015.24\n",
              "       2012-05-25    57165.19\n",
              "       2012-05-25    37338.18\n",
              "       2012-05-25    89601.28\n",
              "                       ...   \n",
              "45     2012-10-26     2487.80\n",
              "       2012-10-26     5203.31\n",
              "       2012-10-26    56017.47\n",
              "       2012-10-26     6817.48\n",
              "       2012-10-26     1076.80\n",
              "Name: Weekly_Sales, Length: 42157, dtype: float64"
            ]
          },
          "metadata": {},
          "execution_count": 45
        }
      ]
    },
    {
      "cell_type": "code",
      "metadata": {
        "colab": {
          "base_uri": "https://localhost:8080/"
        },
        "id": "TGhh0WyNiIR9",
        "outputId": "c6a044c5-0608-464b-aae7-db51cd47c2e9"
      },
      "source": [
        "print(\"Error RMSE: \",RMSE_error(df.iloc[-(int(len(df)*0.1)):]['Weekly_Sales'],df.iloc[-(int(len(df)*0.1)):]['prev_weekly_sales']) )"
      ],
      "execution_count": 47,
      "outputs": [
        {
          "output_type": "stream",
          "name": "stdout",
          "text": [
            "Error RMSE:  19906.927237715237\n"
          ]
        }
      ]
    },
    {
      "cell_type": "code",
      "metadata": {
        "id": "gC3eKjvZPBx6"
      },
      "source": [
        "df.reset_index(inplace=True)"
      ],
      "execution_count": 57,
      "outputs": []
    },
    {
      "cell_type": "code",
      "metadata": {
        "colab": {
          "base_uri": "https://localhost:8080/",
          "height": 142
        },
        "id": "83sigmgmPLIl",
        "outputId": "76f7da8a-0801-4371-c5f3-f9ee4bf0624a"
      },
      "source": [
        "df.head(3)"
      ],
      "execution_count": 58,
      "outputs": [
        {
          "output_type": "execute_result",
          "data": {
            "text/html": [
              "<div>\n",
              "<style scoped>\n",
              "    .dataframe tbody tr th:only-of-type {\n",
              "        vertical-align: middle;\n",
              "    }\n",
              "\n",
              "    .dataframe tbody tr th {\n",
              "        vertical-align: top;\n",
              "    }\n",
              "\n",
              "    .dataframe thead th {\n",
              "        text-align: right;\n",
              "    }\n",
              "</style>\n",
              "<table border=\"1\" class=\"dataframe\">\n",
              "  <thead>\n",
              "    <tr style=\"text-align: right;\">\n",
              "      <th></th>\n",
              "      <th>Store</th>\n",
              "      <th>Date</th>\n",
              "      <th>Type</th>\n",
              "      <th>Size</th>\n",
              "      <th>Dept</th>\n",
              "      <th>Weekly_Sales</th>\n",
              "      <th>IsHoliday_x</th>\n",
              "      <th>Temperature</th>\n",
              "      <th>Fuel_Price</th>\n",
              "      <th>CPI</th>\n",
              "      <th>Unemployment</th>\n",
              "      <th>IsHoliday_y</th>\n",
              "      <th>prev_weekly_sales</th>\n",
              "    </tr>\n",
              "  </thead>\n",
              "  <tbody>\n",
              "    <tr>\n",
              "      <th>0</th>\n",
              "      <td>1</td>\n",
              "      <td>2010-05-02</td>\n",
              "      <td>A</td>\n",
              "      <td>151315</td>\n",
              "      <td>2</td>\n",
              "      <td>50605.27</td>\n",
              "      <td>False</td>\n",
              "      <td>42.31</td>\n",
              "      <td>2.572</td>\n",
              "      <td>211.096358</td>\n",
              "      <td>8.106</td>\n",
              "      <td>False</td>\n",
              "      <td>24924.50</td>\n",
              "    </tr>\n",
              "    <tr>\n",
              "      <th>1</th>\n",
              "      <td>1</td>\n",
              "      <td>2010-05-02</td>\n",
              "      <td>A</td>\n",
              "      <td>151315</td>\n",
              "      <td>3</td>\n",
              "      <td>13740.12</td>\n",
              "      <td>False</td>\n",
              "      <td>42.31</td>\n",
              "      <td>2.572</td>\n",
              "      <td>211.096358</td>\n",
              "      <td>8.106</td>\n",
              "      <td>False</td>\n",
              "      <td>50605.27</td>\n",
              "    </tr>\n",
              "    <tr>\n",
              "      <th>2</th>\n",
              "      <td>1</td>\n",
              "      <td>2010-05-02</td>\n",
              "      <td>A</td>\n",
              "      <td>151315</td>\n",
              "      <td>4</td>\n",
              "      <td>39954.04</td>\n",
              "      <td>False</td>\n",
              "      <td>42.31</td>\n",
              "      <td>2.572</td>\n",
              "      <td>211.096358</td>\n",
              "      <td>8.106</td>\n",
              "      <td>False</td>\n",
              "      <td>13740.12</td>\n",
              "    </tr>\n",
              "  </tbody>\n",
              "</table>\n",
              "</div>"
            ],
            "text/plain": [
              "   Store       Date Type    Size  Dept  Weekly_Sales  IsHoliday_x  \\\n",
              "0      1 2010-05-02    A  151315     2      50605.27        False   \n",
              "1      1 2010-05-02    A  151315     3      13740.12        False   \n",
              "2      1 2010-05-02    A  151315     4      39954.04        False   \n",
              "\n",
              "   Temperature  Fuel_Price         CPI  Unemployment  IsHoliday_y  \\\n",
              "0        42.31       2.572  211.096358         8.106        False   \n",
              "1        42.31       2.572  211.096358         8.106        False   \n",
              "2        42.31       2.572  211.096358         8.106        False   \n",
              "\n",
              "   prev_weekly_sales  \n",
              "0           24924.50  \n",
              "1           50605.27  \n",
              "2           13740.12  "
            ]
          },
          "metadata": {},
          "execution_count": 58
        }
      ]
    },
    {
      "cell_type": "code",
      "metadata": {
        "colab": {
          "base_uri": "https://localhost:8080/"
        },
        "id": "twDbXkePPitx",
        "outputId": "49794dc8-fbfa-42d6-f8ba-a158111ccfee"
      },
      "source": [
        "df.columns"
      ],
      "execution_count": 59,
      "outputs": [
        {
          "output_type": "execute_result",
          "data": {
            "text/plain": [
              "Index(['Store', 'Date', 'Type', 'Size', 'Dept', 'Weekly_Sales', 'IsHoliday_x',\n",
              "       'Temperature', 'Fuel_Price', 'CPI', 'Unemployment', 'IsHoliday_y',\n",
              "       'prev_weekly_sales'],\n",
              "      dtype='object')"
            ]
          },
          "metadata": {},
          "execution_count": 59
        }
      ]
    },
    {
      "cell_type": "code",
      "metadata": {
        "id": "VwuoquqTjJAS"
      },
      "source": [
        "def cargar_datos(df): \n",
        "  X = ft.range_of(df)\n",
        "  valid_cut = len(df) - int(len(df)*0.1)\n",
        "  src = ft.TabularPandas(df,\n",
        "                         cont_names=['Store','Date', 'Type','Size','Dept','Temperature', 'Fuel_Price','CPI', 'Unemployment', 'prev_weekly_sales'],\n",
        "                         y_names=['Weekly_Sales'],\n",
        "                        splits = (X[:valid_cut], X[valid_cut:]))\n",
        "  \n",
        "  return src.dataloaders(bs=1024)\n",
        "  dls = cargar_datos(df)"
      ],
      "execution_count": 98,
      "outputs": []
    },
    {
      "cell_type": "code",
      "metadata": {
        "colab": {
          "base_uri": "https://localhost:8080/"
        },
        "id": "KwtR-cCukgIm",
        "outputId": "4d0f9782-b7a8-4377-f1bd-5c0fce1fa5ca"
      },
      "source": [
        "dls.one_batch()"
      ],
      "execution_count": 99,
      "outputs": [
        {
          "output_type": "execute_result",
          "data": {
            "text/plain": [
              "(tensor([], size=(1024, 0), dtype=torch.int64),\n",
              " tensor([[4.0000e+00, 5.6000e+01, 4.3760e+01,  ..., 8.6230e+00, 2.0586e+05, 2.3423e+04],\n",
              "         [1.6000e+01, 7.9000e+01, 4.1260e+01,  ..., 6.8420e+00, 5.7197e+04, 7.9606e+03],\n",
              "         [3.9000e+01, 3.0000e+00, 7.3310e+01,  ..., 8.3000e+00, 1.8411e+05, 6.8114e+04],\n",
              "         ...,\n",
              "         [4.0000e+01, 7.1000e+01, 2.1640e+01,  ..., 5.2870e+00, 1.5508e+05, 7.4529e+03],\n",
              "         [3.3000e+01, 4.0000e+00, 1.0014e+02,  ..., 9.4950e+00, 3.9690e+04, 1.9800e+02],\n",
              "         [2.6000e+01, 2.2000e+01, 4.7110e+01,  ..., 7.4890e+00, 1.5251e+05, 5.1525e+03]]),\n",
              " tensor([[ 2744.0100],\n",
              "         [ 4811.2598],\n",
              "         [12396.6504],\n",
              "         ...,\n",
              "         [ 2323.5200],\n",
              "         [ 5987.7598],\n",
              "         [ 4684.6802]]))"
            ]
          },
          "metadata": {},
          "execution_count": 99
        }
      ]
    },
    {
      "cell_type": "code",
      "metadata": {
        "id": "NfBd2k8gnSVw"
      },
      "source": [
        "def RMSE_loss(pred, targ): \n",
        "  return torch.sqrt(F.mse_loss(pred, targ))"
      ],
      "execution_count": 100,
      "outputs": []
    },
    {
      "cell_type": "code",
      "metadata": {
        "id": "G15rb_GztUzJ"
      },
      "source": [
        "learn = ft.tabular_learner(dls, layers=[128, 128], metrics=[F.l1_loss, RMSE_loss])"
      ],
      "execution_count": 101,
      "outputs": []
    },
    {
      "cell_type": "code",
      "metadata": {
        "colab": {
          "base_uri": "https://localhost:8080/",
          "height": 311
        },
        "id": "4r9QW6irZKC5",
        "outputId": "146681a4-3236-47c5-8eb7-66dd749b4584"
      },
      "source": [
        "learn.lr_find()"
      ],
      "execution_count": 102,
      "outputs": [
        {
          "output_type": "display_data",
          "data": {
            "text/html": [
              ""
            ],
            "text/plain": [
              "<IPython.core.display.HTML object>"
            ]
          },
          "metadata": {}
        },
        {
          "output_type": "execute_result",
          "data": {
            "text/plain": [
              "SuggestedLRs(valley=0.17378008365631104)"
            ]
          },
          "metadata": {},
          "execution_count": 102
        },
        {
          "output_type": "display_data",
          "data": {
            "image/png": "[encoded data removed]",
            "text/plain": [
              "<Figure size 432x288 with 1 Axes>"
            ]
          },
          "metadata": {
            "needs_background": "light"
          }
        }
      ]
    },
    {
      "cell_type": "code",
      "metadata": {
        "colab": {
          "base_uri": "https://localhost:8080/",
          "height": 266
        },
        "id": "9GfAGJaytdRP",
        "outputId": "11b997c8-eefb-4ebf-8f9d-b13eb1dae4c7"
      },
      "source": [
        "learn.fit_one_cycle(7, 0.173)"
      ],
      "execution_count": 104,
      "outputs": [
        {
          "output_type": "display_data",
          "data": {
            "text/html": [
              "<table border=\"1\" class=\"dataframe\">\n",
              "  <thead>\n",
              "    <tr style=\"text-align: left;\">\n",
              "      <th>epoch</th>\n",
              "      <th>train_loss</th>\n",
              "      <th>valid_loss</th>\n",
              "      <th>l1_loss</th>\n",
              "      <th>RMSE_loss</th>\n",
              "      <th>time</th>\n",
              "    </tr>\n",
              "  </thead>\n",
              "  <tbody>\n",
              "    <tr>\n",
              "      <td>0</td>\n",
              "      <td>325786464.000000</td>\n",
              "      <td>217250896.000000</td>\n",
              "      <td>9115.641602</td>\n",
              "      <td>14489.640625</td>\n",
              "      <td>00:05</td>\n",
              "    </tr>\n",
              "    <tr>\n",
              "      <td>1</td>\n",
              "      <td>323606528.000000</td>\n",
              "      <td>240947664.000000</td>\n",
              "      <td>10607.354492</td>\n",
              "      <td>15307.039062</td>\n",
              "      <td>00:05</td>\n",
              "    </tr>\n",
              "    <tr>\n",
              "      <td>2</td>\n",
              "      <td>296705344.000000</td>\n",
              "      <td>226014784.000000</td>\n",
              "      <td>10348.346680</td>\n",
              "      <td>14769.331055</td>\n",
              "      <td>00:05</td>\n",
              "    </tr>\n",
              "    <tr>\n",
              "      <td>3</td>\n",
              "      <td>286849216.000000</td>\n",
              "      <td>275995840.000000</td>\n",
              "      <td>13990.659180</td>\n",
              "      <td>16525.414062</td>\n",
              "      <td>00:05</td>\n",
              "    </tr>\n",
              "    <tr>\n",
              "      <td>4</td>\n",
              "      <td>254429600.000000</td>\n",
              "      <td>183460048.000000</td>\n",
              "      <td>8908.220703</td>\n",
              "      <td>13274.941406</td>\n",
              "      <td>00:05</td>\n",
              "    </tr>\n",
              "    <tr>\n",
              "      <td>5</td>\n",
              "      <td>239513152.000000</td>\n",
              "      <td>182866752.000000</td>\n",
              "      <td>8736.887695</td>\n",
              "      <td>13248.454102</td>\n",
              "      <td>00:05</td>\n",
              "    </tr>\n",
              "    <tr>\n",
              "      <td>6</td>\n",
              "      <td>223872912.000000</td>\n",
              "      <td>152204752.000000</td>\n",
              "      <td>7883.353516</td>\n",
              "      <td>12144.904297</td>\n",
              "      <td>00:05</td>\n",
              "    </tr>\n",
              "  </tbody>\n",
              "</table>"
            ],
            "text/plain": [
              "<IPython.core.display.HTML object>"
            ]
          },
          "metadata": {}
        }
      ]
    },
    {
      "cell_type": "code",
      "metadata": {
        "colab": {
          "base_uri": "https://localhost:8080/"
        },
        "id": "0xRnrV6FtdsJ",
        "outputId": "bf24bb62-1a4a-4062-e092-0bacac0cccf3"
      },
      "source": [
        "import statsmodels as sm\n",
        "from statsmodels.tsa.filters.hp_filter import hpfilter"
      ],
      "execution_count": 105,
      "outputs": [
        {
          "output_type": "stream",
          "name": "stderr",
          "text": [
            "/usr/local/lib/python3.7/dist-packages/statsmodels/tools/_testing.py:19: FutureWarning: pandas.util.testing is deprecated. Use the functions in the public API at pandas.testing instead.\n",
            "  import pandas.util.testing as tm\n"
          ]
        }
      ]
    },
    {
      "cell_type": "code",
      "metadata": {
        "id": "pCM2wueO2Q0F"
      },
      "source": [
        "week_trend, week_cycle = hpfilter(df['Weekly_Sales'], lamb=6.25)"
      ],
      "execution_count": 106,
      "outputs": []
    },
    {
      "cell_type": "code",
      "metadata": {
        "id": "ISgoa8F92YYK"
      },
      "source": [
        "df['weekly_cycle'] = week_cycle\n",
        "df['weekly_trend'] = week_trend"
      ],
      "execution_count": 107,
      "outputs": []
    },
    {
      "cell_type": "code",
      "metadata": {
        "id": "RRavKSKP2fRx"
      },
      "source": [
        "df['EWMA'] = df['Weekly_Sales'].ewm(alpha=0.5).mean()"
      ],
      "execution_count": 108,
      "outputs": []
    },
    {
      "cell_type": "code",
      "metadata": {
        "colab": {
          "base_uri": "https://localhost:8080/"
        },
        "id": "tcR6YEAM29Sh",
        "outputId": "cff7a999-64bf-43fd-f867-f9a0d15ae3d2"
      },
      "source": [
        "df.columns"
      ],
      "execution_count": 109,
      "outputs": [
        {
          "output_type": "execute_result",
          "data": {
            "text/plain": [
              "Index(['Store', 'Date', 'Type', 'Size', 'Dept', 'Weekly_Sales', 'IsHoliday_x',\n",
              "       'Temperature', 'Fuel_Price', 'CPI', 'Unemployment', 'IsHoliday_y',\n",
              "       'prev_weekly_sales', 'weekly_cycle', 'weekly_trend', 'EWMA'],\n",
              "      dtype='object')"
            ]
          },
          "metadata": {},
          "execution_count": 109
        }
      ]
    },
    {
      "cell_type": "code",
      "metadata": {
        "id": "9sU72aXr3B27"
      },
      "source": [
        "def Load_data_statystical(df): \n",
        "  X = ft.range_of(df)\n",
        "  valid_cut = len(df) - int(len(df)*0.1)\n",
        "  src = ft.TabularPandas(df,\n",
        "                         cont_names=list(['Store','Dept','Temperature', 'Fuel_Price', 'CPI', 'Unemployment', 'Size', 'prev_weekly_sales',\n",
        "        'weekly_cycle', 'weekly_trend', 'EWMA']),\n",
        "                         y_names=['Weekly_Sales'], \n",
        "                        splits = (X[:valid_cut], X[valid_cut:])) \n",
        "  \n",
        "  return src.dataloaders(bs=1024)\n",
        "dls_stats = Load_data_statystical(df)"
      ],
      "execution_count": 121,
      "outputs": []
    },
    {
      "cell_type": "code",
      "metadata": {
        "id": "KlNL3GSF3PJR"
      },
      "source": [
        ""
      ],
      "execution_count": 118,
      "outputs": []
    },
    {
      "cell_type": "code",
      "metadata": {
        "id": "cddBKmGx3aOR"
      },
      "source": [
        "learn_stats = ft.tabular_learner(dls_stats, layers=[128, 128], metrics=[F.l1_loss, RMSE_loss])"
      ],
      "execution_count": 123,
      "outputs": []
    },
    {
      "cell_type": "code",
      "metadata": {
        "colab": {
          "base_uri": "https://localhost:8080/",
          "height": 311
        },
        "id": "-GiSDrRg3dmz",
        "outputId": "46730aad-1906-4a91-96f7-149c8efcba7a"
      },
      "source": [
        "learn_stats.lr_find()"
      ],
      "execution_count": 124,
      "outputs": [
        {
          "output_type": "display_data",
          "data": {
            "text/html": [
              ""
            ],
            "text/plain": [
              "<IPython.core.display.HTML object>"
            ]
          },
          "metadata": {}
        },
        {
          "output_type": "execute_result",
          "data": {
            "text/plain": [
              "SuggestedLRs(valley=0.14454397559165955)"
            ]
          },
          "metadata": {},
          "execution_count": 124
        },
        {
          "output_type": "display_data",
          "data": {
            "image/png": "[encoded data removed]",
            "text/plain": [
              "<Figure size 432x288 with 1 Axes>"
            ]
          },
          "metadata": {
            "needs_background": "light"
          }
        }
      ]
    },
    {
      "cell_type": "code",
      "metadata": {
        "colab": {
          "base_uri": "https://localhost:8080/",
          "height": 266
        },
        "id": "a4UCucw33fXR",
        "outputId": "dc9c2896-296a-4923-cf6b-915551bf7980"
      },
      "source": [
        "learn_stats.fit_one_cycle(7, 0.1445)"
      ],
      "execution_count": 125,
      "outputs": [
        {
          "output_type": "display_data",
          "data": {
            "text/html": [
              "<table border=\"1\" class=\"dataframe\">\n",
              "  <thead>\n",
              "    <tr style=\"text-align: left;\">\n",
              "      <th>epoch</th>\n",
              "      <th>train_loss</th>\n",
              "      <th>valid_loss</th>\n",
              "      <th>l1_loss</th>\n",
              "      <th>RMSE_loss</th>\n",
              "      <th>time</th>\n",
              "    </tr>\n",
              "  </thead>\n",
              "  <tbody>\n",
              "    <tr>\n",
              "      <td>0</td>\n",
              "      <td>85959128.000000</td>\n",
              "      <td>44371968.000000</td>\n",
              "      <td>6236.220703</td>\n",
              "      <td>6606.338379</td>\n",
              "      <td>00:05</td>\n",
              "    </tr>\n",
              "    <tr>\n",
              "      <td>1</td>\n",
              "      <td>5076524.000000</td>\n",
              "      <td>16108869.000000</td>\n",
              "      <td>3981.409912</td>\n",
              "      <td>4012.443359</td>\n",
              "      <td>00:05</td>\n",
              "    </tr>\n",
              "    <tr>\n",
              "      <td>2</td>\n",
              "      <td>5119029.500000</td>\n",
              "      <td>1032996672.000000</td>\n",
              "      <td>31992.648438</td>\n",
              "      <td>32134.367188</td>\n",
              "      <td>00:05</td>\n",
              "    </tr>\n",
              "    <tr>\n",
              "      <td>3</td>\n",
              "      <td>4506147.500000</td>\n",
              "      <td>9029807.000000</td>\n",
              "      <td>2959.957275</td>\n",
              "      <td>3004.469971</td>\n",
              "      <td>00:05</td>\n",
              "    </tr>\n",
              "    <tr>\n",
              "      <td>4</td>\n",
              "      <td>4689587.500000</td>\n",
              "      <td>5025207.000000</td>\n",
              "      <td>2201.787354</td>\n",
              "      <td>2241.115234</td>\n",
              "      <td>00:05</td>\n",
              "    </tr>\n",
              "    <tr>\n",
              "      <td>5</td>\n",
              "      <td>4050969.000000</td>\n",
              "      <td>13389318.000000</td>\n",
              "      <td>3562.696289</td>\n",
              "      <td>3650.583496</td>\n",
              "      <td>00:05</td>\n",
              "    </tr>\n",
              "    <tr>\n",
              "      <td>6</td>\n",
              "      <td>4455423.000000</td>\n",
              "      <td>171519.359375</td>\n",
              "      <td>280.516479</td>\n",
              "      <td>396.172821</td>\n",
              "      <td>00:05</td>\n",
              "    </tr>\n",
              "  </tbody>\n",
              "</table>"
            ],
            "text/plain": [
              "<IPython.core.display.HTML object>"
            ]
          },
          "metadata": {}
        }
      ]
    },
    {
      "cell_type": "markdown",
      "metadata": {
        "id": "GBn0G0upfXhS"
      },
      "source": [
        "# Implementación de RNN"
      ]
    },
    {
      "cell_type": "code",
      "metadata": {
        "colab": {
          "base_uri": "https://localhost:8080/"
        },
        "id": "CBkQ4hfMwkRN",
        "outputId": "45b75542-db04-4a35-855a-ad337541b0d4"
      },
      "source": [
        "df.columns"
      ],
      "execution_count": null,
      "outputs": [
        {
          "output_type": "execute_result",
          "data": {
            "text/plain": [
              "Index(['Store', 'Dept', 'Weekly_Sales', 'IsHoliday_sales', 'Year_sales',\n",
              "       'Month_sales', 'Day_sales', 'Date_sales', 'Temperature', 'Fuel_Price',\n",
              "       'CPI', 'Unemployment', 'IsHoliday_features', 'Year_features',\n",
              "       'Month_features', 'Day_features', 'Date_features', 'Type', 'Size',\n",
              "       'Date', 'ultima_weekly_sales', 'weekly_cycle', 'weekly_trend', 'EWMA'],\n",
              "      dtype='object')"
            ]
          },
          "metadata": {},
          "execution_count": 89
        }
      ]
    },
    {
      "cell_type": "code",
      "metadata": {
        "id": "NQXAxWrIwGe3"
      },
      "source": [
        "T = torch.tensor(df['Weekly_Sales'], dtype=torch.float32)"
      ],
      "execution_count": 126,
      "outputs": []
    },
    {
      "cell_type": "code",
      "metadata": {
        "id": "nmBneH5d30Jf"
      },
      "source": [
        "class KaggleDataset(Dataset):\n",
        "  def __init__(self, T, max_window = 60):\n",
        "    self.T = T \n",
        "    self.max_window = max_window \n",
        "    \n",
        "\n",
        "  def __len__(self):\n",
        "    return len(self.T)\n",
        "\n",
        "  def __getitem__(self, i): \n",
        "    d = i-self.max_window \n",
        "    first = max(0,d)\n",
        "\n",
        "    padding = -torch.ones((max(0, -d),))\n",
        "    x = torch.cat((padding, self.T[first:i]), dim=0)\n",
        "    y = self.T[i] \n",
        "\n",
        "    return x, y"
      ],
      "execution_count": 127,
      "outputs": []
    },
    {
      "cell_type": "markdown",
      "metadata": {
        "id": "_GXCOEgjqo4M"
      },
      "source": [
        "# Modelo"
      ]
    },
    {
      "cell_type": "code",
      "metadata": {
        "id": "9rsnNEUPqiaA"
      },
      "source": [
        "class SimpleRNN(nn.Module):\n",
        "  def __init__(self, hidden_size, num_layers):\n",
        "    super().__init__()\n",
        "    \n",
        "    self.rnn = nn.RNN(input_size=1, hidden_size=hidden_size, num_layers=num_layers, batch_first=True)\n",
        "    self.linear = nn.Linear(hidden_size, 1)\n",
        "\n",
        "  def forward(self, x): \n",
        "    y, h_n = self.rnn(x[:, :, None]) \n",
        "    y = y[:, -1, :] \n",
        "    return self.linear(y).squeeze()"
      ],
      "execution_count": 128,
      "outputs": []
    },
    {
      "cell_type": "code",
      "metadata": {
        "id": "uzakXMi_qtDI"
      },
      "source": [
        "model = SimpleRNN(64, 2)"
      ],
      "execution_count": 129,
      "outputs": []
    },
    {
      "cell_type": "markdown",
      "metadata": {
        "id": "b4tpOgrgq1GV"
      },
      "source": [
        "# Manual (con pytorch)"
      ]
    },
    {
      "cell_type": "code",
      "metadata": {
        "id": "KY9QtdnKqxPa"
      },
      "source": [
        "def RMSE_error(yp, y):\n",
        "  w = (yp-y)\n",
        "  return torch.sqrt((w*w).mean())"
      ],
      "execution_count": 130,
      "outputs": []
    },
    {
      "cell_type": "code",
      "metadata": {
        "id": "PksY7JmXssKZ"
      },
      "source": [
        "train_ds = KaggleDataset(T[:len(df)-5000], max_window=40)\n",
        "valid_ds = KaggleDataset(T[len(df)-5000:], max_window=40)"
      ],
      "execution_count": 131,
      "outputs": []
    },
    {
      "cell_type": "code",
      "metadata": {
        "id": "YZlvgeboxcKN"
      },
      "source": [
        "train_dl = DataLoader(train_ds, batch_size=256, shuffle=True)\n",
        "valid_dl = DataLoader(valid_ds, batch_size=256)"
      ],
      "execution_count": 132,
      "outputs": []
    },
    {
      "cell_type": "code",
      "metadata": {
        "id": "nim52G2UxCpI"
      },
      "source": [
        "from torch import optim \n",
        "from fastprogress.fastprogress import progress_bar\n",
        "\n",
        "optimizer = optim.Adam(model.parameters(), lr=1e-3)\n",
        "epochs = 5"
      ],
      "execution_count": 133,
      "outputs": []
    },
    {
      "cell_type": "code",
      "metadata": {
        "colab": {
          "base_uri": "https://localhost:8080/",
          "height": 37
        },
        "id": "JWQ4p5FYxJ0G",
        "outputId": "1b917270-ed08-481c-a9e4-0fb455df3d6f"
      },
      "source": [
        "pb = progress_bar(range(epochs))\n",
        "for epoch in pb: \n",
        "  for x, y in train_dl: \n",
        "    optimizer.zero_grad()\n",
        "    yp = model(x)\n",
        "    loss = F.mse_loss(yp, y)\n",
        "    loss.backward()\n",
        "    optimizer.step()\n",
        "    pb.comment = f'loss: {loss.item():.3f}'"
      ],
      "execution_count": 134,
      "outputs": [
        {
          "output_type": "display_data",
          "data": {
            "text/html": [
              "\n",
              "    <div>\n",
              "        <style>\n",
              "            /* Turns off some styling */\n",
              "            progress {\n",
              "                /* gets rid of default border in Firefox and Opera. */\n",
              "                border: none;\n",
              "                /* Needs to be in here for Safari polyfill so background images work as expected. */\n",
              "                background-size: auto;\n",
              "            }\n",
              "            .progress-bar-interrupted, .progress-bar-interrupted::-webkit-progress-bar {\n",
              "                background: #F44336;\n",
              "            }\n",
              "        </style>\n",
              "      <progress value='5' class='' max='5' style='width:300px; height:20px; vertical-align: middle;'></progress>\n",
              "      100.00% [5/5 10:59<00:00 loss: 844690944.000]\n",
              "    </div>\n",
              "    "
            ],
            "text/plain": [
              "<IPython.core.display.HTML object>"
            ]
          },
          "metadata": {}
        }
      ]
    },
    {
      "cell_type": "markdown",
      "metadata": {
        "id": "0SKM182Jxgw1"
      },
      "source": [
        "Validation"
      ]
    },
    {
      "cell_type": "code",
      "metadata": {
        "id": "lrTG7EV5xeQk"
      },
      "source": [
        "model.eval()\n",
        "rmse_total = 0\n",
        "for x, y in valid_dl:\n",
        "  yp = model(x)\n",
        "  rmse_total += RMSE_error(yp, y)"
      ],
      "execution_count": 136,
      "outputs": []
    },
    {
      "cell_type": "code",
      "metadata": {
        "colab": {
          "base_uri": "https://localhost:8080/"
        },
        "id": "2n6lkqTt5PV-",
        "outputId": "ea5b210c-d2e2-4b80-9a14-3ac828a6752f"
      },
      "source": [
        "print(f'RMSE: {rmse_total/len(valid_dl)}')"
      ],
      "execution_count": 137,
      "outputs": [
        {
          "output_type": "stream",
          "name": "stdout",
          "text": [
            "RMSE: 17743.95703125\n"
          ]
        }
      ]
    },
    {
      "cell_type": "markdown",
      "metadata": {
        "id": "YX1mu7GV5RBo"
      },
      "source": [
        "# Con Fastai"
      ]
    },
    {
      "cell_type": "code",
      "metadata": {
        "id": "Cp4dzusK5Srp"
      },
      "source": [
        "model = SimpleRNN(64, 2)"
      ],
      "execution_count": 138,
      "outputs": []
    },
    {
      "cell_type": "code",
      "metadata": {
        "id": "rUM23PVZXjYT"
      },
      "source": [
        "dls = ft.DataLoaders.from_dsets(train_ds, valid_ds, bs=256)"
      ],
      "execution_count": 139,
      "outputs": []
    },
    {
      "cell_type": "code",
      "metadata": {
        "id": "7opJkMe0Xj9n"
      },
      "source": [
        "learn = ft.Learner(dls, model, opt_func=ft.ranger, loss_func=F.smooth_l1_loss, metrics=[F.l1_loss, RMSE_error])"
      ],
      "execution_count": 141,
      "outputs": []
    },
    {
      "cell_type": "code",
      "metadata": {
        "colab": {
          "base_uri": "https://localhost:8080/",
          "height": 80
        },
        "id": "nLZmQkcAXnOl",
        "outputId": "41752301-105d-4cf5-8664-8e02a804fc4a"
      },
      "source": [
        "learn.fit_one_cycle(1)"
      ],
      "execution_count": 142,
      "outputs": [
        {
          "output_type": "display_data",
          "data": {
            "text/html": [
              "<table border=\"1\" class=\"dataframe\">\n",
              "  <thead>\n",
              "    <tr style=\"text-align: left;\">\n",
              "      <th>epoch</th>\n",
              "      <th>train_loss</th>\n",
              "      <th>valid_loss</th>\n",
              "      <th>l1_loss</th>\n",
              "      <th>RMSE_error</th>\n",
              "      <th>time</th>\n",
              "    </tr>\n",
              "  </thead>\n",
              "  <tbody>\n",
              "    <tr>\n",
              "      <td>0</td>\n",
              "      <td>15976.220703</td>\n",
              "      <td>11574.095703</td>\n",
              "      <td>11574.595703</td>\n",
              "      <td>18077.691406</td>\n",
              "      <td>03:16</td>\n",
              "    </tr>\n",
              "  </tbody>\n",
              "</table>"
            ],
            "text/plain": [
              "<IPython.core.display.HTML object>"
            ]
          },
          "metadata": {}
        }
      ]
    },
    {
      "cell_type": "code",
      "metadata": {
        "colab": {
          "base_uri": "https://localhost:8080/",
          "height": 204
        },
        "id": "hvLeo3NYa4T_",
        "outputId": "6103ed2e-95af-48fe-a852-48d365634427"
      },
      "source": [
        "learn.fit_one_cycle(5)"
      ],
      "execution_count": 143,
      "outputs": [
        {
          "output_type": "display_data",
          "data": {
            "text/html": [
              "<table border=\"1\" class=\"dataframe\">\n",
              "  <thead>\n",
              "    <tr style=\"text-align: left;\">\n",
              "      <th>epoch</th>\n",
              "      <th>train_loss</th>\n",
              "      <th>valid_loss</th>\n",
              "      <th>l1_loss</th>\n",
              "      <th>RMSE_error</th>\n",
              "      <th>time</th>\n",
              "    </tr>\n",
              "  </thead>\n",
              "  <tbody>\n",
              "    <tr>\n",
              "      <td>0</td>\n",
              "      <td>16076.845703</td>\n",
              "      <td>11553.590820</td>\n",
              "      <td>11554.090820</td>\n",
              "      <td>18063.962891</td>\n",
              "      <td>02:27</td>\n",
              "    </tr>\n",
              "    <tr>\n",
              "      <td>1</td>\n",
              "      <td>16168.658203</td>\n",
              "      <td>11505.978516</td>\n",
              "      <td>11506.478516</td>\n",
              "      <td>18031.708984</td>\n",
              "      <td>01:28</td>\n",
              "    </tr>\n",
              "    <tr>\n",
              "      <td>2</td>\n",
              "      <td>15906.270508</td>\n",
              "      <td>11470.388672</td>\n",
              "      <td>11470.888672</td>\n",
              "      <td>18007.175781</td>\n",
              "      <td>01:39</td>\n",
              "    </tr>\n",
              "    <tr>\n",
              "      <td>3</td>\n",
              "      <td>15841.543945</td>\n",
              "      <td>11453.866211</td>\n",
              "      <td>11454.366211</td>\n",
              "      <td>17995.687500</td>\n",
              "      <td>01:42</td>\n",
              "    </tr>\n",
              "    <tr>\n",
              "      <td>4</td>\n",
              "      <td>15960.553711</td>\n",
              "      <td>11451.231445</td>\n",
              "      <td>11451.731445</td>\n",
              "      <td>17993.851562</td>\n",
              "      <td>01:26</td>\n",
              "    </tr>\n",
              "  </tbody>\n",
              "</table>"
            ],
            "text/plain": [
              "<IPython.core.display.HTML object>"
            ]
          },
          "metadata": {}
        }
      ]
    },
    {
      "cell_type": "code",
      "metadata": {
        "id": "SzsR2Cw-brSI"
      },
      "source": [
        ""
      ],
      "execution_count": null,
      "outputs": []
    }
  ]
}