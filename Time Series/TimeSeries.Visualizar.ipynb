{
  "nbformat": 4,
  "nbformat_minor": 0,
  "metadata": {
    "kernelspec": {
      "display_name": "Python 3",
      "language": "python",
      "name": "python3"
    },
    "language_info": {
      "codemirror_mode": {
        "name": "ipython",
        "version": 3
      },
      "file_extension": ".py",
      "mimetype": "text/x-python",
      "name": "python",
      "nbconvert_exporter": "python",
      "pygments_lexer": "ipython3",
      "version": "3.8.6"
    },
    "colab": {
      "name": "TimeSeries_H1Visualizar.ipynb",
      "provenance": []
    }
  },
  "cells": [
    {
      "cell_type": "code",
      "metadata": {
        "id": "nwdzgUWmeyJV"
      },
      "source": [
        "import numpy as np \n",
        "import pandas as pd\n",
        "from datetime import datetime\n",
        "import matplotlib\n",
        "import matplotlib.pyplot as plt\n",
        "import seaborn as sns"
      ],
      "execution_count": 1,
      "outputs": []
    },
    {
      "cell_type": "code",
      "metadata": {
        "colab": {
          "base_uri": "https://localhost:8080/",
          "height": 235
        },
        "id": "Z_hpG-dbeyJf",
        "outputId": "24868edb-f3ef-444f-d0a1-1a7302518115"
      },
      "source": [
        "df = pd.read_csv('2015-2018-historical-daily-attendance-by-school-1.csv', index_col='Date', parse_dates=True)\n",
        "df.head()"
      ],
      "execution_count": 2,
      "outputs": [
        {
          "output_type": "execute_result",
          "data": {
            "text/html": [
              "<div>\n",
              "<style scoped>\n",
              "    .dataframe tbody tr th:only-of-type {\n",
              "        vertical-align: middle;\n",
              "    }\n",
              "\n",
              "    .dataframe tbody tr th {\n",
              "        vertical-align: top;\n",
              "    }\n",
              "\n",
              "    .dataframe thead th {\n",
              "        text-align: right;\n",
              "    }\n",
              "</style>\n",
              "<table border=\"1\" class=\"dataframe\">\n",
              "  <thead>\n",
              "    <tr style=\"text-align: right;\">\n",
              "      <th></th>\n",
              "      <th>School</th>\n",
              "      <th>SchoolYear</th>\n",
              "      <th>Enrolled</th>\n",
              "      <th>Present</th>\n",
              "      <th>Absent</th>\n",
              "      <th>Released</th>\n",
              "    </tr>\n",
              "    <tr>\n",
              "      <th>Date</th>\n",
              "      <th></th>\n",
              "      <th></th>\n",
              "      <th></th>\n",
              "      <th></th>\n",
              "      <th></th>\n",
              "      <th></th>\n",
              "    </tr>\n",
              "  </thead>\n",
              "  <tbody>\n",
              "    <tr>\n",
              "      <th>2016-01-04</th>\n",
              "      <td>01M015</td>\n",
              "      <td>20152016</td>\n",
              "      <td>168</td>\n",
              "      <td>157</td>\n",
              "      <td>11</td>\n",
              "      <td>0</td>\n",
              "    </tr>\n",
              "    <tr>\n",
              "      <th>2016-01-05</th>\n",
              "      <td>01M015</td>\n",
              "      <td>20152016</td>\n",
              "      <td>168</td>\n",
              "      <td>153</td>\n",
              "      <td>15</td>\n",
              "      <td>0</td>\n",
              "    </tr>\n",
              "    <tr>\n",
              "      <th>2016-01-06</th>\n",
              "      <td>01M015</td>\n",
              "      <td>20152016</td>\n",
              "      <td>168</td>\n",
              "      <td>163</td>\n",
              "      <td>5</td>\n",
              "      <td>0</td>\n",
              "    </tr>\n",
              "    <tr>\n",
              "      <th>2016-01-07</th>\n",
              "      <td>01M015</td>\n",
              "      <td>20152016</td>\n",
              "      <td>168</td>\n",
              "      <td>154</td>\n",
              "      <td>14</td>\n",
              "      <td>0</td>\n",
              "    </tr>\n",
              "    <tr>\n",
              "      <th>2016-01-08</th>\n",
              "      <td>01M015</td>\n",
              "      <td>20152016</td>\n",
              "      <td>168</td>\n",
              "      <td>158</td>\n",
              "      <td>10</td>\n",
              "      <td>0</td>\n",
              "    </tr>\n",
              "  </tbody>\n",
              "</table>\n",
              "</div>"
            ],
            "text/plain": [
              "            School  SchoolYear  Enrolled  Present  Absent  Released\n",
              "Date                                                               \n",
              "2016-01-04  01M015    20152016       168      157      11         0\n",
              "2016-01-05  01M015    20152016       168      153      15         0\n",
              "2016-01-06  01M015    20152016       168      163       5         0\n",
              "2016-01-07  01M015    20152016       168      154      14         0\n",
              "2016-01-08  01M015    20152016       168      158      10         0"
            ]
          },
          "metadata": {},
          "execution_count": 2
        }
      ]
    },
    {
      "cell_type": "code",
      "metadata": {
        "colab": {
          "base_uri": "https://localhost:8080/"
        },
        "id": "rt8qDi7jgfLG",
        "outputId": "bf26757e-4d20-4da4-e061-2a2c9bed4c82"
      },
      "source": [
        "df.isnull().values.any() "
      ],
      "execution_count": 3,
      "outputs": [
        {
          "output_type": "execute_result",
          "data": {
            "text/plain": [
              "False"
            ]
          },
          "metadata": {},
          "execution_count": 3
        }
      ]
    },
    {
      "cell_type": "markdown",
      "metadata": {
        "id": "nSgnc8g_eyJO"
      },
      "source": [
        "## Está separado por escuela. Si quieremos ver el promedio \"global\", ¿cómo lo juntamos? (hint: groupby)"
      ]
    },
    {
      "cell_type": "code",
      "metadata": {
        "colab": {
          "base_uri": "https://localhost:8080/",
          "height": 569
        },
        "id": "eo9wz6izeyJ3",
        "outputId": "e2936989-3e5b-4135-e894-9b908686bdfb"
      },
      "source": [
        "school = df.groupby(\"School\").mean()\n",
        "display (school)\n",
        "print('\\nMean of columns:\\n')\n",
        "for col in school.columns[1:]:\n",
        "  print(\"{0}: {1}\".format(col, school[col].mean()))"
      ],
      "execution_count": 4,
      "outputs": [
        {
          "output_type": "display_data",
          "data": {
            "text/html": [
              "<div>\n",
              "<style scoped>\n",
              "    .dataframe tbody tr th:only-of-type {\n",
              "        vertical-align: middle;\n",
              "    }\n",
              "\n",
              "    .dataframe tbody tr th {\n",
              "        vertical-align: top;\n",
              "    }\n",
              "\n",
              "    .dataframe thead th {\n",
              "        text-align: right;\n",
              "    }\n",
              "</style>\n",
              "<table border=\"1\" class=\"dataframe\">\n",
              "  <thead>\n",
              "    <tr style=\"text-align: right;\">\n",
              "      <th></th>\n",
              "      <th>SchoolYear</th>\n",
              "      <th>Enrolled</th>\n",
              "      <th>Present</th>\n",
              "      <th>Absent</th>\n",
              "      <th>Released</th>\n",
              "    </tr>\n",
              "    <tr>\n",
              "      <th>School</th>\n",
              "      <th></th>\n",
              "      <th></th>\n",
              "      <th></th>\n",
              "      <th></th>\n",
              "      <th></th>\n",
              "    </tr>\n",
              "  </thead>\n",
              "  <tbody>\n",
              "    <tr>\n",
              "      <th>01M015</th>\n",
              "      <td>2.016202e+07</td>\n",
              "      <td>176.281955</td>\n",
              "      <td>164.590226</td>\n",
              "      <td>11.546992</td>\n",
              "      <td>0.144737</td>\n",
              "    </tr>\n",
              "    <tr>\n",
              "      <th>01M019</th>\n",
              "      <td>2.016202e+07</td>\n",
              "      <td>266.744361</td>\n",
              "      <td>242.631579</td>\n",
              "      <td>23.941729</td>\n",
              "      <td>0.171053</td>\n",
              "    </tr>\n",
              "    <tr>\n",
              "      <th>01M020</th>\n",
              "      <td>2.016202e+07</td>\n",
              "      <td>535.383459</td>\n",
              "      <td>497.968045</td>\n",
              "      <td>37.069549</td>\n",
              "      <td>0.345865</td>\n",
              "    </tr>\n",
              "    <tr>\n",
              "      <th>01M034</th>\n",
              "      <td>2.016202e+07</td>\n",
              "      <td>358.934211</td>\n",
              "      <td>325.776316</td>\n",
              "      <td>33.033835</td>\n",
              "      <td>0.124060</td>\n",
              "    </tr>\n",
              "    <tr>\n",
              "      <th>01M063</th>\n",
              "      <td>2.016202e+07</td>\n",
              "      <td>202.065789</td>\n",
              "      <td>187.291353</td>\n",
              "      <td>14.503759</td>\n",
              "      <td>0.270677</td>\n",
              "    </tr>\n",
              "    <tr>\n",
              "      <th>...</th>\n",
              "      <td>...</td>\n",
              "      <td>...</td>\n",
              "      <td>...</td>\n",
              "      <td>...</td>\n",
              "      <td>...</td>\n",
              "    </tr>\n",
              "    <tr>\n",
              "      <th>75X754</th>\n",
              "      <td>2.016200e+07</td>\n",
              "      <td>483.953184</td>\n",
              "      <td>278.960674</td>\n",
              "      <td>190.222846</td>\n",
              "      <td>14.769663</td>\n",
              "    </tr>\n",
              "    <tr>\n",
              "      <th>75X811</th>\n",
              "      <td>2.016202e+07</td>\n",
              "      <td>632.620561</td>\n",
              "      <td>524.000000</td>\n",
              "      <td>101.557009</td>\n",
              "      <td>7.063551</td>\n",
              "    </tr>\n",
              "    <tr>\n",
              "      <th>79M331</th>\n",
              "      <td>2.017202e+07</td>\n",
              "      <td>11.228395</td>\n",
              "      <td>6.006173</td>\n",
              "      <td>5.222222</td>\n",
              "      <td>0.000000</td>\n",
              "    </tr>\n",
              "    <tr>\n",
              "      <th>79Q344</th>\n",
              "      <td>2.016200e+07</td>\n",
              "      <td>423.338403</td>\n",
              "      <td>198.539924</td>\n",
              "      <td>202.024715</td>\n",
              "      <td>22.773764</td>\n",
              "    </tr>\n",
              "    <tr>\n",
              "      <th>79X695</th>\n",
              "      <td>2.016204e+07</td>\n",
              "      <td>244.290262</td>\n",
              "      <td>189.460674</td>\n",
              "      <td>43.709738</td>\n",
              "      <td>11.119850</td>\n",
              "    </tr>\n",
              "  </tbody>\n",
              "</table>\n",
              "<p>1649 rows × 5 columns</p>\n",
              "</div>"
            ],
            "text/plain": [
              "          SchoolYear    Enrolled     Present      Absent   Released\n",
              "School                                                             \n",
              "01M015  2.016202e+07  176.281955  164.590226   11.546992   0.144737\n",
              "01M019  2.016202e+07  266.744361  242.631579   23.941729   0.171053\n",
              "01M020  2.016202e+07  535.383459  497.968045   37.069549   0.345865\n",
              "01M034  2.016202e+07  358.934211  325.776316   33.033835   0.124060\n",
              "01M063  2.016202e+07  202.065789  187.291353   14.503759   0.270677\n",
              "...              ...         ...         ...         ...        ...\n",
              "75X754  2.016200e+07  483.953184  278.960674  190.222846  14.769663\n",
              "75X811  2.016202e+07  632.620561  524.000000  101.557009   7.063551\n",
              "79M331  2.017202e+07   11.228395    6.006173    5.222222   0.000000\n",
              "79Q344  2.016200e+07  423.338403  198.539924  202.024715  22.773764\n",
              "79X695  2.016204e+07  244.290262  189.460674   43.709738  11.119850\n",
              "\n",
              "[1649 rows x 5 columns]"
            ]
          },
          "metadata": {}
        },
        {
          "output_type": "stream",
          "name": "stdout",
          "text": [
            "\n",
            "Mean of columns:\n",
            "\n",
            "Enrolled: 590.5119841739635\n",
            "Present: 537.39122923733\n",
            "Absent: 50.520626440551894\n",
            "Released: 2.6001284960806164\n"
          ]
        }
      ]
    },
    {
      "cell_type": "markdown",
      "metadata": {
        "id": "k-j8RlJo0sgw"
      },
      "source": [
        "## Crea columnas de porcentajes. Si faltaron 10 de 20 es muy diferente que si faltaron 10 de 10000."
      ]
    },
    {
      "cell_type": "code",
      "metadata": {
        "colab": {
          "base_uri": "https://localhost:8080/",
          "height": 450
        },
        "id": "58h3TDzu0sOb",
        "outputId": "a085c2ea-937f-4c87-dbf1-578339d5c17e"
      },
      "source": [
        "df['Percentage'] = (df['Present']/df['Enrolled'])*100\n",
        "df"
      ],
      "execution_count": 11,
      "outputs": [
        {
          "output_type": "execute_result",
          "data": {
            "text/html": [
              "<div>\n",
              "<style scoped>\n",
              "    .dataframe tbody tr th:only-of-type {\n",
              "        vertical-align: middle;\n",
              "    }\n",
              "\n",
              "    .dataframe tbody tr th {\n",
              "        vertical-align: top;\n",
              "    }\n",
              "\n",
              "    .dataframe thead th {\n",
              "        text-align: right;\n",
              "    }\n",
              "</style>\n",
              "<table border=\"1\" class=\"dataframe\">\n",
              "  <thead>\n",
              "    <tr style=\"text-align: right;\">\n",
              "      <th></th>\n",
              "      <th>School</th>\n",
              "      <th>SchoolYear</th>\n",
              "      <th>Enrolled</th>\n",
              "      <th>Present</th>\n",
              "      <th>Absent</th>\n",
              "      <th>Released</th>\n",
              "      <th>Percentage</th>\n",
              "    </tr>\n",
              "    <tr>\n",
              "      <th>Date</th>\n",
              "      <th></th>\n",
              "      <th></th>\n",
              "      <th></th>\n",
              "      <th></th>\n",
              "      <th></th>\n",
              "      <th></th>\n",
              "      <th></th>\n",
              "    </tr>\n",
              "  </thead>\n",
              "  <tbody>\n",
              "    <tr>\n",
              "      <th>2016-01-04</th>\n",
              "      <td>01M015</td>\n",
              "      <td>20152016</td>\n",
              "      <td>168</td>\n",
              "      <td>157</td>\n",
              "      <td>11</td>\n",
              "      <td>0</td>\n",
              "      <td>93.452381</td>\n",
              "    </tr>\n",
              "    <tr>\n",
              "      <th>2016-01-05</th>\n",
              "      <td>01M015</td>\n",
              "      <td>20152016</td>\n",
              "      <td>168</td>\n",
              "      <td>153</td>\n",
              "      <td>15</td>\n",
              "      <td>0</td>\n",
              "      <td>91.071429</td>\n",
              "    </tr>\n",
              "    <tr>\n",
              "      <th>2016-01-06</th>\n",
              "      <td>01M015</td>\n",
              "      <td>20152016</td>\n",
              "      <td>168</td>\n",
              "      <td>163</td>\n",
              "      <td>5</td>\n",
              "      <td>0</td>\n",
              "      <td>97.023810</td>\n",
              "    </tr>\n",
              "    <tr>\n",
              "      <th>2016-01-07</th>\n",
              "      <td>01M015</td>\n",
              "      <td>20152016</td>\n",
              "      <td>168</td>\n",
              "      <td>154</td>\n",
              "      <td>14</td>\n",
              "      <td>0</td>\n",
              "      <td>91.666667</td>\n",
              "    </tr>\n",
              "    <tr>\n",
              "      <th>2016-01-08</th>\n",
              "      <td>01M015</td>\n",
              "      <td>20152016</td>\n",
              "      <td>168</td>\n",
              "      <td>158</td>\n",
              "      <td>10</td>\n",
              "      <td>0</td>\n",
              "      <td>94.047619</td>\n",
              "    </tr>\n",
              "    <tr>\n",
              "      <th>...</th>\n",
              "      <td>...</td>\n",
              "      <td>...</td>\n",
              "      <td>...</td>\n",
              "      <td>...</td>\n",
              "      <td>...</td>\n",
              "      <td>...</td>\n",
              "      <td>...</td>\n",
              "    </tr>\n",
              "    <tr>\n",
              "      <th>2017-12-18</th>\n",
              "      <td>79X695</td>\n",
              "      <td>20172018</td>\n",
              "      <td>218</td>\n",
              "      <td>169</td>\n",
              "      <td>49</td>\n",
              "      <td>0</td>\n",
              "      <td>77.522936</td>\n",
              "    </tr>\n",
              "    <tr>\n",
              "      <th>2017-12-19</th>\n",
              "      <td>79X695</td>\n",
              "      <td>20172018</td>\n",
              "      <td>216</td>\n",
              "      <td>172</td>\n",
              "      <td>44</td>\n",
              "      <td>0</td>\n",
              "      <td>79.629630</td>\n",
              "    </tr>\n",
              "    <tr>\n",
              "      <th>2017-12-20</th>\n",
              "      <td>79X695</td>\n",
              "      <td>20172018</td>\n",
              "      <td>216</td>\n",
              "      <td>177</td>\n",
              "      <td>39</td>\n",
              "      <td>0</td>\n",
              "      <td>81.944444</td>\n",
              "    </tr>\n",
              "    <tr>\n",
              "      <th>2017-12-21</th>\n",
              "      <td>79X695</td>\n",
              "      <td>20172018</td>\n",
              "      <td>216</td>\n",
              "      <td>168</td>\n",
              "      <td>48</td>\n",
              "      <td>0</td>\n",
              "      <td>77.777778</td>\n",
              "    </tr>\n",
              "    <tr>\n",
              "      <th>2017-12-22</th>\n",
              "      <td>79X695</td>\n",
              "      <td>20172018</td>\n",
              "      <td>210</td>\n",
              "      <td>171</td>\n",
              "      <td>39</td>\n",
              "      <td>0</td>\n",
              "      <td>81.428571</td>\n",
              "    </tr>\n",
              "  </tbody>\n",
              "</table>\n",
              "<p>843133 rows × 7 columns</p>\n",
              "</div>"
            ],
            "text/plain": [
              "            School  SchoolYear  Enrolled  Present  Absent  Released  Percentage\n",
              "Date                                                                           \n",
              "2016-01-04  01M015    20152016       168      157      11         0   93.452381\n",
              "2016-01-05  01M015    20152016       168      153      15         0   91.071429\n",
              "2016-01-06  01M015    20152016       168      163       5         0   97.023810\n",
              "2016-01-07  01M015    20152016       168      154      14         0   91.666667\n",
              "2016-01-08  01M015    20152016       168      158      10         0   94.047619\n",
              "...            ...         ...       ...      ...     ...       ...         ...\n",
              "2017-12-18  79X695    20172018       218      169      49         0   77.522936\n",
              "2017-12-19  79X695    20172018       216      172      44         0   79.629630\n",
              "2017-12-20  79X695    20172018       216      177      39         0   81.944444\n",
              "2017-12-21  79X695    20172018       216      168      48         0   77.777778\n",
              "2017-12-22  79X695    20172018       210      171      39         0   81.428571\n",
              "\n",
              "[843133 rows x 7 columns]"
            ]
          },
          "metadata": {},
          "execution_count": 11
        }
      ]
    },
    {
      "cell_type": "markdown",
      "metadata": {
        "id": "ksb366t_eyKR"
      },
      "source": [
        "\n",
        "## Visualiza cada variable\n"
      ]
    },
    {
      "cell_type": "code",
      "metadata": {
        "id": "nQ07NfUneyKR",
        "colab": {
          "base_uri": "https://localhost:8080/",
          "height": 313
        },
        "outputId": "6a909906-8dfe-49e1-8d84-c10c288ac6d2"
      },
      "source": [
        "print(\"Annual global data\")\n",
        "df[[\"Enrolled\"]].groupby(df.index.year).mean().plot.line()"
      ],
      "execution_count": 17,
      "outputs": [
        {
          "output_type": "stream",
          "name": "stdout",
          "text": [
            "Annual global data\n"
          ]
        },
        {
          "output_type": "execute_result",
          "data": {
            "text/plain": [
              "<matplotlib.axes._subplots.AxesSubplot at 0x7fed42abe890>"
            ]
          },
          "metadata": {},
          "execution_count": 17
        },
        {
          "output_type": "display_data",
          "data": {
            "image/png": "[encoded data removed]",
            "text/plain": [
              "<Figure size 432x288 with 1 Axes>"
            ]
          },
          "metadata": {
            "needs_background": "light"
          }
        }
      ]
    },
    {
      "cell_type": "code",
      "metadata": {
        "id": "xD-PsKiQeyKR",
        "colab": {
          "base_uri": "https://localhost:8080/",
          "height": 313
        },
        "outputId": "bce6c1d5-1034-43e1-c557-7945e0036368"
      },
      "source": [
        "print(\"Monthly global data\")\n",
        "df['Enrolled'].groupby(df.index.month).mean().plot.line()"
      ],
      "execution_count": 16,
      "outputs": [
        {
          "output_type": "stream",
          "name": "stdout",
          "text": [
            "Monthly global data\n"
          ]
        },
        {
          "output_type": "execute_result",
          "data": {
            "text/plain": [
              "<matplotlib.axes._subplots.AxesSubplot at 0x7fed431ce550>"
            ]
          },
          "metadata": {},
          "execution_count": 16
        },
        {
          "output_type": "display_data",
          "data": {
            "image/png": "[encoded data removed]",
            "text/plain": [
              "<Figure size 432x288 with 1 Axes>"
            ]
          },
          "metadata": {
            "needs_background": "light"
          }
        }
      ]
    },
    {
      "cell_type": "markdown",
      "metadata": {
        "id": "-WS2se0x4Oqa"
      },
      "source": [
        "Annual global data. Present vs Ausent"
      ]
    },
    {
      "cell_type": "code",
      "metadata": {
        "id": "Z2-pNGkQeyKS",
        "colab": {
          "base_uri": "https://localhost:8080/",
          "height": 296
        },
        "outputId": "a089633a-3e39-43d3-ff09-85a7aea68660"
      },
      "source": [
        "df[['Present']].groupby(df.index.year).mean().plot()"
      ],
      "execution_count": 31,
      "outputs": [
        {
          "output_type": "execute_result",
          "data": {
            "text/plain": [
              "<matplotlib.axes._subplots.AxesSubplot at 0x7fed4270d510>"
            ]
          },
          "metadata": {},
          "execution_count": 31
        },
        {
          "output_type": "display_data",
          "data": {
            "image/png": "[encoded data removed]",
            "text/plain": [
              "<Figure size 432x288 with 1 Axes>"
            ]
          },
          "metadata": {
            "needs_background": "light"
          }
        }
      ]
    },
    {
      "cell_type": "code",
      "metadata": {
        "id": "tiBRovFReyKT",
        "colab": {
          "base_uri": "https://localhost:8080/",
          "height": 296
        },
        "outputId": "82212b69-b972-4495-da62-67d356845e19"
      },
      "source": [
        "df[['Absent']].groupby(df.index.year).mean().plot()"
      ],
      "execution_count": 32,
      "outputs": [
        {
          "output_type": "execute_result",
          "data": {
            "text/plain": [
              "<matplotlib.axes._subplots.AxesSubplot at 0x7fed4293a910>"
            ]
          },
          "metadata": {},
          "execution_count": 32
        },
        {
          "output_type": "display_data",
          "data": {
            "image/png": "[encoded data removed]",
            "text/plain": [
              "<Figure size 432x288 with 1 Axes>"
            ]
          },
          "metadata": {
            "needs_background": "light"
          }
        }
      ]
    },
    {
      "cell_type": "markdown",
      "metadata": {
        "id": "JyfNgNu6eyKU"
      },
      "source": [
        "<a id=\"4\"><h3>\n",
        "- Visualiza las parejas de variables. Usa scatter para ver relaciones. hex plots?\n",
        "</h3></a>"
      ]
    },
    {
      "cell_type": "code",
      "metadata": {
        "id": "DDNhcFh4eyKU",
        "colab": {
          "base_uri": "https://localhost:8080/",
          "height": 235
        },
        "outputId": "92d8f91a-881f-45d6-9088-d14fc6f91f9b"
      },
      "source": [
        "df_corr = df.corr()\n",
        "df_corr"
      ],
      "execution_count": 35,
      "outputs": [
        {
          "output_type": "execute_result",
          "data": {
            "text/html": [
              "<div>\n",
              "<style scoped>\n",
              "    .dataframe tbody tr th:only-of-type {\n",
              "        vertical-align: middle;\n",
              "    }\n",
              "\n",
              "    .dataframe tbody tr th {\n",
              "        vertical-align: top;\n",
              "    }\n",
              "\n",
              "    .dataframe thead th {\n",
              "        text-align: right;\n",
              "    }\n",
              "</style>\n",
              "<table border=\"1\" class=\"dataframe\">\n",
              "  <thead>\n",
              "    <tr style=\"text-align: right;\">\n",
              "      <th></th>\n",
              "      <th>SchoolYear</th>\n",
              "      <th>Enrolled</th>\n",
              "      <th>Present</th>\n",
              "      <th>Absent</th>\n",
              "      <th>Released</th>\n",
              "      <th>Percentage</th>\n",
              "    </tr>\n",
              "  </thead>\n",
              "  <tbody>\n",
              "    <tr>\n",
              "      <th>SchoolYear</th>\n",
              "      <td>1.000000</td>\n",
              "      <td>-0.003342</td>\n",
              "      <td>-0.005629</td>\n",
              "      <td>0.016644</td>\n",
              "      <td>-0.001931</td>\n",
              "      <td>-0.022039</td>\n",
              "    </tr>\n",
              "    <tr>\n",
              "      <th>Enrolled</th>\n",
              "      <td>-0.003342</td>\n",
              "      <td>1.000000</td>\n",
              "      <td>0.991840</td>\n",
              "      <td>0.540501</td>\n",
              "      <td>0.008282</td>\n",
              "      <td>0.189396</td>\n",
              "    </tr>\n",
              "    <tr>\n",
              "      <th>Present</th>\n",
              "      <td>-0.005629</td>\n",
              "      <td>0.991840</td>\n",
              "      <td>1.000000</td>\n",
              "      <td>0.443876</td>\n",
              "      <td>-0.054243</td>\n",
              "      <td>0.278203</td>\n",
              "    </tr>\n",
              "    <tr>\n",
              "      <th>Absent</th>\n",
              "      <td>0.016644</td>\n",
              "      <td>0.540501</td>\n",
              "      <td>0.443876</td>\n",
              "      <td>1.000000</td>\n",
              "      <td>-0.015763</td>\n",
              "      <td>-0.379628</td>\n",
              "    </tr>\n",
              "    <tr>\n",
              "      <th>Released</th>\n",
              "      <td>-0.001931</td>\n",
              "      <td>0.008282</td>\n",
              "      <td>-0.054243</td>\n",
              "      <td>-0.015763</td>\n",
              "      <td>1.000000</td>\n",
              "      <td>-0.407773</td>\n",
              "    </tr>\n",
              "    <tr>\n",
              "      <th>Percentage</th>\n",
              "      <td>-0.022039</td>\n",
              "      <td>0.189396</td>\n",
              "      <td>0.278203</td>\n",
              "      <td>-0.379628</td>\n",
              "      <td>-0.407773</td>\n",
              "      <td>1.000000</td>\n",
              "    </tr>\n",
              "  </tbody>\n",
              "</table>\n",
              "</div>"
            ],
            "text/plain": [
              "            SchoolYear  Enrolled   Present    Absent  Released  Percentage\n",
              "SchoolYear    1.000000 -0.003342 -0.005629  0.016644 -0.001931   -0.022039\n",
              "Enrolled     -0.003342  1.000000  0.991840  0.540501  0.008282    0.189396\n",
              "Present      -0.005629  0.991840  1.000000  0.443876 -0.054243    0.278203\n",
              "Absent        0.016644  0.540501  0.443876  1.000000 -0.015763   -0.379628\n",
              "Released     -0.001931  0.008282 -0.054243 -0.015763  1.000000   -0.407773\n",
              "Percentage   -0.022039  0.189396  0.278203 -0.379628 -0.407773    1.000000"
            ]
          },
          "metadata": {},
          "execution_count": 35
        }
      ]
    },
    {
      "cell_type": "code",
      "metadata": {
        "colab": {
          "base_uri": "https://localhost:8080/",
          "height": 166
        },
        "id": "-QC1cE4N8f6J",
        "outputId": "860386bb-bee7-4293-8f3d-1cab8ce85e9c"
      },
      "source": [
        "df_corr.style.background_gradient(cmap='coolwarm')"
      ],
      "execution_count": 45,
      "outputs": [
        {
          "output_type": "execute_result",
          "data": {
            "text/html": [
              "<style  type=\"text/css\" >\n",
              "#T_295cc782_1041_11ec_b079_0242ac1c0002row0_col0,#T_295cc782_1041_11ec_b079_0242ac1c0002row1_col1,#T_295cc782_1041_11ec_b079_0242ac1c0002row2_col2,#T_295cc782_1041_11ec_b079_0242ac1c0002row3_col3,#T_295cc782_1041_11ec_b079_0242ac1c0002row4_col4,#T_295cc782_1041_11ec_b079_0242ac1c0002row5_col5{\n",
              "            background-color:  #b40426;\n",
              "            color:  #f1f1f1;\n",
              "        }#T_295cc782_1041_11ec_b079_0242ac1c0002row0_col1,#T_295cc782_1041_11ec_b079_0242ac1c0002row4_col2,#T_295cc782_1041_11ec_b079_0242ac1c0002row4_col5,#T_295cc782_1041_11ec_b079_0242ac1c0002row5_col0,#T_295cc782_1041_11ec_b079_0242ac1c0002row5_col3,#T_295cc782_1041_11ec_b079_0242ac1c0002row5_col4{\n",
              "            background-color:  #3b4cc0;\n",
              "            color:  #f1f1f1;\n",
              "        }#T_295cc782_1041_11ec_b079_0242ac1c0002row0_col2{\n",
              "            background-color:  #485fd1;\n",
              "            color:  #f1f1f1;\n",
              "        }#T_295cc782_1041_11ec_b079_0242ac1c0002row0_col3,#T_295cc782_1041_11ec_b079_0242ac1c0002row0_col4{\n",
              "            background-color:  #9abbff;\n",
              "            color:  #000000;\n",
              "        }#T_295cc782_1041_11ec_b079_0242ac1c0002row0_col5{\n",
              "            background-color:  #96b7ff;\n",
              "            color:  #000000;\n",
              "        }#T_295cc782_1041_11ec_b079_0242ac1c0002row1_col0,#T_295cc782_1041_11ec_b079_0242ac1c0002row2_col0{\n",
              "            background-color:  #3f53c6;\n",
              "            color:  #f1f1f1;\n",
              "        }#T_295cc782_1041_11ec_b079_0242ac1c0002row1_col2{\n",
              "            background-color:  #b50927;\n",
              "            color:  #f1f1f1;\n",
              "        }#T_295cc782_1041_11ec_b079_0242ac1c0002row1_col3{\n",
              "            background-color:  #f7b89c;\n",
              "            color:  #000000;\n",
              "        }#T_295cc782_1041_11ec_b079_0242ac1c0002row1_col4{\n",
              "            background-color:  #9dbdff;\n",
              "            color:  #000000;\n",
              "        }#T_295cc782_1041_11ec_b079_0242ac1c0002row1_col5{\n",
              "            background-color:  #c7d7f0;\n",
              "            color:  #000000;\n",
              "        }#T_295cc782_1041_11ec_b079_0242ac1c0002row2_col1{\n",
              "            background-color:  #b70d28;\n",
              "            color:  #f1f1f1;\n",
              "        }#T_295cc782_1041_11ec_b079_0242ac1c0002row2_col3{\n",
              "            background-color:  #f1ccb8;\n",
              "            color:  #000000;\n",
              "        }#T_295cc782_1041_11ec_b079_0242ac1c0002row2_col4{\n",
              "            background-color:  #8db0fe;\n",
              "            color:  #000000;\n",
              "        }#T_295cc782_1041_11ec_b079_0242ac1c0002row2_col5{\n",
              "            background-color:  #d9dce1;\n",
              "            color:  #000000;\n",
              "        }#T_295cc782_1041_11ec_b079_0242ac1c0002row3_col0{\n",
              "            background-color:  #455cce;\n",
              "            color:  #f1f1f1;\n",
              "        }#T_295cc782_1041_11ec_b079_0242ac1c0002row3_col1{\n",
              "            background-color:  #e7d7ce;\n",
              "            color:  #000000;\n",
              "        }#T_295cc782_1041_11ec_b079_0242ac1c0002row3_col2{\n",
              "            background-color:  #d5dbe5;\n",
              "            color:  #000000;\n",
              "        }#T_295cc782_1041_11ec_b079_0242ac1c0002row3_col4{\n",
              "            background-color:  #97b8ff;\n",
              "            color:  #000000;\n",
              "        }#T_295cc782_1041_11ec_b079_0242ac1c0002row3_col5,#T_295cc782_1041_11ec_b079_0242ac1c0002row4_col0{\n",
              "            background-color:  #4055c8;\n",
              "            color:  #f1f1f1;\n",
              "        }#T_295cc782_1041_11ec_b079_0242ac1c0002row4_col1{\n",
              "            background-color:  #3d50c3;\n",
              "            color:  #f1f1f1;\n",
              "        }#T_295cc782_1041_11ec_b079_0242ac1c0002row4_col3{\n",
              "            background-color:  #92b4fe;\n",
              "            color:  #000000;\n",
              "        }#T_295cc782_1041_11ec_b079_0242ac1c0002row5_col1{\n",
              "            background-color:  #799cf8;\n",
              "            color:  #000000;\n",
              "        }#T_295cc782_1041_11ec_b079_0242ac1c0002row5_col2{\n",
              "            background-color:  #a3c2fe;\n",
              "            color:  #000000;\n",
              "        }</style><table id=\"T_295cc782_1041_11ec_b079_0242ac1c0002\" ><thead>    <tr>        <th class=\"blank level0\" ></th>        <th class=\"col_heading level0 col0\" >SchoolYear</th>        <th class=\"col_heading level0 col1\" >Enrolled</th>        <th class=\"col_heading level0 col2\" >Present</th>        <th class=\"col_heading level0 col3\" >Absent</th>        <th class=\"col_heading level0 col4\" >Released</th>        <th class=\"col_heading level0 col5\" >Percentage</th>    </tr></thead><tbody>\n",
              "                <tr>\n",
              "                        <th id=\"T_295cc782_1041_11ec_b079_0242ac1c0002level0_row0\" class=\"row_heading level0 row0\" >SchoolYear</th>\n",
              "                        <td id=\"T_295cc782_1041_11ec_b079_0242ac1c0002row0_col0\" class=\"data row0 col0\" >1.000000</td>\n",
              "                        <td id=\"T_295cc782_1041_11ec_b079_0242ac1c0002row0_col1\" class=\"data row0 col1\" >-0.003342</td>\n",
              "                        <td id=\"T_295cc782_1041_11ec_b079_0242ac1c0002row0_col2\" class=\"data row0 col2\" >-0.005629</td>\n",
              "                        <td id=\"T_295cc782_1041_11ec_b079_0242ac1c0002row0_col3\" class=\"data row0 col3\" >0.016644</td>\n",
              "                        <td id=\"T_295cc782_1041_11ec_b079_0242ac1c0002row0_col4\" class=\"data row0 col4\" >-0.001931</td>\n",
              "                        <td id=\"T_295cc782_1041_11ec_b079_0242ac1c0002row0_col5\" class=\"data row0 col5\" >-0.022039</td>\n",
              "            </tr>\n",
              "            <tr>\n",
              "                        <th id=\"T_295cc782_1041_11ec_b079_0242ac1c0002level0_row1\" class=\"row_heading level0 row1\" >Enrolled</th>\n",
              "                        <td id=\"T_295cc782_1041_11ec_b079_0242ac1c0002row1_col0\" class=\"data row1 col0\" >-0.003342</td>\n",
              "                        <td id=\"T_295cc782_1041_11ec_b079_0242ac1c0002row1_col1\" class=\"data row1 col1\" >1.000000</td>\n",
              "                        <td id=\"T_295cc782_1041_11ec_b079_0242ac1c0002row1_col2\" class=\"data row1 col2\" >0.991840</td>\n",
              "                        <td id=\"T_295cc782_1041_11ec_b079_0242ac1c0002row1_col3\" class=\"data row1 col3\" >0.540501</td>\n",
              "                        <td id=\"T_295cc782_1041_11ec_b079_0242ac1c0002row1_col4\" class=\"data row1 col4\" >0.008282</td>\n",
              "                        <td id=\"T_295cc782_1041_11ec_b079_0242ac1c0002row1_col5\" class=\"data row1 col5\" >0.189396</td>\n",
              "            </tr>\n",
              "            <tr>\n",
              "                        <th id=\"T_295cc782_1041_11ec_b079_0242ac1c0002level0_row2\" class=\"row_heading level0 row2\" >Present</th>\n",
              "                        <td id=\"T_295cc782_1041_11ec_b079_0242ac1c0002row2_col0\" class=\"data row2 col0\" >-0.005629</td>\n",
              "                        <td id=\"T_295cc782_1041_11ec_b079_0242ac1c0002row2_col1\" class=\"data row2 col1\" >0.991840</td>\n",
              "                        <td id=\"T_295cc782_1041_11ec_b079_0242ac1c0002row2_col2\" class=\"data row2 col2\" >1.000000</td>\n",
              "                        <td id=\"T_295cc782_1041_11ec_b079_0242ac1c0002row2_col3\" class=\"data row2 col3\" >0.443876</td>\n",
              "                        <td id=\"T_295cc782_1041_11ec_b079_0242ac1c0002row2_col4\" class=\"data row2 col4\" >-0.054243</td>\n",
              "                        <td id=\"T_295cc782_1041_11ec_b079_0242ac1c0002row2_col5\" class=\"data row2 col5\" >0.278203</td>\n",
              "            </tr>\n",
              "            <tr>\n",
              "                        <th id=\"T_295cc782_1041_11ec_b079_0242ac1c0002level0_row3\" class=\"row_heading level0 row3\" >Absent</th>\n",
              "                        <td id=\"T_295cc782_1041_11ec_b079_0242ac1c0002row3_col0\" class=\"data row3 col0\" >0.016644</td>\n",
              "                        <td id=\"T_295cc782_1041_11ec_b079_0242ac1c0002row3_col1\" class=\"data row3 col1\" >0.540501</td>\n",
              "                        <td id=\"T_295cc782_1041_11ec_b079_0242ac1c0002row3_col2\" class=\"data row3 col2\" >0.443876</td>\n",
              "                        <td id=\"T_295cc782_1041_11ec_b079_0242ac1c0002row3_col3\" class=\"data row3 col3\" >1.000000</td>\n",
              "                        <td id=\"T_295cc782_1041_11ec_b079_0242ac1c0002row3_col4\" class=\"data row3 col4\" >-0.015763</td>\n",
              "                        <td id=\"T_295cc782_1041_11ec_b079_0242ac1c0002row3_col5\" class=\"data row3 col5\" >-0.379628</td>\n",
              "            </tr>\n",
              "            <tr>\n",
              "                        <th id=\"T_295cc782_1041_11ec_b079_0242ac1c0002level0_row4\" class=\"row_heading level0 row4\" >Released</th>\n",
              "                        <td id=\"T_295cc782_1041_11ec_b079_0242ac1c0002row4_col0\" class=\"data row4 col0\" >-0.001931</td>\n",
              "                        <td id=\"T_295cc782_1041_11ec_b079_0242ac1c0002row4_col1\" class=\"data row4 col1\" >0.008282</td>\n",
              "                        <td id=\"T_295cc782_1041_11ec_b079_0242ac1c0002row4_col2\" class=\"data row4 col2\" >-0.054243</td>\n",
              "                        <td id=\"T_295cc782_1041_11ec_b079_0242ac1c0002row4_col3\" class=\"data row4 col3\" >-0.015763</td>\n",
              "                        <td id=\"T_295cc782_1041_11ec_b079_0242ac1c0002row4_col4\" class=\"data row4 col4\" >1.000000</td>\n",
              "                        <td id=\"T_295cc782_1041_11ec_b079_0242ac1c0002row4_col5\" class=\"data row4 col5\" >-0.407773</td>\n",
              "            </tr>\n",
              "            <tr>\n",
              "                        <th id=\"T_295cc782_1041_11ec_b079_0242ac1c0002level0_row5\" class=\"row_heading level0 row5\" >Percentage</th>\n",
              "                        <td id=\"T_295cc782_1041_11ec_b079_0242ac1c0002row5_col0\" class=\"data row5 col0\" >-0.022039</td>\n",
              "                        <td id=\"T_295cc782_1041_11ec_b079_0242ac1c0002row5_col1\" class=\"data row5 col1\" >0.189396</td>\n",
              "                        <td id=\"T_295cc782_1041_11ec_b079_0242ac1c0002row5_col2\" class=\"data row5 col2\" >0.278203</td>\n",
              "                        <td id=\"T_295cc782_1041_11ec_b079_0242ac1c0002row5_col3\" class=\"data row5 col3\" >-0.379628</td>\n",
              "                        <td id=\"T_295cc782_1041_11ec_b079_0242ac1c0002row5_col4\" class=\"data row5 col4\" >-0.407773</td>\n",
              "                        <td id=\"T_295cc782_1041_11ec_b079_0242ac1c0002row5_col5\" class=\"data row5 col5\" >1.000000</td>\n",
              "            </tr>\n",
              "    </tbody></table>"
            ],
            "text/plain": [
              "<pandas.io.formats.style.Styler at 0x7fed404b6350>"
            ]
          },
          "metadata": {},
          "execution_count": 45
        }
      ]
    }
  ]
}